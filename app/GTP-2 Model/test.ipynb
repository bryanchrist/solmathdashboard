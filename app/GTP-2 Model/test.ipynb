{
 "cells": [
  {
   "cell_type": "code",
   "execution_count": 63,
   "id": "6e50bb83-7d21-4892-b7dd-b360d4099dbe",
   "metadata": {},
   "outputs": [],
   "source": [
    "import torch\n",
    "from transformers import GPT2LMHeadModel, GPT2Tokenizer"
   ]
  },
  {
   "cell_type": "code",
   "execution_count": 64,
   "id": "1bbd13dc-a6a7-46ef-aa07-ac3e119538fc",
   "metadata": {},
   "outputs": [],
   "source": [
    "text = (\"\"\"Which number makes this equation true? 3 X ___ = 30\n",
    "Which number is a common factor of 72, 63, and 54?\n",
    "13.4 + 10.3 = ___\n",
    "Nyzir drinks 1.84 liters of Gatorade. Katie drinks 0.999 liter of Gatorade. How much more Gatorade does Nyzir drink than Katie?\n",
    "Tyrek ran a total of 74 minutes in a 2-day period. He ran the same number of minutes each day. What is the closest to the number of minutes Tyrek ran each day?\n",
    "Which division statement represents 6/8?\n",
    "What is the sum of 3/3 and 9/3?\n",
    "What is the difference between 7/48 and 3/24?\n",
    "What is the least common multiple of 20 and 36?\n",
    "Robin has 15 bags of 19 Skittles. Sam has 2 bags of 15 Skittles. How many Skittles do they have altogether?\n",
    "Gina has 19 bags of 15 Pretzels. How many Pretzels does she have?\n",
    "Tyrek has 9 profiles with 16 Fornite skins. How many Fornite skins does he have?\n",
    "Nyzir has 11 bags of 5 Pretzels. How many Pretzels does he have?\n",
    "Katie sold 595 Girlscout cookie boxes. Each box cost $9. What was the total cost of all the Girlscout cookie boxes sold?\n",
    "Nyzir does 27 sit-ups 3 times per day. What is the total number of sit-ups Nyzir does in 8 days?\n",
    "What is the product of 58 and 92?\n",
    "Denari poured 8 ounces of Gatorade into each of 16 glasses. Exactly how many ounces of Gatorade did Denari pour into all of these glasses?\n",
    "Use grouping to find 7 X 8.\n",
    "What is the difference between 3077 and 305?\n",
    "At a store, Girlscout cookie boxes cost $19 each. Which is closest to the total cost of 58 Girlscout cookie boxes?\n",
    "Which figure has less than four angles?\n",
    "Denari has 8 gallons of Gatorade. What is the total number of pints of Gatorade she has?\n",
    "4 meters = ___ centimeters\n",
    "Denari's turtle weighed 3 pounds. What is the total number of ounces Denari's turtle weighed?\n",
    "A basketball team left the school at 3:11 P.M. and returned at 9:33 P.M. What was the total amount of time that passed between the time this team left and returned to the school?\n",
    "How is 3.57 written in words?\n",
    "Which of the four following numbers is smallest? 13.69, 13.83, 13.59, 13.24\n",
    "What digit is in the hundredths place in 17.5?\n",
    "Which number, when rounded to the nearest hundredth, is equal to 9.42?\n",
    "Order these fractions from least to greatest: 7/5, 4/5, 3/5\n",
    "Identify the place value for each digit in the number 188,510.\n",
    "What is 5,713,117 rounded to the nearest million?\n",
    "What is\"\"\")"
   ]
  },
  {
   "cell_type": "code",
   "execution_count": 65,
   "id": "fc7105f1-432b-4bf5-99e1-aa7c6c731af3",
   "metadata": {},
   "outputs": [],
   "source": [
    "tokenizer = GPT2Tokenizer.from_pretrained('gpt2')\n",
    "model = GPT2LMHeadModel.from_pretrained('gpt2')"
   ]
  },
  {
   "cell_type": "code",
   "execution_count": 66,
   "id": "738fc102-4708-4905-8fee-aff8551aff7a",
   "metadata": {},
   "outputs": [],
   "source": [
    "inputs = tokenizer.encode(text, return_tensors = 'pt')"
   ]
  },
  {
   "cell_type": "code",
   "execution_count": 69,
   "id": "fa28a557-f27b-4c19-9d43-2903d0325230",
   "metadata": {},
   "outputs": [
    {
     "name": "stderr",
     "output_type": "stream",
     "text": [
      "The attention mask and the pad token id were not set. As a consequence, you may observe unexpected behavior. Please pass your input's `attention_mask` to obtain reliable results.\n",
      "Setting `pad_token_id` to `eos_token_id`:50256 for open-end generation.\n"
     ]
    }
   ],
   "source": [
    "outputs = model.generate(inputs, max_length = 1000, do_sample=True, top_k=50)"
   ]
  },
  {
   "cell_type": "code",
   "execution_count": 70,
   "id": "37769650-1588-4bef-80f2-33238658a7a1",
   "metadata": {},
   "outputs": [
    {
     "name": "stdout",
     "output_type": "stream",
     "text": [
      "Which number makes this equation true? 3 X ___ = 30\n",
      "Which number is a common factor of 72, 63, and 54?\n",
      "13.4 + 10.3 = ___\n",
      "Nyzir drinks 1.84 liters of Gatorade. Katie drinks 0.999 liter of Gatorade. How much more Gatorade does Nyzir drink than Katie?\n",
      "Tyrek ran a total of 74 minutes in a 2-day period. He ran the same number of minutes each day. What is the closest to the number of minutes Tyrek ran each day?\n",
      "Which division statement represents 6/8?\n",
      "What is the sum of 3/3 and 9/3?\n",
      "What is the difference between 7/48 and 3/24?\n",
      "What is the least common multiple of 20 and 36?\n",
      "Robin has 15 bags of 19 Skittles. Sam has 2 bags of 15 Skittles. How many Skittles do they have altogether?\n",
      "Gina has 19 bags of 15 Pretzels. How many Pretzels does she have?\n",
      "Tyrek has 9 profiles with 16 Fornite skins. How many Fornite skins does he have?\n",
      "Nyzir has 11 bags of 5 Pretzels. How many Pretzels does he have?\n",
      "Katie sold 595 Girlscout cookie boxes. Each box cost $9. What was the total cost of all the Girlscout cookie boxes sold?\n",
      "Nyzir does 27 sit-ups 3 times per day. What is the total number of sit-ups Nyzir does in 8 days?\n",
      "What is the product of 58 and 92?\n",
      "Denari poured 8 ounces of Gatorade into each of 16 glasses. Exactly how many ounces of Gatorade did Denari pour into all of these glasses?\n",
      "Use grouping to find 7 X 8.\n",
      "What is the difference between 3077 and 305?\n",
      "At a store, Girlscout cookie boxes cost $19 each. Which is closest to the total cost of 58 Girlscout cookie boxes?\n",
      "Which figure has less than four angles?\n",
      "Denari has 8 gallons of Gatorade. What is the total number of pints of Gatorade she has?\n",
      "4 meters = ___ centimeters\n",
      "Denari's turtle weighed 3 pounds. What is the total number of ounces Denari's turtle weighed?\n",
      "A basketball team left the school at 3:11 P.M. and returned at 9:33 P.M. What was the total amount of time that passed between the time this team left and returned to the school?\n",
      "How is 3.57 written in words?\n",
      "Which of the four following numbers is smallest? 13.69, 13.83, 13.59, 13.24\n",
      "What digit is in the hundredths place in 17.5?\n",
      "Which number, when rounded to the nearest hundredth, is equal to 9.42?\n",
      "Order these fractions from least to greatest: 7/5, 4/5, 3/5\n",
      "Identify the place value for each digit in the number 188,510.\n",
      "What is 5,713,117 rounded to the nearest million?\n",
      "What is 6,983,906 the longest distance apart in 15 seconds?\n",
      "What is 17,846,836 the longest distance apart in 6.5 seconds?\n",
      "What is 23,944,852 the longest distance apart in 13 seconds?\n",
      "I am not sure about you, but I'm pretty sure you want to know. Why is it that you only read one page of the book, and only read the part about a day in between sitting in line and drinking that day's Gatorade? I remember thinking that I should take some of that time and come back and check the number. Why go to the library? Why do people read books I don't watch, when I don't think about them?\n",
      "The number 23,944 is the highest in the alphabet but the sixth most common. I think I should find that number as well so that the next time you try, you will hear from me a thousand ways that I might be reading that chapter of your childhood. Well, that does seem quite a few stories, you shall understand. What is the last word you have heard?\n",
      "I am not the only one who has forgotten: I don't know. I'm the only one who had an encounter in an obscure spot in Brooklyn on a Sunday when everyone knew the name of the last person who ever lived in this country.\n",
      "And no one remembers him now :)\n"
     ]
    }
   ],
   "source": [
    "text = tokenizer.decode(outputs[0], skip_special_tokens=True)\n",
    "print(text)"
   ]
  },
  {
   "cell_type": "code",
   "execution_count": null,
   "id": "f1f4fea4-fb00-4289-8d97-c3219732ab1a",
   "metadata": {},
   "outputs": [],
   "source": []
  }
 ],
 "metadata": {
  "kernelspec": {
   "display_name": "Python 3 (ipykernel)",
   "language": "python",
   "name": "python3"
  },
  "language_info": {
   "codemirror_mode": {
    "name": "ipython",
    "version": 3
   },
   "file_extension": ".py",
   "mimetype": "text/x-python",
   "name": "python",
   "nbconvert_exporter": "python",
   "pygments_lexer": "ipython3",
   "version": "3.10.6"
  }
 },
 "nbformat": 4,
 "nbformat_minor": 5
}
