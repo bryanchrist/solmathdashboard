{
 "cells": [
  {
   "cell_type": "code",
   "execution_count": 1,
   "id": "cfe15750-94fe-45d8-87bd-fcaea9f4a9e1",
   "metadata": {},
   "outputs": [
    {
     "name": "stderr",
     "output_type": "stream",
     "text": [
      "/tmp/ipykernel_2935/1273685219.py:3: UserWarning: \n",
      "The dash_core_components package is deprecated. Please replace\n",
      "`import dash_core_components as dcc` with `from dash import dcc`\n",
      "  import dash_core_components as dcc\n",
      "/tmp/ipykernel_2935/1273685219.py:4: UserWarning: \n",
      "The dash_html_components package is deprecated. Please replace\n",
      "`import dash_html_components as html` with `from dash import html`\n",
      "  import dash_html_components as html\n",
      "/tmp/ipykernel_2935/1273685219.py:5: UserWarning: \n",
      "The dash_table package is deprecated. Please replace\n",
      "`import dash_table` with `from dash import dash_table`\n",
      "\n",
      "Also, if you're using any of the table format helpers (e.g. Group), replace \n",
      "`from dash_table.Format import Group` with \n",
      "`from dash.dash_table.Format import Group`\n",
      "  import dash_table as dt\n"
     ]
    }
   ],
   "source": [
    "import dash\n",
    "from jupyter_dash import JupyterDash\n",
    "import dash_core_components as dcc\n",
    "import dash_html_components as html\n",
    "import dash_table as dt\n",
    "from dash.dependencies import Input, Output, State\n",
    "import templates\n",
    "import inspect\n",
    "import pandas as pd\n",
    "import numpy as np\n",
    "import warnings\n",
    "import dash_bootstrap_components as dbc\n",
    "import dash_table_experiments as dt\n",
    "from dash.exceptions import PreventUpdate\n",
    "warnings.filterwarnings('ignore')"
   ]
  },
  {
   "cell_type": "markdown",
   "id": "d64eaf7a-2e27-451a-965d-e8882782b14a",
   "metadata": {},
   "source": [
    "# Steps\n",
    "- Get it to display the graphical and table-based ones\n",
    "- Get it to display right number of questions\n",
    "- Have answer box display only after generating question\n",
    "- Fix decimal rounding\n"
   ]
  },
  {
   "cell_type": "code",
   "execution_count": 2,
   "id": "ed70a0b1-77f7-46ff-8e72-2ed363d56ab4",
   "metadata": {},
   "outputs": [],
   "source": [
    "classes = []\n",
    "standards = []\n",
    "topics = []\n",
    "grade_levels = []\n",
    "for name, obj in inspect.getmembers(templates):\n",
    "    if inspect.isclass(obj):\n",
    "        classes.append(obj)"
   ]
  },
  {
   "cell_type": "code",
   "execution_count": 3,
   "id": "c7b68066-4071-4440-a756-1607db387971",
   "metadata": {},
   "outputs": [],
   "source": [
    "for j in range(len(classes)):\n",
    "    x = classes[j]()\n",
    "    standard = x.attr1 \n",
    "    topic = x.attr2 \n",
    "    topics.append(topic)\n",
    "    grade_level = x.attr3 \n",
    "    standards.append(standard)\n",
    "    grade_levels.append(grade_level)"
   ]
  },
  {
   "cell_type": "code",
   "execution_count": 4,
   "id": "901f3861-0cc7-4ea0-a095-802262207d85",
   "metadata": {},
   "outputs": [],
   "source": [
    "df = pd.DataFrame({\"Class\": classes, \"Grade_level\": grade_levels, \"Standard\": standards, \"Topic\": topics})\n",
    "df.to_csv(\"4th grade dataframe\")"
   ]
  },
  {
   "cell_type": "code",
   "execution_count": 5,
   "id": "0e38d7e2-9d98-4a52-a6b7-e0bb5162b44a",
   "metadata": {},
   "outputs": [],
   "source": [
    "all_topics = list(df['Topic'])\n",
    "topics = []\n",
    "for x in all_topics:\n",
    "    if x not in topics:\n",
    "        topics.append(x)"
   ]
  },
  {
   "cell_type": "code",
   "execution_count": 6,
   "id": "fd08ce21-fd68-4aed-9476-14ecca46bb83",
   "metadata": {},
   "outputs": [],
   "source": [
    "markdown_text = '''\n",
    "Please use this dashboard to select the number and type of SOL questions you would like to practice. Once you select the questions, they will display directly on the webpage.\n",
    "\n",
    "Please insert your answers directly in the field provided. Good luck!'''"
   ]
  },
  {
   "cell_type": "code",
   "execution_count": 7,
   "id": "bdeafa5f-c2b6-490a-9dc7-0434c8fb3e4e",
   "metadata": {},
   "outputs": [],
   "source": [
    "external_stylesheets = ['https://codepen.io/chriddyp/pen/bWLwgP.css']"
   ]
  },
  {
   "cell_type": "code",
   "execution_count": 8,
   "id": "eda5f3b3-99a4-4359-a173-634a5cc65c42",
   "metadata": {},
   "outputs": [
    {
     "name": "stdout",
     "output_type": "stream",
     "text": [
      "Dash app running on http://0.0.0.0:8050/\n"
     ]
    }
   ],
   "source": [
    "#Option 2\n",
    "app = JupyterDash(__name__, external_stylesheets=external_stylesheets)\n",
    "\n",
    "app.layout = html.Div(\n",
    "    [\n",
    "        html.H1(\"SOL Math Data Dashboard\"),    \n",
    "        \n",
    "        dcc.Markdown(children = markdown_text),\n",
    "        \n",
    "        html.Div([\n",
    "            \n",
    "            html.H3(\"Grade\"),\n",
    "\n",
    "            dcc.RadioItems(id='grade_level',\n",
    "                options=[4],\n",
    "                value=4),\n",
    "\n",
    "            html.H3(\"Standard\"),\n",
    "\n",
    "            dcc.RadioItems(id='standard',\n",
    "                options=['Computation and Estimation','Number and Number Sense', 'Measurement and Geometry', 'Probability, Statistics, Patterns, Functions, and Algebra']),\n",
    "            \n",
    "            html.H3(\"Number of Questions\"),\n",
    "\n",
    "            dcc.Dropdown(id='num_questions',\n",
    "                options=[{'label': i, 'value': i} for i in range(26)]),\n",
    "            \n",
    "            html.Button(id='submit', n_clicks=0, children = 'Create Question(s)', style = {'fontsize': '14'}),\n",
    "\n",
    "        ], style={'width': '24%', 'float': 'left'}),\n",
    "         html.Div([\n",
    "            dcc.Markdown(id='question'),\n",
    "            dcc.Markdown(id='choices'),\n",
    "            dcc.Input(id = 'student_answer', type='text', placeholder = \"Enter your answer here.\", debounce = True),\n",
    "            html.Div(html.Button('Submit Answer', id= 'submit-val', n_clicks=0)),\n",
    "            dcc.Markdown(id='feedback'),\n",
    "            dcc.Store(id = 'correct_answer'),\n",
    "            dcc.Store(id = 'topic')\n",
    "        ], style={'width': '74%', 'float': 'right', 'font-weight': 'bold', 'font-size': '20px'})\n",
    "        \n",
    "        \n",
    "    ]\n",
    ")\n",
    "#figure out what componenet ID and component property will be here\n",
    "@app.callback([Output(component_id=\"question\",component_property=\"children\"), \n",
    "               Output(component_id=\"choices\",component_property=\"children\"), \n",
    "              Output(component_id = 'correct_answer', component_property = 'data'),\n",
    "              Output(component_id='topic', component_property='data'), \n",
    "              Output(component_id = 'submit-val', component_property = \"n_clicks\")],\n",
    "                  [Input(component_id='grade_level',component_property=\"value\"),\n",
    "                   Input(component_id='standard',component_property=\"value\"),\n",
    "                  Input(component_id='num_questions',component_property=\"value\"),\n",
    "                  Input(component_id = 'submit', component_property= 'n_clicks')])\n",
    "\n",
    "def pull_question(grade_level, standard, num_questions, n_clicks, df=df):\n",
    "    if n_clicks>0:\n",
    "        temp_df= df.query(\"Standard == '{standard}' & Grade_level == {grade_level}\".format(standard=standard, grade_level=grade_level))\n",
    "        temp_df = temp_df.sample(n = num_questions, replace= True)\n",
    "        for i in range(num_questions):\n",
    "            target_class = temp_df.iloc[i]['Class']\n",
    "            x= target_class()\n",
    "            try: \n",
    "                question = x.print_question()\n",
    "                choices= x.print_choices()\n",
    "                answer = x.correct_letter\n",
    "                topic = x.attr2\n",
    "                choices = choices.to_markdown()\n",
    "                return question, choices, answer, topic, 0\n",
    "            except:\n",
    "                question = x.print_question()\n",
    "                choices = ''\n",
    "                answer = x.answer\n",
    "                topic = x.attr2\n",
    "                return question, choices, answer, topic, 0\n",
    "    if n_clicks==0:\n",
    "        return 'Please select a grade level, standard, and number of questions to get started.', \"\", \"\", \"\", 0\n",
    "\n",
    "@app.callback(Output(component_id=\"feedback\",component_property=\"children\"),\n",
    "              [Input(component_id = 'correct_answer', component_property = 'data'),\n",
    "               Input(component_id = 'student_answer', component_property='value'),\n",
    "              Input(component_id='topic', component_property = 'data'), \n",
    "              Input(component_id = 'submit-val', component_property='n_clicks')])\n",
    "\n",
    "def answer_question(correct_answer, student_answer, topic, n_clicks):\n",
    "    if n_clicks==0:\n",
    "        return \"\"\n",
    "    if n_clicks == 1:\n",
    "        if \"Fraction Addition/Subtraction\" in topic:\n",
    "            try:\n",
    "                student_answer= student_answer.split(\"/\")\n",
    "                num = int(student_answer[0])\n",
    "                denom = int(student_answer[1])\n",
    "                student_answer = num/denom\n",
    "                if student_answer == correct_answer:\n",
    "                    return \"You got the right answer. Nice work!\"\n",
    "                if student_answer != correct_answer:\n",
    "                    return \"You didn't get the right answer this time. Keep trying and don't give up!\"\n",
    "            except:\n",
    "                return \"Next time, please enter your answer as a fraction such as 1/8.\"\n",
    "        if \"Fraction Ordering\" in topic:\n",
    "            try:\n",
    "                fraction = student_answer.split(\", \")\n",
    "                numbers= []\n",
    "                for item in fraction:\n",
    "                    item = item.split(\"/\")\n",
    "                    numbers.append(item)\n",
    "                numbers2= []\n",
    "                for number in numbers:\n",
    "                    num = int(number[0])\n",
    "                    denom= int(number[1])\n",
    "                    answer = num/denom\n",
    "                    numbers2.append(answer)\n",
    "                if numbers2 == correct_answer:\n",
    "                    return \"You got the right answer. Nice work!\"\n",
    "                if numbers2 != correct_answer:\n",
    "                    return \"You didn't get the right answer this time. Keep trying and don't give up!\"\n",
    "            except:\n",
    "                return \"Next time, please enter your answer as a list of fractions separated by commas and a space.\"\n",
    "        else:\n",
    "            if student_answer == correct_answer:\n",
    "                    return \"You got the right answer. Nice work!\"\n",
    "            if student_answer != correct_answer:\n",
    "                return \"You didn't get the right answer this time. Keep trying and don't give up!\"\n",
    "    else:\n",
    "        return \"Please select a new question.\"\n",
    "    \n",
    "if __name__== \"__main__\":\n",
    "    app.run_server(mode= 'external', host = \"0.0.0.0\", debug=True)"
   ]
  },
  {
   "cell_type": "code",
   "execution_count": null,
   "id": "e902f08c-9043-487d-9e8c-6df282853edc",
   "metadata": {},
   "outputs": [],
   "source": []
  }
 ],
 "metadata": {
  "kernelspec": {
   "display_name": "Python 3 (ipykernel)",
   "language": "python",
   "name": "python3"
  },
  "language_info": {
   "codemirror_mode": {
    "name": "ipython",
    "version": 3
   },
   "file_extension": ".py",
   "mimetype": "text/x-python",
   "name": "python",
   "nbconvert_exporter": "python",
   "pygments_lexer": "ipython3",
   "version": "3.10.8"
  }
 },
 "nbformat": 4,
 "nbformat_minor": 5
}
