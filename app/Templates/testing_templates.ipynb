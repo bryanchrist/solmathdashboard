{
 "cells": [
  {
   "cell_type": "markdown",
   "id": "f0762ac7-93e8-4887-afda-0b228b85f315",
   "metadata": {
    "tags": []
   },
   "source": [
    "# Testing Environment for Python Templates\n",
    "\n",
    "### General notes/areas for improvement\n",
    "- Need to build in repeating question if they get it wrong\n",
    "- Turning fraction questions into multiple choice\n",
    "- Okay some questions are student inputs? \n",
    "- How to tell python to format a,b,c,d as strings versus answer for g4_number_sense_fraction_ordering() as a list and fraction questions as inputs\n",
    "- Decimal place value infinite loop\n",
    "- g4_number_sense_decimal_round() too easy for certain numbers?\n",
    "- sometimes g4_number_sense_decimal_place_value() runs and others it is an infinite loop\n",
    "- g4_number_sense_decimal_in_words() doesn't read like SOL does\n",
    "- how to get answer key to display correctly on g4_number_sense_big_number_in_words()\n",
    "- not sure if g4_geometry_shapes_angles() is too hard\n",
    "- Next steps\n",
    "    - Right now function creates an infinite loop for searching by question sometimes and other times works- seems to work only on small numbers- maybe that's because it hits the graphical questions? \n",
    "\n",
    "### Possible additions\n",
    "- picture questions\n",
    "- Three next steps\n",
    "    - Dashboard\n",
    "    - Training set for generation model\n",
    "    - Pictures/shapes\n",
    "    - Create a dataframe with class, standard, topic and gradelevel for each question and then query it \n",
    "        - do this with the inspect command\n",
    "            - if it is a class extract all this from the class \n",
    "            - store dataframe as a CSV file\n",
    "        - dataframe query, select rows with replacement bsample- random.choices()\n",
    "        - Then turn it into a database \n",
    "    - Go through code and see everywhere I use a while loop and see if there is a faster way to do it using pandas and numpy instead \n",
    "    - Come with examples for shape questions to work on next week - both simple and complicated\n",
    "\n",
    "Next: Get rid of while loops, function to pull questions, how to turn it into database, how to return two things without a tuple (running decimal chart), dropping missing rows from camelot DF and storing images in a DB, decimal place value, then fractions, then answer key on big number in words, then formatting of responses and repeating prompts until they answer a question right\n"
   ]
  },
  {
   "cell_type": "code",
   "execution_count": 1,
   "id": "ff334042-9778-4585-9ce8-ce839cbe35e7",
   "metadata": {},
   "outputs": [],
   "source": [
    "import templates\n",
    "import random\n",
    "import inspect\n",
    "import math\n",
    "from fractions import Fraction\n",
    "import matplotlib.pyplot as plt\n",
    "import pandas as pd\n",
    "import numpy as np"
   ]
  },
  {
   "cell_type": "code",
   "execution_count": 5,
   "id": "b3e96d06-5890-478d-9c14-02e9fd883386",
   "metadata": {},
   "outputs": [],
   "source": [
    "x = templates.g4_measurement_gallons_to_pints()"
   ]
  },
  {
   "cell_type": "code",
   "execution_count": 6,
   "id": "9873bea4-f6f0-4448-a1ca-23a9b5b8733e",
   "metadata": {},
   "outputs": [
    {
     "data": {
      "text/plain": [
       "'Gina has 2 gallons of iced tea. What is the total number of pints of iced tea she has?'"
      ]
     },
     "execution_count": 6,
     "metadata": {},
     "output_type": "execute_result"
    }
   ],
   "source": [
    "x.print_question()"
   ]
  },
  {
   "cell_type": "code",
   "execution_count": 7,
   "id": "db0fdd10-124c-4b99-aa2d-09716b1fb336",
   "metadata": {},
   "outputs": [
    {
     "data": {
      "text/html": [
       "<div>\n",
       "<style scoped>\n",
       "    .dataframe tbody tr th:only-of-type {\n",
       "        vertical-align: middle;\n",
       "    }\n",
       "\n",
       "    .dataframe tbody tr th {\n",
       "        vertical-align: top;\n",
       "    }\n",
       "\n",
       "    .dataframe thead th {\n",
       "        text-align: right;\n",
       "    }\n",
       "</style>\n",
       "<table border=\"1\" class=\"dataframe\">\n",
       "  <thead>\n",
       "    <tr style=\"text-align: right;\">\n",
       "      <th></th>\n",
       "      <th></th>\n",
       "    </tr>\n",
       "  </thead>\n",
       "  <tbody>\n",
       "    <tr>\n",
       "      <th>a</th>\n",
       "      <td>32</td>\n",
       "    </tr>\n",
       "    <tr>\n",
       "      <th>b</th>\n",
       "      <td>40</td>\n",
       "    </tr>\n",
       "    <tr>\n",
       "      <th>c</th>\n",
       "      <td>10</td>\n",
       "    </tr>\n",
       "    <tr>\n",
       "      <th>d</th>\n",
       "      <td>16</td>\n",
       "    </tr>\n",
       "  </tbody>\n",
       "</table>\n",
       "</div>"
      ],
      "text/plain": [
       "     \n",
       "a  32\n",
       "b  40\n",
       "c  10\n",
       "d  16"
      ]
     },
     "execution_count": 7,
     "metadata": {},
     "output_type": "execute_result"
    }
   ],
   "source": [
    "x.print_choices()"
   ]
  },
  {
   "cell_type": "code",
   "execution_count": 8,
   "id": "46f12e61-3821-40e4-8887-e2c2036c22c9",
   "metadata": {},
   "outputs": [
    {
     "data": {
      "text/plain": [
       "\"You didn't get the right answer this time. Keep trying and don't give up!\""
      ]
     },
     "execution_count": 8,
     "metadata": {},
     "output_type": "execute_result"
    }
   ],
   "source": [
    "x.student_answer('b')"
   ]
  },
  {
   "cell_type": "code",
   "execution_count": null,
   "id": "e1ffe768-7d8f-4c60-8a9d-019c53981d96",
   "metadata": {},
   "outputs": [],
   "source": [
    "\n",
    "        \n",
    "       \n",
    "        \n",
    "        \n",
    "        \n",
    "        \n",
    "        \n",
    "        while len(self.wrong_answers)<3:\n",
    "            wrong= random.randint(1,9)*16\n",
    "            if wrong != self.answer and wrong not in self.wrong_answers: \n",
    "                self.wrong_answers.append(wrong)\n",
    "        self.choices = [self.answer] + self.wrong_answers\n",
    "        random.shuffle(self.choices)\n",
    "        self.correct_index = self.choices.index(self.answer)\n",
    "        self.correct_letter = ['a', 'b', 'c', 'd'][self.correct_index]"
   ]
  },
  {
   "cell_type": "code",
   "execution_count": 13,
   "id": "0ccea3ab-a0de-416d-a39b-624d0ce413cd",
   "metadata": {},
   "outputs": [
    {
     "data": {
      "text/plain": [
       "[templates.g4_algebra_make_equation_true,\n",
       " templates.g4_computation_big_num_addition,\n",
       " templates.g4_computation_big_num_subtraction,\n",
       " templates.g4_computation_common_factor_word_problem,\n",
       " templates.g4_computation_decimal_addition,\n",
       " templates.g4_computation_decimal_subtraction_drinks,\n",
       " templates.g4_computation_division_statement,\n",
       " templates.g4_computation_fraction_addition,\n",
       " templates.g4_computation_fraction_subtraction,\n",
       " templates.g4_computation_lcm_word_problem,\n",
       " templates.g4_computation_multiplication_double_bags,\n",
       " templates.g4_computation_multiplication_female_bags,\n",
       " templates.g4_computation_multiplication_fortnite,\n",
       " templates.g4_computation_multiplication_male_bags,\n",
       " templates.g4_computation_multiplication_selling_items,\n",
       " templates.g4_computation_multiplication_situps,\n",
       " templates.g4_computation_multiplication_specific_method,\n",
       " templates.g4_computation_multiplication_two_digit_word_problem,\n",
       " templates.g4_computation_multiplication_with_drinks,\n",
       " templates.g4_computation_subtraction_word_problem,\n",
       " templates.g4_estimation_division_running_problem,\n",
       " templates.g4_estimation_multiplication_store,\n",
       " templates.g4_functions_weather_graph,\n",
       " templates.g4_geometry_shapes_angles,\n",
       " templates.g4_measurement_gallons_to_pints,\n",
       " templates.g4_measurement_meters_to_millimeters,\n",
       " templates.g4_measurement_pounds_to_ounces,\n",
       " templates.g4_measurement_time_elapsed_sports_team,\n",
       " templates.g4_number_sense__comparison_running_table,\n",
       " templates.g4_number_sense_big_num_comparison,\n",
       " templates.g4_number_sense_big_number_in_words,\n",
       " templates.g4_number_sense_decimal_in_words,\n",
       " templates.g4_number_sense_decimal_largest_value,\n",
       " templates.g4_number_sense_decimal_place_value,\n",
       " templates.g4_number_sense_decimal_round,\n",
       " templates.g4_number_sense_fraction_ordering,\n",
       " templates.g4_number_sense_identify_fraction_number_line,\n",
       " templates.g4_number_sense_place_value_big_number_digit,\n",
       " templates.g4_number_sense_place_value_big_number_value,\n",
       " templates.g4_number_sense_round_big_number,\n",
       " templates.g4_pattern_increasing_numbers,\n",
       " templates.g4_pattern_number_of_teams_table,\n",
       " templates.g4_probability_coin_flip_number_line,\n",
       " templates.g4_probability_dice_roll_number_line,\n",
       " templates.g4_probability_no_chance]"
      ]
     },
     "execution_count": 13,
     "metadata": {},
     "output_type": "execute_result"
    }
   ],
   "source": [
    "classes = []\n",
    "standards = []\n",
    "topics = []\n",
    "grade_levels = []\n",
    "for name, obj in inspect.getmembers(templates):\n",
    "    if inspect.isclass(obj):\n",
    "        classes.append(obj)\n",
    "classes"
   ]
  },
  {
   "cell_type": "code",
   "execution_count": 14,
   "id": "5ce5df54-d3a6-4a6d-858b-33d34cebceb1",
   "metadata": {},
   "outputs": [
    {
     "name": "stderr",
     "output_type": "stream",
     "text": [
      "/solmathdashboard/app/Templates/templates.py:1076: FutureWarning: elementwise comparison failed; returning scalar instead, but in the future will perform elementwise comparison\n",
      "  wrong = np.unique(wrong[wrong!=answer])\n"
     ]
    }
   ],
   "source": [
    "for j in range(len(classes)):\n",
    "    x = classes[j]()\n",
    "    standard = x.attr1 \n",
    "    topic = x.attr2 \n",
    "    topics.append(topic)\n",
    "    grade_level = x.attr3 \n",
    "    standards.append(standard)\n",
    "    grade_levels.append(grade_level)"
   ]
  },
  {
   "cell_type": "code",
   "execution_count": 15,
   "id": "75a97b94-da94-4303-8073-f7873b9d2146",
   "metadata": {},
   "outputs": [
    {
     "data": {
      "text/html": [
       "<div>\n",
       "<style scoped>\n",
       "    .dataframe tbody tr th:only-of-type {\n",
       "        vertical-align: middle;\n",
       "    }\n",
       "\n",
       "    .dataframe tbody tr th {\n",
       "        vertical-align: top;\n",
       "    }\n",
       "\n",
       "    .dataframe thead th {\n",
       "        text-align: right;\n",
       "    }\n",
       "</style>\n",
       "<table border=\"1\" class=\"dataframe\">\n",
       "  <thead>\n",
       "    <tr style=\"text-align: right;\">\n",
       "      <th></th>\n",
       "      <th>Class</th>\n",
       "      <th>Grade_level</th>\n",
       "      <th>Standard</th>\n",
       "      <th>Topic</th>\n",
       "    </tr>\n",
       "  </thead>\n",
       "  <tbody>\n",
       "    <tr>\n",
       "      <th>0</th>\n",
       "      <td>&lt;class 'templates.g4_algebra_make_equation_true'&gt;</td>\n",
       "      <td>4</td>\n",
       "      <td>Probability, Statistics, Patterns, Functions, ...</td>\n",
       "      <td>Algebra</td>\n",
       "    </tr>\n",
       "    <tr>\n",
       "      <th>1</th>\n",
       "      <td>&lt;class 'templates.g4_computation_big_num_addit...</td>\n",
       "      <td>4</td>\n",
       "      <td>Computation and Estimation</td>\n",
       "      <td>Addition/Subtraction</td>\n",
       "    </tr>\n",
       "    <tr>\n",
       "      <th>2</th>\n",
       "      <td>&lt;class 'templates.g4_computation_big_num_subtr...</td>\n",
       "      <td>4</td>\n",
       "      <td>Computation and Estimation</td>\n",
       "      <td>Addition/Subtraction</td>\n",
       "    </tr>\n",
       "    <tr>\n",
       "      <th>3</th>\n",
       "      <td>&lt;class 'templates.g4_computation_common_factor...</td>\n",
       "      <td>4</td>\n",
       "      <td>Computation and Estimation</td>\n",
       "      <td>Common Factor</td>\n",
       "    </tr>\n",
       "    <tr>\n",
       "      <th>4</th>\n",
       "      <td>&lt;class 'templates.g4_computation_decimal_addit...</td>\n",
       "      <td>4</td>\n",
       "      <td>Computation and Estimation</td>\n",
       "      <td>Decimal Addition/Subtraction</td>\n",
       "    </tr>\n",
       "    <tr>\n",
       "      <th>5</th>\n",
       "      <td>&lt;class 'templates.g4_computation_decimal_subtr...</td>\n",
       "      <td>4</td>\n",
       "      <td>Computation and Estimation</td>\n",
       "      <td>Decimal Addition/Subtraction</td>\n",
       "    </tr>\n",
       "    <tr>\n",
       "      <th>6</th>\n",
       "      <td>&lt;class 'templates.g4_computation_division_stat...</td>\n",
       "      <td>4</td>\n",
       "      <td>Computation and Estimation</td>\n",
       "      <td>Division</td>\n",
       "    </tr>\n",
       "    <tr>\n",
       "      <th>7</th>\n",
       "      <td>&lt;class 'templates.g4_computation_fraction_addi...</td>\n",
       "      <td>4</td>\n",
       "      <td>Computation and Estimation</td>\n",
       "      <td>Fraction Addition/Subtraction</td>\n",
       "    </tr>\n",
       "    <tr>\n",
       "      <th>8</th>\n",
       "      <td>&lt;class 'templates.g4_computation_fraction_subt...</td>\n",
       "      <td>4</td>\n",
       "      <td>Computation and Estimation</td>\n",
       "      <td>Fraction Addition/Subtraction</td>\n",
       "    </tr>\n",
       "    <tr>\n",
       "      <th>9</th>\n",
       "      <td>&lt;class 'templates.g4_computation_lcm_word_prob...</td>\n",
       "      <td>4</td>\n",
       "      <td>Computation and Estimation</td>\n",
       "      <td>Least Common Multiple</td>\n",
       "    </tr>\n",
       "    <tr>\n",
       "      <th>10</th>\n",
       "      <td>&lt;class 'templates.g4_computation_multiplicatio...</td>\n",
       "      <td>4</td>\n",
       "      <td>Computation and Estimation</td>\n",
       "      <td>Multiplication</td>\n",
       "    </tr>\n",
       "    <tr>\n",
       "      <th>11</th>\n",
       "      <td>&lt;class 'templates.g4_computation_multiplicatio...</td>\n",
       "      <td>4</td>\n",
       "      <td>Computation and Estimation</td>\n",
       "      <td>Multiplication</td>\n",
       "    </tr>\n",
       "    <tr>\n",
       "      <th>12</th>\n",
       "      <td>&lt;class 'templates.g4_computation_multiplicatio...</td>\n",
       "      <td>4</td>\n",
       "      <td>Computation and Estimation</td>\n",
       "      <td>Multiplication</td>\n",
       "    </tr>\n",
       "    <tr>\n",
       "      <th>13</th>\n",
       "      <td>&lt;class 'templates.g4_computation_multiplicatio...</td>\n",
       "      <td>4</td>\n",
       "      <td>Computation and Estimation</td>\n",
       "      <td>Multiplication</td>\n",
       "    </tr>\n",
       "    <tr>\n",
       "      <th>14</th>\n",
       "      <td>&lt;class 'templates.g4_computation_multiplicatio...</td>\n",
       "      <td>4</td>\n",
       "      <td>Computation and Estimation</td>\n",
       "      <td>Multiplication</td>\n",
       "    </tr>\n",
       "    <tr>\n",
       "      <th>15</th>\n",
       "      <td>&lt;class 'templates.g4_computation_multiplicatio...</td>\n",
       "      <td>4</td>\n",
       "      <td>Computation and Estimation</td>\n",
       "      <td>Multiplication</td>\n",
       "    </tr>\n",
       "    <tr>\n",
       "      <th>16</th>\n",
       "      <td>&lt;class 'templates.g4_computation_multiplicatio...</td>\n",
       "      <td>4</td>\n",
       "      <td>Computation and Estimation</td>\n",
       "      <td>Multiplication</td>\n",
       "    </tr>\n",
       "    <tr>\n",
       "      <th>17</th>\n",
       "      <td>&lt;class 'templates.g4_computation_multiplicatio...</td>\n",
       "      <td>4</td>\n",
       "      <td>Computation and Estimation</td>\n",
       "      <td>Multiplication</td>\n",
       "    </tr>\n",
       "    <tr>\n",
       "      <th>18</th>\n",
       "      <td>&lt;class 'templates.g4_computation_multiplicatio...</td>\n",
       "      <td>4</td>\n",
       "      <td>Computation and Estimation</td>\n",
       "      <td>Multiplication</td>\n",
       "    </tr>\n",
       "    <tr>\n",
       "      <th>19</th>\n",
       "      <td>&lt;class 'templates.g4_computation_subtraction_w...</td>\n",
       "      <td>4</td>\n",
       "      <td>Computation and Estimation</td>\n",
       "      <td>Addition/Subtraction</td>\n",
       "    </tr>\n",
       "    <tr>\n",
       "      <th>20</th>\n",
       "      <td>&lt;class 'templates.g4_estimation_division_runni...</td>\n",
       "      <td>4</td>\n",
       "      <td>Computation and Estimation</td>\n",
       "      <td>Division</td>\n",
       "    </tr>\n",
       "    <tr>\n",
       "      <th>21</th>\n",
       "      <td>&lt;class 'templates.g4_estimation_multiplication...</td>\n",
       "      <td>4</td>\n",
       "      <td>Computation and Estimation</td>\n",
       "      <td>Multiplication</td>\n",
       "    </tr>\n",
       "    <tr>\n",
       "      <th>22</th>\n",
       "      <td>&lt;class 'templates.g4_functions_weather_graph'&gt;</td>\n",
       "      <td>4</td>\n",
       "      <td>Probability, Statistics, Patterns, Functions, ...</td>\n",
       "      <td>Graph</td>\n",
       "    </tr>\n",
       "    <tr>\n",
       "      <th>23</th>\n",
       "      <td>&lt;class 'templates.g4_geometry_shapes_angles'&gt;</td>\n",
       "      <td>4</td>\n",
       "      <td>Measurement and Geometry</td>\n",
       "      <td>Geometry</td>\n",
       "    </tr>\n",
       "    <tr>\n",
       "      <th>24</th>\n",
       "      <td>&lt;class 'templates.g4_measurement_gallons_to_pi...</td>\n",
       "      <td>4</td>\n",
       "      <td>Measurement and Geometry</td>\n",
       "      <td>Measurement</td>\n",
       "    </tr>\n",
       "    <tr>\n",
       "      <th>25</th>\n",
       "      <td>&lt;class 'templates.g4_measurement_meters_to_mil...</td>\n",
       "      <td>4</td>\n",
       "      <td>Measurement and Geometry</td>\n",
       "      <td>Measurement</td>\n",
       "    </tr>\n",
       "    <tr>\n",
       "      <th>26</th>\n",
       "      <td>&lt;class 'templates.g4_measurement_pounds_to_oun...</td>\n",
       "      <td>4</td>\n",
       "      <td>Measurement and Geometry</td>\n",
       "      <td>Measurement</td>\n",
       "    </tr>\n",
       "    <tr>\n",
       "      <th>27</th>\n",
       "      <td>&lt;class 'templates.g4_measurement_time_elapsed_...</td>\n",
       "      <td>4</td>\n",
       "      <td>Measurement and Geometry</td>\n",
       "      <td>Time Elapsed</td>\n",
       "    </tr>\n",
       "    <tr>\n",
       "      <th>28</th>\n",
       "      <td>&lt;class 'templates.g4_number_sense__comparison_...</td>\n",
       "      <td>4</td>\n",
       "      <td>Number and Number Sense</td>\n",
       "      <td>Decimal Comparison</td>\n",
       "    </tr>\n",
       "    <tr>\n",
       "      <th>29</th>\n",
       "      <td>&lt;class 'templates.g4_number_sense_big_num_comp...</td>\n",
       "      <td>4</td>\n",
       "      <td>Number and Number Sense</td>\n",
       "      <td>Number Comparison</td>\n",
       "    </tr>\n",
       "    <tr>\n",
       "      <th>30</th>\n",
       "      <td>&lt;class 'templates.g4_number_sense_big_number_i...</td>\n",
       "      <td>4</td>\n",
       "      <td>Number and Number Sense</td>\n",
       "      <td>Number in Words</td>\n",
       "    </tr>\n",
       "    <tr>\n",
       "      <th>31</th>\n",
       "      <td>&lt;class 'templates.g4_number_sense_decimal_in_w...</td>\n",
       "      <td>4</td>\n",
       "      <td>Number and Number Sense</td>\n",
       "      <td>Decimal in Words</td>\n",
       "    </tr>\n",
       "    <tr>\n",
       "      <th>32</th>\n",
       "      <td>&lt;class 'templates.g4_number_sense_decimal_larg...</td>\n",
       "      <td>4</td>\n",
       "      <td>Number and Number Sense</td>\n",
       "      <td>Decimal Comparison</td>\n",
       "    </tr>\n",
       "    <tr>\n",
       "      <th>33</th>\n",
       "      <td>&lt;class 'templates.g4_number_sense_decimal_plac...</td>\n",
       "      <td>4</td>\n",
       "      <td>Number and Number Sense</td>\n",
       "      <td>Decimal Place Value</td>\n",
       "    </tr>\n",
       "    <tr>\n",
       "      <th>34</th>\n",
       "      <td>&lt;class 'templates.g4_number_sense_decimal_round'&gt;</td>\n",
       "      <td>4</td>\n",
       "      <td>Number and Number Sense</td>\n",
       "      <td>Decimal Rounding</td>\n",
       "    </tr>\n",
       "    <tr>\n",
       "      <th>35</th>\n",
       "      <td>&lt;class 'templates.g4_number_sense_fraction_ord...</td>\n",
       "      <td>4</td>\n",
       "      <td>Number and Number Sense</td>\n",
       "      <td>Fraction Ordering</td>\n",
       "    </tr>\n",
       "    <tr>\n",
       "      <th>36</th>\n",
       "      <td>&lt;class 'templates.g4_number_sense_identify_fra...</td>\n",
       "      <td>4</td>\n",
       "      <td>Number and Number Sense</td>\n",
       "      <td>Fraction Number Line</td>\n",
       "    </tr>\n",
       "    <tr>\n",
       "      <th>37</th>\n",
       "      <td>&lt;class 'templates.g4_number_sense_place_value_...</td>\n",
       "      <td>4</td>\n",
       "      <td>Number and Number Sense</td>\n",
       "      <td>Place Value</td>\n",
       "    </tr>\n",
       "    <tr>\n",
       "      <th>38</th>\n",
       "      <td>&lt;class 'templates.g4_number_sense_place_value_...</td>\n",
       "      <td>4</td>\n",
       "      <td>Number and Number Sense</td>\n",
       "      <td>Place Value</td>\n",
       "    </tr>\n",
       "    <tr>\n",
       "      <th>39</th>\n",
       "      <td>&lt;class 'templates.g4_number_sense_round_big_nu...</td>\n",
       "      <td>4</td>\n",
       "      <td>Number and Number Sense</td>\n",
       "      <td>Rounding</td>\n",
       "    </tr>\n",
       "    <tr>\n",
       "      <th>40</th>\n",
       "      <td>&lt;class 'templates.g4_pattern_increasing_numbers'&gt;</td>\n",
       "      <td>4</td>\n",
       "      <td>Probability, Statistics, Patterns, Functions, ...</td>\n",
       "      <td>Patterns</td>\n",
       "    </tr>\n",
       "    <tr>\n",
       "      <th>41</th>\n",
       "      <td>&lt;class 'templates.g4_pattern_number_of_teams_t...</td>\n",
       "      <td>4</td>\n",
       "      <td>Probability, Statistics, Patterns, Functions, ...</td>\n",
       "      <td>Patterns</td>\n",
       "    </tr>\n",
       "    <tr>\n",
       "      <th>42</th>\n",
       "      <td>&lt;class 'templates.g4_probability_coin_flip_num...</td>\n",
       "      <td>4</td>\n",
       "      <td>Probability, Statistics, Patterns, Functions, ...</td>\n",
       "      <td>Probability</td>\n",
       "    </tr>\n",
       "    <tr>\n",
       "      <th>43</th>\n",
       "      <td>&lt;class 'templates.g4_probability_dice_roll_num...</td>\n",
       "      <td>4</td>\n",
       "      <td>Probability, Statistics, Patterns, Functions, ...</td>\n",
       "      <td>Probability</td>\n",
       "    </tr>\n",
       "    <tr>\n",
       "      <th>44</th>\n",
       "      <td>&lt;class 'templates.g4_probability_no_chance'&gt;</td>\n",
       "      <td>4</td>\n",
       "      <td>Probability, Statistics, Patterns, Functions, ...</td>\n",
       "      <td>Probability</td>\n",
       "    </tr>\n",
       "  </tbody>\n",
       "</table>\n",
       "</div>"
      ],
      "text/plain": [
       "                                                Class  Grade_level  \\\n",
       "0   <class 'templates.g4_algebra_make_equation_true'>            4   \n",
       "1   <class 'templates.g4_computation_big_num_addit...            4   \n",
       "2   <class 'templates.g4_computation_big_num_subtr...            4   \n",
       "3   <class 'templates.g4_computation_common_factor...            4   \n",
       "4   <class 'templates.g4_computation_decimal_addit...            4   \n",
       "5   <class 'templates.g4_computation_decimal_subtr...            4   \n",
       "6   <class 'templates.g4_computation_division_stat...            4   \n",
       "7   <class 'templates.g4_computation_fraction_addi...            4   \n",
       "8   <class 'templates.g4_computation_fraction_subt...            4   \n",
       "9   <class 'templates.g4_computation_lcm_word_prob...            4   \n",
       "10  <class 'templates.g4_computation_multiplicatio...            4   \n",
       "11  <class 'templates.g4_computation_multiplicatio...            4   \n",
       "12  <class 'templates.g4_computation_multiplicatio...            4   \n",
       "13  <class 'templates.g4_computation_multiplicatio...            4   \n",
       "14  <class 'templates.g4_computation_multiplicatio...            4   \n",
       "15  <class 'templates.g4_computation_multiplicatio...            4   \n",
       "16  <class 'templates.g4_computation_multiplicatio...            4   \n",
       "17  <class 'templates.g4_computation_multiplicatio...            4   \n",
       "18  <class 'templates.g4_computation_multiplicatio...            4   \n",
       "19  <class 'templates.g4_computation_subtraction_w...            4   \n",
       "20  <class 'templates.g4_estimation_division_runni...            4   \n",
       "21  <class 'templates.g4_estimation_multiplication...            4   \n",
       "22     <class 'templates.g4_functions_weather_graph'>            4   \n",
       "23      <class 'templates.g4_geometry_shapes_angles'>            4   \n",
       "24  <class 'templates.g4_measurement_gallons_to_pi...            4   \n",
       "25  <class 'templates.g4_measurement_meters_to_mil...            4   \n",
       "26  <class 'templates.g4_measurement_pounds_to_oun...            4   \n",
       "27  <class 'templates.g4_measurement_time_elapsed_...            4   \n",
       "28  <class 'templates.g4_number_sense__comparison_...            4   \n",
       "29  <class 'templates.g4_number_sense_big_num_comp...            4   \n",
       "30  <class 'templates.g4_number_sense_big_number_i...            4   \n",
       "31  <class 'templates.g4_number_sense_decimal_in_w...            4   \n",
       "32  <class 'templates.g4_number_sense_decimal_larg...            4   \n",
       "33  <class 'templates.g4_number_sense_decimal_plac...            4   \n",
       "34  <class 'templates.g4_number_sense_decimal_round'>            4   \n",
       "35  <class 'templates.g4_number_sense_fraction_ord...            4   \n",
       "36  <class 'templates.g4_number_sense_identify_fra...            4   \n",
       "37  <class 'templates.g4_number_sense_place_value_...            4   \n",
       "38  <class 'templates.g4_number_sense_place_value_...            4   \n",
       "39  <class 'templates.g4_number_sense_round_big_nu...            4   \n",
       "40  <class 'templates.g4_pattern_increasing_numbers'>            4   \n",
       "41  <class 'templates.g4_pattern_number_of_teams_t...            4   \n",
       "42  <class 'templates.g4_probability_coin_flip_num...            4   \n",
       "43  <class 'templates.g4_probability_dice_roll_num...            4   \n",
       "44       <class 'templates.g4_probability_no_chance'>            4   \n",
       "\n",
       "                                             Standard  \\\n",
       "0   Probability, Statistics, Patterns, Functions, ...   \n",
       "1                          Computation and Estimation   \n",
       "2                          Computation and Estimation   \n",
       "3                          Computation and Estimation   \n",
       "4                          Computation and Estimation   \n",
       "5                          Computation and Estimation   \n",
       "6                          Computation and Estimation   \n",
       "7                          Computation and Estimation   \n",
       "8                          Computation and Estimation   \n",
       "9                          Computation and Estimation   \n",
       "10                         Computation and Estimation   \n",
       "11                         Computation and Estimation   \n",
       "12                         Computation and Estimation   \n",
       "13                         Computation and Estimation   \n",
       "14                         Computation and Estimation   \n",
       "15                         Computation and Estimation   \n",
       "16                         Computation and Estimation   \n",
       "17                         Computation and Estimation   \n",
       "18                         Computation and Estimation   \n",
       "19                         Computation and Estimation   \n",
       "20                         Computation and Estimation   \n",
       "21                         Computation and Estimation   \n",
       "22  Probability, Statistics, Patterns, Functions, ...   \n",
       "23                           Measurement and Geometry   \n",
       "24                           Measurement and Geometry   \n",
       "25                           Measurement and Geometry   \n",
       "26                           Measurement and Geometry   \n",
       "27                           Measurement and Geometry   \n",
       "28                            Number and Number Sense   \n",
       "29                            Number and Number Sense   \n",
       "30                            Number and Number Sense   \n",
       "31                            Number and Number Sense   \n",
       "32                            Number and Number Sense   \n",
       "33                            Number and Number Sense   \n",
       "34                            Number and Number Sense   \n",
       "35                            Number and Number Sense   \n",
       "36                            Number and Number Sense   \n",
       "37                            Number and Number Sense   \n",
       "38                            Number and Number Sense   \n",
       "39                            Number and Number Sense   \n",
       "40  Probability, Statistics, Patterns, Functions, ...   \n",
       "41  Probability, Statistics, Patterns, Functions, ...   \n",
       "42  Probability, Statistics, Patterns, Functions, ...   \n",
       "43  Probability, Statistics, Patterns, Functions, ...   \n",
       "44  Probability, Statistics, Patterns, Functions, ...   \n",
       "\n",
       "                            Topic  \n",
       "0                         Algebra  \n",
       "1            Addition/Subtraction  \n",
       "2            Addition/Subtraction  \n",
       "3                   Common Factor  \n",
       "4    Decimal Addition/Subtraction  \n",
       "5    Decimal Addition/Subtraction  \n",
       "6                        Division  \n",
       "7   Fraction Addition/Subtraction  \n",
       "8   Fraction Addition/Subtraction  \n",
       "9           Least Common Multiple  \n",
       "10                 Multiplication  \n",
       "11                 Multiplication  \n",
       "12                 Multiplication  \n",
       "13                 Multiplication  \n",
       "14                 Multiplication  \n",
       "15                 Multiplication  \n",
       "16                 Multiplication  \n",
       "17                 Multiplication  \n",
       "18                 Multiplication  \n",
       "19           Addition/Subtraction  \n",
       "20                       Division  \n",
       "21                 Multiplication  \n",
       "22                          Graph  \n",
       "23                       Geometry  \n",
       "24                    Measurement  \n",
       "25                    Measurement  \n",
       "26                    Measurement  \n",
       "27                   Time Elapsed  \n",
       "28             Decimal Comparison  \n",
       "29              Number Comparison  \n",
       "30                Number in Words  \n",
       "31               Decimal in Words  \n",
       "32             Decimal Comparison  \n",
       "33            Decimal Place Value  \n",
       "34               Decimal Rounding  \n",
       "35              Fraction Ordering  \n",
       "36           Fraction Number Line  \n",
       "37                    Place Value  \n",
       "38                    Place Value  \n",
       "39                       Rounding  \n",
       "40                       Patterns  \n",
       "41                       Patterns  \n",
       "42                    Probability  \n",
       "43                    Probability  \n",
       "44                    Probability  "
      ]
     },
     "execution_count": 15,
     "metadata": {},
     "output_type": "execute_result"
    }
   ],
   "source": [
    "df = pd.DataFrame({\"Class\": classes, \"Grade_level\": grade_levels, \"Standard\": standards, \"Topic\": topics})\n",
    "df"
   ]
  },
  {
   "cell_type": "code",
   "execution_count": 4,
   "id": "1c8e1c08-de7a-45e0-b1e0-e36f5c21136f",
   "metadata": {},
   "outputs": [
    {
     "data": {
      "text/html": [
       "<div>\n",
       "<style scoped>\n",
       "    .dataframe tbody tr th:only-of-type {\n",
       "        vertical-align: middle;\n",
       "    }\n",
       "\n",
       "    .dataframe tbody tr th {\n",
       "        vertical-align: top;\n",
       "    }\n",
       "\n",
       "    .dataframe thead th {\n",
       "        text-align: right;\n",
       "    }\n",
       "</style>\n",
       "<table border=\"1\" class=\"dataframe\">\n",
       "  <thead>\n",
       "    <tr style=\"text-align: right;\">\n",
       "      <th></th>\n",
       "      <th>Class</th>\n",
       "      <th>Grade_level</th>\n",
       "      <th>Standard</th>\n",
       "      <th>Topic</th>\n",
       "    </tr>\n",
       "  </thead>\n",
       "  <tbody>\n",
       "    <tr>\n",
       "      <th>1</th>\n",
       "      <td>&lt;class 'templates.g4_computation_big_num_addit...</td>\n",
       "      <td>4</td>\n",
       "      <td>Computation and Estimation</td>\n",
       "      <td>Addition/Subtraction</td>\n",
       "    </tr>\n",
       "    <tr>\n",
       "      <th>2</th>\n",
       "      <td>&lt;class 'templates.g4_computation_big_num_subtr...</td>\n",
       "      <td>4</td>\n",
       "      <td>Computation and Estimation</td>\n",
       "      <td>Addition/Subtraction</td>\n",
       "    </tr>\n",
       "    <tr>\n",
       "      <th>3</th>\n",
       "      <td>&lt;class 'templates.g4_computation_common_factor...</td>\n",
       "      <td>4</td>\n",
       "      <td>Computation and Estimation</td>\n",
       "      <td>Common Factor</td>\n",
       "    </tr>\n",
       "    <tr>\n",
       "      <th>4</th>\n",
       "      <td>&lt;class 'templates.g4_computation_decimal_addit...</td>\n",
       "      <td>4</td>\n",
       "      <td>Computation and Estimation</td>\n",
       "      <td>Decimal Addition/Subtraction</td>\n",
       "    </tr>\n",
       "    <tr>\n",
       "      <th>5</th>\n",
       "      <td>&lt;class 'templates.g4_computation_decimal_subtr...</td>\n",
       "      <td>4</td>\n",
       "      <td>Computation and Estimation</td>\n",
       "      <td>Decimal Addition/Subtraction</td>\n",
       "    </tr>\n",
       "    <tr>\n",
       "      <th>6</th>\n",
       "      <td>&lt;class 'templates.g4_computation_division_stat...</td>\n",
       "      <td>4</td>\n",
       "      <td>Computation and Estimation</td>\n",
       "      <td>Division</td>\n",
       "    </tr>\n",
       "    <tr>\n",
       "      <th>7</th>\n",
       "      <td>&lt;class 'templates.g4_computation_fraction_addi...</td>\n",
       "      <td>4</td>\n",
       "      <td>Computation and Estimation</td>\n",
       "      <td>Fraction Addition/Subtraction</td>\n",
       "    </tr>\n",
       "    <tr>\n",
       "      <th>8</th>\n",
       "      <td>&lt;class 'templates.g4_computation_fraction_subt...</td>\n",
       "      <td>4</td>\n",
       "      <td>Computation and Estimation</td>\n",
       "      <td>Fraction Addition/Subtraction</td>\n",
       "    </tr>\n",
       "    <tr>\n",
       "      <th>9</th>\n",
       "      <td>&lt;class 'templates.g4_computation_lcm_word_prob...</td>\n",
       "      <td>4</td>\n",
       "      <td>Computation and Estimation</td>\n",
       "      <td>Least Common Multiple</td>\n",
       "    </tr>\n",
       "    <tr>\n",
       "      <th>10</th>\n",
       "      <td>&lt;class 'templates.g4_computation_multiplicatio...</td>\n",
       "      <td>4</td>\n",
       "      <td>Computation and Estimation</td>\n",
       "      <td>Multiplication</td>\n",
       "    </tr>\n",
       "    <tr>\n",
       "      <th>11</th>\n",
       "      <td>&lt;class 'templates.g4_computation_multiplicatio...</td>\n",
       "      <td>4</td>\n",
       "      <td>Computation and Estimation</td>\n",
       "      <td>Multiplication</td>\n",
       "    </tr>\n",
       "    <tr>\n",
       "      <th>12</th>\n",
       "      <td>&lt;class 'templates.g4_computation_multiplicatio...</td>\n",
       "      <td>4</td>\n",
       "      <td>Computation and Estimation</td>\n",
       "      <td>Multiplication</td>\n",
       "    </tr>\n",
       "    <tr>\n",
       "      <th>13</th>\n",
       "      <td>&lt;class 'templates.g4_computation_multiplicatio...</td>\n",
       "      <td>4</td>\n",
       "      <td>Computation and Estimation</td>\n",
       "      <td>Multiplication</td>\n",
       "    </tr>\n",
       "    <tr>\n",
       "      <th>14</th>\n",
       "      <td>&lt;class 'templates.g4_computation_multiplicatio...</td>\n",
       "      <td>4</td>\n",
       "      <td>Computation and Estimation</td>\n",
       "      <td>Multiplication</td>\n",
       "    </tr>\n",
       "    <tr>\n",
       "      <th>15</th>\n",
       "      <td>&lt;class 'templates.g4_computation_multiplicatio...</td>\n",
       "      <td>4</td>\n",
       "      <td>Computation and Estimation</td>\n",
       "      <td>Multiplication</td>\n",
       "    </tr>\n",
       "    <tr>\n",
       "      <th>16</th>\n",
       "      <td>&lt;class 'templates.g4_computation_multiplicatio...</td>\n",
       "      <td>4</td>\n",
       "      <td>Computation and Estimation</td>\n",
       "      <td>Multiplication</td>\n",
       "    </tr>\n",
       "    <tr>\n",
       "      <th>17</th>\n",
       "      <td>&lt;class 'templates.g4_computation_multiplicatio...</td>\n",
       "      <td>4</td>\n",
       "      <td>Computation and Estimation</td>\n",
       "      <td>Multiplication</td>\n",
       "    </tr>\n",
       "    <tr>\n",
       "      <th>18</th>\n",
       "      <td>&lt;class 'templates.g4_computation_multiplicatio...</td>\n",
       "      <td>4</td>\n",
       "      <td>Computation and Estimation</td>\n",
       "      <td>Multiplication</td>\n",
       "    </tr>\n",
       "    <tr>\n",
       "      <th>19</th>\n",
       "      <td>&lt;class 'templates.g4_computation_subtraction_w...</td>\n",
       "      <td>4</td>\n",
       "      <td>Computation and Estimation</td>\n",
       "      <td>Addition/Subtraction</td>\n",
       "    </tr>\n",
       "    <tr>\n",
       "      <th>20</th>\n",
       "      <td>&lt;class 'templates.g4_estimation_multiplication...</td>\n",
       "      <td>4</td>\n",
       "      <td>Computation and Estimation</td>\n",
       "      <td>Multiplication</td>\n",
       "    </tr>\n",
       "  </tbody>\n",
       "</table>\n",
       "</div>"
      ],
      "text/plain": [
       "                                                Class  Grade_level  \\\n",
       "1   <class 'templates.g4_computation_big_num_addit...            4   \n",
       "2   <class 'templates.g4_computation_big_num_subtr...            4   \n",
       "3   <class 'templates.g4_computation_common_factor...            4   \n",
       "4   <class 'templates.g4_computation_decimal_addit...            4   \n",
       "5   <class 'templates.g4_computation_decimal_subtr...            4   \n",
       "6   <class 'templates.g4_computation_division_stat...            4   \n",
       "7   <class 'templates.g4_computation_fraction_addi...            4   \n",
       "8   <class 'templates.g4_computation_fraction_subt...            4   \n",
       "9   <class 'templates.g4_computation_lcm_word_prob...            4   \n",
       "10  <class 'templates.g4_computation_multiplicatio...            4   \n",
       "11  <class 'templates.g4_computation_multiplicatio...            4   \n",
       "12  <class 'templates.g4_computation_multiplicatio...            4   \n",
       "13  <class 'templates.g4_computation_multiplicatio...            4   \n",
       "14  <class 'templates.g4_computation_multiplicatio...            4   \n",
       "15  <class 'templates.g4_computation_multiplicatio...            4   \n",
       "16  <class 'templates.g4_computation_multiplicatio...            4   \n",
       "17  <class 'templates.g4_computation_multiplicatio...            4   \n",
       "18  <class 'templates.g4_computation_multiplicatio...            4   \n",
       "19  <class 'templates.g4_computation_subtraction_w...            4   \n",
       "20  <class 'templates.g4_estimation_multiplication...            4   \n",
       "\n",
       "                      Standard                          Topic  \n",
       "1   Computation and Estimation           Addition/Subtraction  \n",
       "2   Computation and Estimation           Addition/Subtraction  \n",
       "3   Computation and Estimation                  Common Factor  \n",
       "4   Computation and Estimation   Decimal Addition/Subtraction  \n",
       "5   Computation and Estimation   Decimal Addition/Subtraction  \n",
       "6   Computation and Estimation                       Division  \n",
       "7   Computation and Estimation  Fraction Addition/Subtraction  \n",
       "8   Computation and Estimation  Fraction Addition/Subtraction  \n",
       "9   Computation and Estimation          Least Common Multiple  \n",
       "10  Computation and Estimation                 Multiplication  \n",
       "11  Computation and Estimation                 Multiplication  \n",
       "12  Computation and Estimation                 Multiplication  \n",
       "13  Computation and Estimation                 Multiplication  \n",
       "14  Computation and Estimation                 Multiplication  \n",
       "15  Computation and Estimation                 Multiplication  \n",
       "16  Computation and Estimation                 Multiplication  \n",
       "17  Computation and Estimation                 Multiplication  \n",
       "18  Computation and Estimation                 Multiplication  \n",
       "19  Computation and Estimation           Addition/Subtraction  \n",
       "20  Computation and Estimation                 Multiplication  "
      ]
     },
     "execution_count": 4,
     "metadata": {},
     "output_type": "execute_result"
    }
   ],
   "source": [
    "df.query(\"Standard == 'Computation and Estimation'\")"
   ]
  },
  {
   "cell_type": "code",
   "execution_count": 9,
   "id": "5d3e599a-28fc-4889-9a44-d8aa0164f83e",
   "metadata": {},
   "outputs": [],
   "source": [
    "def pull_question(grade_level, standard, topic, num_questions):\n",
    "    classes = []\n",
    "    for name, obj in inspect.getmembers(templates):\n",
    "        if inspect.isclass(obj):\n",
    "            classes.append(obj)\n",
    "\n",
    "    while num_questions>0:\n",
    "        i = random.choice(classes)\n",
    "        x = i()\n",
    "        if x.attr1 == standard and x.attr2 == topic and x.attr3 == grade_level:\n",
    "            print(x.print_question(), x.print_choices())\n",
    "            num_questions = num_questions -1 \n",
    "        else:\n",
    "            pass"
   ]
  },
  {
   "cell_type": "code",
   "execution_count": null,
   "id": "0e0b4255-5fb0-4949-91d2-15f0cea1452f",
   "metadata": {},
   "outputs": [
    {
     "name": "stdout",
     "output_type": "stream",
     "text": [
      "At a store, Fortnite action figures cost $16 each. Which is closest to the total cost of 79 Fortnite action figures?          \n",
      "a  $1,200\n",
      "b  $1,300\n",
      "c  $1,000\n",
      "d    $300\n",
      "What is the product of 20 and 82?        \n",
      "a  2295\n",
      "b  1640\n",
      "c   102\n",
      "d  2700\n",
      "Antonio has 13 profiles with 9 Fornite skins. How many Fornite skins does he have?       \n",
      "a  117\n",
      "b   22\n",
      "c   36\n",
      "d  119\n",
      "Levi has 10 profiles with 15 Fornite skins. How many Fornite skins does he have?       \n",
      "a   25\n",
      "b   45\n",
      "c  221\n",
      "d  150\n",
      "Use grouping to find 2 X 8.      \n",
      "a  10\n",
      "b  60\n",
      "c  16\n",
      "d  15\n",
      "What is the product of 88 and 68?        \n",
      "a  7040\n",
      "b  2470\n",
      "c  5984\n",
      "d   156\n",
      "Batman has 15 bags of 6 M&Ms. How many M&Ms does he have?      \n",
      "a  21\n",
      "b  49\n",
      "c  72\n",
      "d  90\n",
      "Use grouping to find 7 X 8.      \n",
      "a  15\n",
      "b  70\n",
      "c  56\n",
      "d  18\n",
      "Use grouping to find 2 X 9.      \n",
      "a  25\n",
      "b  81\n",
      "c  18\n",
      "d  11\n",
      "Levi has 10 bags of 8 Skittles. How many Skittles does he have?      \n",
      "a  18\n",
      "b  80\n",
      "c   8\n",
      "d  28\n"
     ]
    }
   ],
   "source": [
    "pull_question(4, \"Computation and Estimation\", \"Multiplication\", 12)"
   ]
  },
  {
   "cell_type": "code",
   "execution_count": null,
   "id": "e077ea29-253f-4ce2-a832-78e9856d7e5d",
   "metadata": {},
   "outputs": [],
   "source": [
    "x.attr2"
   ]
  },
  {
   "cell_type": "code",
   "execution_count": null,
   "id": "5a16c606-f608-4669-82a5-87d521bb8ea4",
   "metadata": {},
   "outputs": [],
   "source": [
    "classes = []\n",
    "for name, obj in inspect.getmembers(templates):\n",
    "    if inspect.isclass(obj):\n",
    "        classes.append(obj)\n",
    "\n",
    "for i in classes:\n",
    "    x = i()\n",
    "    print(x.print_question())\n",
    "\n",
    "classes"
   ]
  },
  {
   "cell_type": "code",
   "execution_count": null,
   "id": "120f47a7-1d89-4dae-9e6f-731ca9e665f2",
   "metadata": {},
   "outputs": [],
   "source": [
    "x.answer"
   ]
  },
  {
   "cell_type": "code",
   "execution_count": null,
   "id": "f6b60f68-4d68-439e-bcaf-0088422b3ff4",
   "metadata": {},
   "outputs": [],
   "source": [
    "class Dog:\n",
    "\n",
    "    def __init__(self):\n",
    "    \n",
    "        self.tricks = random.randint(1,10) \n",
    "        self.number = random.randint(1,10)\n",
    "        self.answer = self.tricks * self.number# creates a new empty list for each dog\n",
    "\n",
    "    def add_trick(self, trick):\n",
    "        self.tricks.append(trick)\n"
   ]
  },
  {
   "cell_type": "code",
   "execution_count": null,
   "id": "a94e9e17-a820-4472-acb1-fe5b31931c0e",
   "metadata": {},
   "outputs": [],
   "source": [
    "d = Dog()"
   ]
  },
  {
   "cell_type": "code",
   "execution_count": null,
   "id": "866b1587-2189-4545-9075-d1ad27fb9a61",
   "metadata": {},
   "outputs": [],
   "source": [
    "d.number"
   ]
  },
  {
   "cell_type": "code",
   "execution_count": null,
   "id": "6b1b6022-f0e7-45e4-a24c-ee0d9a56e2c3",
   "metadata": {},
   "outputs": [],
   "source": [
    "d.answer"
   ]
  },
  {
   "cell_type": "code",
   "execution_count": null,
   "id": "e9d0466f-6253-407e-925e-c8b5073dc10c",
   "metadata": {},
   "outputs": [],
   "source": [
    "d.print_question()"
   ]
  },
  {
   "cell_type": "code",
   "execution_count": null,
   "id": "fd2a634d-85f8-44e7-8f00-0b85e45d3ddf",
   "metadata": {},
   "outputs": [],
   "source": [
    "d.student_answer(80)"
   ]
  },
  {
   "cell_type": "code",
   "execution_count": null,
   "id": "539e06f0-83d7-40d3-a0e6-d4737f04b82e",
   "metadata": {},
   "outputs": [],
   "source": [
    "d.student_answer(6)"
   ]
  },
  {
   "cell_type": "code",
   "execution_count": null,
   "id": "0a2391d5-6f12-4d39-834e-3c3336e90e07",
   "metadata": {},
   "outputs": [],
   "source": [
    "r.print_question()"
   ]
  },
  {
   "cell_type": "code",
   "execution_count": null,
   "id": "acee5288-b453-4a0b-84a2-128bd3cc6817",
   "metadata": {},
   "outputs": [],
   "source": [
    "x = templates.g4_computation_multplication_specific_method()"
   ]
  },
  {
   "cell_type": "code",
   "execution_count": null,
   "id": "082a08ef-a797-42cb-8f4f-be2a493c2ebb",
   "metadata": {},
   "outputs": [],
   "source": [
    "x.print_question()"
   ]
  },
  {
   "cell_type": "code",
   "execution_count": null,
   "id": "9c89e133-49d4-4c58-9e49-62239c1dea06",
   "metadata": {},
   "outputs": [],
   "source": [
    "x.student_answer(6)"
   ]
  },
  {
   "cell_type": "code",
   "execution_count": null,
   "id": "4623e4ce-dae7-448b-a75e-3ed83123eabd",
   "metadata": {},
   "outputs": [],
   "source": [
    "class g4_computation_multplication_specific_method():\n",
    "    def __init__(self):\n",
    "        \n",
    "        number1 = random.randint(2, 10)\n",
    "        number2 = random.randint(2, 10)\n",
    "        self.answer = number1 * number2\n",
    "        self.question= \"Use {method} to find {number1} X {number2}.\".format(method = 'random.choice(methods)', number1 = number1, number2 = number2)\n",
    "    \n",
    "    def print_question(self):\n",
    "        return self.question\n",
    "    \n",
    "    def student_answer(self, student_answer):\n",
    "        if student_answer == self.answer:\n",
    "            return \"You got the right answer. Nice work!\"\n",
    "        if student_answer!= self.answer:\n",
    "            return \"Your answer is incorrect. Please try again!\""
   ]
  },
  {
   "cell_type": "code",
   "execution_count": null,
   "id": "49f839d9-29b8-4d56-9dcb-6ba80fe7dcea",
   "metadata": {},
   "outputs": [],
   "source": [
    "d = g4_computation_multplication_specific_method()"
   ]
  },
  {
   "cell_type": "code",
   "execution_count": null,
   "id": "16877f65-db63-4c85-a455-0273eb52cfbb",
   "metadata": {},
   "outputs": [],
   "source": [
    "d.print_question()"
   ]
  },
  {
   "cell_type": "code",
   "execution_count": null,
   "id": "df0b2104-d3ab-49ca-9e08-9fa2905581bb",
   "metadata": {},
   "outputs": [],
   "source": [
    "d.student_answer(20)"
   ]
  },
  {
   "cell_type": "code",
   "execution_count": null,
   "id": "399dd57b-5c5a-4f13-bcc6-78c7cdffc07d",
   "metadata": {},
   "outputs": [],
   "source": [
    "number1 = random.randint(1, 10)\n",
    "number2 = random.randint(1, 10)\n",
    "number3 = random.randint(1, 10)\n",
    "number4 = random.randint(1, 10) \n",
    "answer = (number1/number2) + (number3/number4)\n",
    "Fraction(answer)"
   ]
  },
  {
   "cell_type": "code",
   "execution_count": null,
   "id": "479b232d-1966-4fc5-85c2-f2fb226b495b",
   "metadata": {},
   "outputs": [],
   "source": [
    "number1 = random.randint(1, 10)\n",
    "number3 = random.randint(1, 10)\n",
    "Fraction(number1, number3)"
   ]
  },
  {
   "cell_type": "code",
   "execution_count": null,
   "id": "7cca04f5-5309-4dc8-be8a-b0e87bc249da",
   "metadata": {},
   "outputs": [],
   "source": [
    "print(placeValue(24, 4))"
   ]
  },
  {
   "cell_type": "code",
   "execution_count": null,
   "id": "2784e356-3b56-40fd-8ed6-066de879be62",
   "metadata": {},
   "outputs": [],
   "source": [
    "def get_digit(number, n):\n",
    "    return number // 10**n % 10"
   ]
  },
  {
   "cell_type": "code",
   "execution_count": null,
   "id": "8bac6d09-21fa-4668-87b5-780020949b5b",
   "metadata": {},
   "outputs": [],
   "source": [
    "get_digit(122.55, -2)"
   ]
  },
  {
   "cell_type": "code",
   "execution_count": null,
   "id": "438d33d3-0329-4db8-b83d-20a37c967f65",
   "metadata": {},
   "outputs": [],
   "source": [
    "N = random.randint(1000,1999)"
   ]
  },
  {
   "cell_type": "code",
   "execution_count": null,
   "id": "6672220b-5ee7-4fce-8787-e43e817696b1",
   "metadata": {},
   "outputs": [],
   "source": [
    "D= get_digit(N,3)"
   ]
  },
  {
   "cell_type": "code",
   "execution_count": null,
   "id": "f259bd31-8ff3-4b5e-b516-c764d00a52d7",
   "metadata": {},
   "outputs": [],
   "source": [
    "print(placeValue(N,D))"
   ]
  },
  {
   "cell_type": "code",
   "execution_count": null,
   "id": "2b7ddc78-d2d1-4731-8063-bc2d3eebdea0",
   "metadata": {},
   "outputs": [],
   "source": [
    "5.55%1"
   ]
  },
  {
   "cell_type": "code",
   "execution_count": null,
   "id": "d3097716-d911-45d0-bd4a-59471756c9fd",
   "metadata": {},
   "outputs": [],
   "source": [
    "get_digit(.0510000001, -3)"
   ]
  },
  {
   "cell_type": "code",
   "execution_count": null,
   "id": "93184030-3683-4f48-af34-8a394dbef2a2",
   "metadata": {},
   "outputs": [],
   "source": [
    "math.lcm(2,5,7)"
   ]
  },
  {
   "cell_type": "code",
   "execution_count": null,
   "id": "af8e8492-f5ce-4cc5-9e84-3e5531471356",
   "metadata": {},
   "outputs": [],
   "source": [
    "templates.pull_question(\"Computation and Estimation\", \"Multiplication\")"
   ]
  },
  {
   "cell_type": "code",
   "execution_count": null,
   "id": "95201922-1fa0-4aea-83b3-835e64571209",
   "metadata": {},
   "outputs": [],
   "source": [
    "pull_question(4, \"Computation and Estimation\", \"Multiplication\", 11)"
   ]
  },
  {
   "cell_type": "code",
   "execution_count": null,
   "id": "c52f0105-8584-40e3-afc4-1600fbee0486",
   "metadata": {},
   "outputs": [],
   "source": [
    "def pull_question(grade_level, standard, topic, num_questions):\n",
    "    classes = []\n",
    "    for name, obj in inspect.getmembers(templates):\n",
    "        if inspect.isclass(obj):\n",
    "            classes.append(obj)\n",
    "\n",
    "    while num_questions>0:\n",
    "        i = random.choice(classes)\n",
    "        x = i()\n",
    "        if x.attr1 == standard and x.attr2 == topic and x.attr3 == grade_level:\n",
    "            print(x.print_question(), x.print_choices())\n",
    "            num_questions = num_questions -1 \n",
    "        else:\n",
    "            pass"
   ]
  },
  {
   "cell_type": "code",
   "execution_count": null,
   "id": "cc635b68-396b-4ca0-8450-71a2c9dbe9f9",
   "metadata": {},
   "outputs": [],
   "source": [
    "days = ['Sunday', 'Monday', 'Tuesday', 'Wednesday']\n",
    "day1= random.randint(0,70)\n",
    "day2=random.randint(0,70)\n",
    "day3=random.randint(0,70)\n",
    "day4=random.randint(0,70)\n",
    "temperatures = [day1, day2, day3, day4]\n",
    "\n",
    "\n",
    "plt.plot(days, temperatures)\n",
    "plt.title('Morning Temperature')\n",
    "plt.xlabel('Day')\n",
    "plt.ylabel('Temperature (Degrees F)')\n",
    "plt.show()"
   ]
  },
  {
   "cell_type": "code",
   "execution_count": null,
   "id": "b052bb52-4eea-40df-bbf7-130bc54b7127",
   "metadata": {},
   "outputs": [],
   "source": [
    "import numpy as np"
   ]
  },
  {
   "cell_type": "code",
   "execution_count": null,
   "id": "ee463843-4380-4d09-b264-530470b9bcdb",
   "metadata": {},
   "outputs": [],
   "source": [
    "def closest_value(input_list, input_value):\n",
    "    arr = np.asarray(input_list)\n",
    "    i = (np.abs(arr-input_value)).argmin()\n",
    "    return i"
   ]
  },
  {
   "cell_type": "code",
   "execution_count": null,
   "id": "c134c07b-9cd4-44e8-b1e2-4f607854c837",
   "metadata": {},
   "outputs": [],
   "source": [
    "i =closest_value(, 70)\n",
    "Day[i]"
   ]
  },
  {
   "cell_type": "code",
   "execution_count": 3,
   "id": "ffe34c15-aae0-4bab-9bc7-404d2d53e51b",
   "metadata": {},
   "outputs": [
    {
     "name": "stdout",
     "output_type": "stream",
     "text": [
      "40\n",
      "20\n",
      "50\n",
      "30\n"
     ]
    }
   ],
   "source": [
    "x = g4_estimation_division_running_problem()"
   ]
  },
  {
   "cell_type": "code",
   "execution_count": 5,
   "id": "ad19334e-7ba3-4418-8d7d-a75daf4d4175",
   "metadata": {},
   "outputs": [],
   "source": [
    "x = g4_number_sense_decimal_largest_value()"
   ]
  },
  {
   "cell_type": "code",
   "execution_count": 6,
   "id": "7e11e24b-a068-4e5d-9287-f5479649b367",
   "metadata": {},
   "outputs": [
    {
     "data": {
      "text/plain": [
       "'Which of the four following numbers is largest? 13.24, 13.96, 13.83, 13.66'"
      ]
     },
     "execution_count": 6,
     "metadata": {},
     "output_type": "execute_result"
    }
   ],
   "source": [
    "x.print_question()"
   ]
  },
  {
   "cell_type": "code",
   "execution_count": 7,
   "id": "995b0f4c-375d-4fe4-a70a-9f210a45669b",
   "metadata": {},
   "outputs": [
    {
     "data": {
      "text/html": [
       "<div>\n",
       "<style scoped>\n",
       "    .dataframe tbody tr th:only-of-type {\n",
       "        vertical-align: middle;\n",
       "    }\n",
       "\n",
       "    .dataframe tbody tr th {\n",
       "        vertical-align: top;\n",
       "    }\n",
       "\n",
       "    .dataframe thead th {\n",
       "        text-align: right;\n",
       "    }\n",
       "</style>\n",
       "<table border=\"1\" class=\"dataframe\">\n",
       "  <thead>\n",
       "    <tr style=\"text-align: right;\">\n",
       "      <th></th>\n",
       "      <th></th>\n",
       "    </tr>\n",
       "  </thead>\n",
       "  <tbody>\n",
       "    <tr>\n",
       "      <th>a</th>\n",
       "      <td>13.83</td>\n",
       "    </tr>\n",
       "    <tr>\n",
       "      <th>b</th>\n",
       "      <td>13.96</td>\n",
       "    </tr>\n",
       "    <tr>\n",
       "      <th>c</th>\n",
       "      <td>13.24</td>\n",
       "    </tr>\n",
       "    <tr>\n",
       "      <th>d</th>\n",
       "      <td>13.66</td>\n",
       "    </tr>\n",
       "  </tbody>\n",
       "</table>\n",
       "</div>"
      ],
      "text/plain": [
       "        \n",
       "a  13.83\n",
       "b  13.96\n",
       "c  13.24\n",
       "d  13.66"
      ]
     },
     "execution_count": 7,
     "metadata": {},
     "output_type": "execute_result"
    }
   ],
   "source": [
    "x.print_choices()"
   ]
  },
  {
   "cell_type": "code",
   "execution_count": 8,
   "id": "a79dc1cf-88e1-4209-ab28-c688d5978c52",
   "metadata": {},
   "outputs": [
    {
     "data": {
      "text/plain": [
       "\"You didn't get the right answer this time. Keep trying and don't give up!\""
      ]
     },
     "execution_count": 8,
     "metadata": {},
     "output_type": "execute_result"
    }
   ],
   "source": [
    "x.student_answer('d')"
   ]
  },
  {
   "cell_type": "code",
   "execution_count": 26,
   "id": "2c201038-2fa8-4b04-8e8e-e7f47ab5f1e5",
   "metadata": {},
   "outputs": [],
   "source": [
    "methods = [\"repeated addition\", \"grouping\", \"the box method\", \"the standard algorithm\", \"any method you want\"]\n",
    "class g4_computation_multiplication_specific_method():\n",
    "    def __init__(self):\n",
    "        \n",
    "        self.attr1 = \"Computation and Estimation\"\n",
    "        self.attr2 = \"Multiplication\"\n",
    "        self.attr3 = 4\n",
    "        number1 = random.randint(2, 10)\n",
    "        number2 = random.randint(2, 10)\n",
    "        self.answer = number1 * number2\n",
    "        \n",
    "        \n",
    "        #New code\n",
    "        self.question= \"Use {method} to find {number1} X {number2}.\".format(method = random.choice(methods), number1 = number1, number2 = number2)\n",
    "        self.wrong_answers = []\n",
    "        wrong = number1 + number2\n",
    "        self.wrong_answers.append(wrong)\n",
    "        wrong1 = np.random.randint(low = 2,high=10,size=100)\n",
    "        wrong2 = np.random.randint(low = 2,high=10,size=100)\n",
    "        wrong = wrong1*wrong2\n",
    "        wrong = np.unique(wrong[wrong!=self.answer])[0:2].tolist()\n",
    "        for i in wrong:\n",
    "            self.wrong_answers.append(i)\n",
    "        self.choices = [self.answer] + self.wrong_answers\n",
    "        random.shuffle(self.choices)\n",
    "        self.correct_index = self.choices.index(self.answer)\n",
    "        self.correct_letter = ['a', 'b', 'c', 'd'][self.correct_index]\n",
    "        \n",
    "    def print_question(self):\n",
    "        return self.question\n",
    "    \n",
    "    def print_choices(self):\n",
    "        d = pd.DataFrame(self.choices, ['a', 'b', 'c', 'd'])\n",
    "        d.columns = ['']\n",
    "        return d\n",
    "    \n",
    "    def student_answer(self, student_answer):\n",
    "        if student_answer not in ['a', 'b', 'c', 'd']:\n",
    "            return \"Please type a, b, c, or d.\"\n",
    "        if student_answer == self.correct_letter:\n",
    "            return \"You got the right answer. Nice work!\"\n",
    "        if student_answer!= self.correct_letter:\n",
    "            return \"You didn't get the right answer this time. Keep trying and don't give up!\""
   ]
  },
  {
   "cell_type": "code",
   "execution_count": 27,
   "id": "d1bcf75f-6db9-4b20-a52f-022178690afd",
   "metadata": {},
   "outputs": [],
   "source": [
    "x = g4_computation_multiplication_specific_method()"
   ]
  },
  {
   "cell_type": "code",
   "execution_count": 28,
   "id": "87934cfd-822c-4f25-a7ee-012fc49255e7",
   "metadata": {},
   "outputs": [
    {
     "data": {
      "text/plain": [
       "'Use grouping to find 8 X 4.'"
      ]
     },
     "execution_count": 28,
     "metadata": {},
     "output_type": "execute_result"
    }
   ],
   "source": [
    "x.print_question()"
   ]
  },
  {
   "cell_type": "code",
   "execution_count": 29,
   "id": "af7760a8-7d03-4d41-9f9e-092a1e4dd596",
   "metadata": {},
   "outputs": [
    {
     "data": {
      "text/plain": [
       "[6, 4, 12, 32]"
      ]
     },
     "execution_count": 29,
     "metadata": {},
     "output_type": "execute_result"
    }
   ],
   "source": [
    "x.choices"
   ]
  },
  {
   "cell_type": "code",
   "execution_count": 30,
   "id": "2be58a06-4d6a-41f6-af69-ccf17f43c634",
   "metadata": {},
   "outputs": [
    {
     "data": {
      "text/html": [
       "<div>\n",
       "<style scoped>\n",
       "    .dataframe tbody tr th:only-of-type {\n",
       "        vertical-align: middle;\n",
       "    }\n",
       "\n",
       "    .dataframe tbody tr th {\n",
       "        vertical-align: top;\n",
       "    }\n",
       "\n",
       "    .dataframe thead th {\n",
       "        text-align: right;\n",
       "    }\n",
       "</style>\n",
       "<table border=\"1\" class=\"dataframe\">\n",
       "  <thead>\n",
       "    <tr style=\"text-align: right;\">\n",
       "      <th></th>\n",
       "      <th></th>\n",
       "    </tr>\n",
       "  </thead>\n",
       "  <tbody>\n",
       "    <tr>\n",
       "      <th>a</th>\n",
       "      <td>6</td>\n",
       "    </tr>\n",
       "    <tr>\n",
       "      <th>b</th>\n",
       "      <td>4</td>\n",
       "    </tr>\n",
       "    <tr>\n",
       "      <th>c</th>\n",
       "      <td>12</td>\n",
       "    </tr>\n",
       "    <tr>\n",
       "      <th>d</th>\n",
       "      <td>32</td>\n",
       "    </tr>\n",
       "  </tbody>\n",
       "</table>\n",
       "</div>"
      ],
      "text/plain": [
       "     \n",
       "a   6\n",
       "b   4\n",
       "c  12\n",
       "d  32"
      ]
     },
     "execution_count": 30,
     "metadata": {},
     "output_type": "execute_result"
    }
   ],
   "source": [
    "x.print_choices()"
   ]
  },
  {
   "cell_type": "code",
   "execution_count": 28,
   "id": "6bdc1ddc-787c-4e7f-a452-30d2cd670b44",
   "metadata": {},
   "outputs": [
    {
     "data": {
      "text/plain": [
       "\"You didn't get the right answer this time. Keep trying and don't give up!\""
      ]
     },
     "execution_count": 28,
     "metadata": {},
     "output_type": "execute_result"
    }
   ],
   "source": [
    "x.student_answer('a')"
   ]
  },
  {
   "cell_type": "code",
   "execution_count": 6,
   "id": "31dcc106-da30-4282-a973-6246f6fb55fa",
   "metadata": {},
   "outputs": [],
   "source": [
    "answer= 20\n",
    "wrong1 = np.random.randint(low = 2,high=10,size=5)\n",
    "wrong2 = np.random.randint(low = 20,high=60,size=5) *wrong1\n",
    "wrong = wrong2/wrong1\n",
    "wrong = np.round(wrong, -2)\n",
    "#wrong = np.unique(wrong[wrong!=answer])\n",
    "np.random.shuffle(wrong)\n",
    "#wrong = wrong[0:3].tolist()"
   ]
  },
  {
   "cell_type": "code",
   "execution_count": 7,
   "id": "1be0e5b1-2700-40b4-ac33-816e1b781d96",
   "metadata": {},
   "outputs": [
    {
     "data": {
      "text/plain": [
       "array([  0., 100.,   0.,   0., 100.])"
      ]
     },
     "execution_count": 7,
     "metadata": {},
     "output_type": "execute_result"
    }
   ],
   "source": [
    "wrong"
   ]
  },
  {
   "cell_type": "code",
   "execution_count": null,
   "id": "ba2a75a1-5eb1-45ae-ad95-cd1a643fcb6a",
   "metadata": {},
   "outputs": [],
   "source": []
  },
  {
   "cell_type": "code",
   "execution_count": null,
   "id": "db2d498b-6206-462b-aca5-0f36a64a4209",
   "metadata": {},
   "outputs": [],
   "source": []
  }
 ],
 "metadata": {
  "kernelspec": {
   "display_name": "Python 3 (ipykernel)",
   "language": "python",
   "name": "python3"
  },
  "language_info": {
   "codemirror_mode": {
    "name": "ipython",
    "version": 3
   },
   "file_extension": ".py",
   "mimetype": "text/x-python",
   "name": "python",
   "nbconvert_exporter": "python",
   "pygments_lexer": "ipython3",
   "version": "3.10.6"
  }
 },
 "nbformat": 4,
 "nbformat_minor": 5
}
