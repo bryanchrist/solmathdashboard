{
 "cells": [
  {
   "cell_type": "markdown",
   "id": "f0762ac7-93e8-4887-afda-0b228b85f315",
   "metadata": {
    "tags": []
   },
   "source": [
    "# Testing Environment for Python Templates\n",
    "\n",
    "### General notes/areas for improvement\n",
    "- Need to build in repeating question if they get it wrong\n",
    "- Turning fraction questions into multiple choice\n",
    "- Okay some questions are student inputs? \n",
    "- How to tell python to format a,b,c,d as strings versus answer for g4_number_sense_fraction_ordering() as a list and fraction questions as inputs\n",
    "- Decimal place value infinite loop\n",
    "- g4_number_sense_decimal_round() too easy for certain numbers?\n",
    "- sometimes g4_number_sense_decimal_place_value() runs and others it is an infinite loop\n",
    "- g4_number_sense_decimal_in_words() doesn't read like SOL does\n",
    "- how to get answer key to display correctly on g4_number_sense_big_number_in_words()\n",
    "- not sure if g4_geometry_shapes_angles() is too hard\n",
    "- Next steps\n",
    "    - Right now function creates an infinite loop for searching by question sometimes and other times works- seems to work only on small numbers- maybe that's because it hits the graphical questions? \n",
    "\n",
    "### Possible additions\n",
    "- picture questions\n",
    "- Three next steps\n",
    "    - Dashboard\n",
    "    - Training set for generation model\n",
    "    - Pictures/shapes\n",
    "    - Create a dataframe with class, standard, topic and gradelevel for each question and then query it \n",
    "        - do this with the inspect command\n",
    "            - if it is a class extract all this from the class \n",
    "            - store dataframe as a CSV file\n",
    "        - dataframe query, select rows with replacement bsample- random.choices()\n",
    "        - Then turn it into a database \n",
    "    - Go through code and see everywhere I use a while loop and see if there is a faster way to do it using pandas and numpy instead \n",
    "    - Come with examples for shape questions to work on next week - both simple and complicated\n",
    "\n",
    "Next: Function to pull questions, how to return two things without a tuple (running decimal chart), decimal place value, then fractions, then answer key on big number in words, then formatting of responses and repeating prompts until they answer a question right\n"
   ]
  },
  {
   "cell_type": "code",
   "execution_count": 1,
   "id": "ff334042-9778-4585-9ce8-ce839cbe35e7",
   "metadata": {},
   "outputs": [],
   "source": [
    "import templates\n",
    "import random\n",
    "import inspect\n",
    "import math\n",
    "from fractions import Fraction\n",
    "import matplotlib.pyplot as plt"
   ]
  },
  {
   "cell_type": "code",
   "execution_count": null,
   "id": "b3e96d06-5890-478d-9c14-02e9fd883386",
   "metadata": {},
   "outputs": [],
   "source": [
    "x = templates.g4_estimation_division_running_problem()"
   ]
  },
  {
   "cell_type": "code",
   "execution_count": null,
   "id": "9873bea4-f6f0-4448-a1ca-23a9b5b8733e",
   "metadata": {},
   "outputs": [
    {
     "data": {
      "text/plain": [
       "'What is the difference between 4/6 and 4/4?'"
      ]
     },
     "execution_count": 3,
     "metadata": {},
     "output_type": "execute_result"
    }
   ],
   "source": [
    "x.print_question()"
   ]
  },
  {
   "cell_type": "code",
   "execution_count": 4,
   "id": "db0fdd10-124c-4b99-aa2d-09716b1fb336",
   "metadata": {},
   "outputs": [
    {
     "ename": "AttributeError",
     "evalue": "'g4_computation_fraction_subtraction' object has no attribute 'print_choices'",
     "output_type": "error",
     "traceback": [
      "\u001b[0;31m---------------------------------------------------------------------------\u001b[0m",
      "\u001b[0;31mAttributeError\u001b[0m                            Traceback (most recent call last)",
      "Cell \u001b[0;32mIn [4], line 1\u001b[0m\n\u001b[0;32m----> 1\u001b[0m \u001b[43mx\u001b[49m\u001b[38;5;241;43m.\u001b[39;49m\u001b[43mprint_choices\u001b[49m()\n",
      "\u001b[0;31mAttributeError\u001b[0m: 'g4_computation_fraction_subtraction' object has no attribute 'print_choices'"
     ]
    }
   ],
   "source": [
    "x.print_choices()"
   ]
  },
  {
   "cell_type": "code",
   "execution_count": null,
   "id": "46f12e61-3821-40e4-8887-e2c2036c22c9",
   "metadata": {},
   "outputs": [],
   "source": [
    "x.student_answer('d')"
   ]
  },
  {
   "cell_type": "markdown",
   "id": "3eb7424b-e2b0-4039-a720-0376890c3d5d",
   "metadata": {},
   "source": [
    "| Letter | Answer |\n",
    "|--------|--------|\n",
    "|   a    |   20   |\n",
    "|   b    |   40   |\n",
    "|   c    |   90   |\n",
    "|   d    |   10   |\n"
   ]
  },
  {
   "cell_type": "code",
   "execution_count": null,
   "id": "d44cfa07-e7d3-4752-ae9d-558c503184e1",
   "metadata": {},
   "outputs": [],
   "source": [
    "def make_dataframe():\n",
    "    classes = []\n",
    "    standards = []\n",
    "    topics = []\n",
    "    grade_levels = []\n",
    "    for name, obj in inspect.getmembers(templates):\n",
    "        if inspect.isclass(obj):\n",
    "            classes.append(obj)\n",
    "    \n",
    "    for j in classes:\n",
    "        x = j()\n",
    "        standard = x.attr1 \n",
    "        topic = x.attr2 \n",
    "        grade_level = x.attr3 \n",
    "        standards.append(standard)\n",
    "        topics.append(topic)\n",
    "        grade_levels.append(grade_level)"
   ]
  },
  {
   "cell_type": "code",
   "execution_count": 2,
   "id": "0ccea3ab-a0de-416d-a39b-624d0ce413cd",
   "metadata": {},
   "outputs": [
    {
     "data": {
      "text/plain": [
       "[templates.g4_algebra_make_equation_true,\n",
       " templates.g4_computation_big_num_addition,\n",
       " templates.g4_computation_big_num_subtraction,\n",
       " templates.g4_computation_common_factor_word_problem,\n",
       " templates.g4_computation_decimal_addition,\n",
       " templates.g4_computation_decimal_subtraction_drinks,\n",
       " templates.g4_computation_division_statement,\n",
       " templates.g4_computation_fraction_addition,\n",
       " templates.g4_computation_fraction_subtraction,\n",
       " templates.g4_computation_lcm_word_problem,\n",
       " templates.g4_computation_multiplication_double_bags,\n",
       " templates.g4_computation_multiplication_female_bags,\n",
       " templates.g4_computation_multiplication_fortnite,\n",
       " templates.g4_computation_multiplication_male_bags,\n",
       " templates.g4_computation_multiplication_selling_items,\n",
       " templates.g4_computation_multiplication_situps,\n",
       " templates.g4_computation_multiplication_specific_method,\n",
       " templates.g4_computation_multiplication_two_digit_word_problem,\n",
       " templates.g4_computation_multiplication_with_drinks,\n",
       " templates.g4_computation_subtraction_word_problem,\n",
       " templates.g4_estimation_multiplication_store,\n",
       " templates.g4_functions_weather_graph,\n",
       " templates.g4_geometry_shapes_angles,\n",
       " templates.g4_measurement_gallons_to_pints,\n",
       " templates.g4_measurement_meters_to_millimeters,\n",
       " templates.g4_measurement_pounds_to_ounces,\n",
       " templates.g4_measurement_time_elapsed_sports_team,\n",
       " templates.g4_number_sense__comparison_running_table,\n",
       " templates.g4_number_sense_big_num_comparison,\n",
       " templates.g4_number_sense_big_number_in_words,\n",
       " templates.g4_number_sense_decimal_in_words,\n",
       " templates.g4_number_sense_decimal_largest_value,\n",
       " templates.g4_number_sense_decimal_place_value,\n",
       " templates.g4_number_sense_decimal_round,\n",
       " templates.g4_number_sense_fraction_ordering,\n",
       " templates.g4_number_sense_identify_fraction_number_line,\n",
       " templates.g4_number_sense_place_value_big_number_digit,\n",
       " templates.g4_number_sense_place_value_big_number_value,\n",
       " templates.g4_number_sense_round_big_number,\n",
       " templates.g4_pattern_increasing_numbers,\n",
       " templates.g4_pattern_number_of_teams_table,\n",
       " templates.g4_probability_coin_flip_number_line,\n",
       " templates.g4_probability_dice_roll_number_line,\n",
       " templates.g4_probability_no_chance]"
      ]
     },
     "execution_count": 2,
     "metadata": {},
     "output_type": "execute_result"
    }
   ],
   "source": [
    "classes = []\n",
    "standards = []\n",
    "topics = []\n",
    "grade_levels = []\n",
    "for name, obj in inspect.getmembers(templates):\n",
    "    if inspect.isclass(obj):\n",
    "        classes.append(obj)\n",
    "classes"
   ]
  },
  {
   "cell_type": "code",
   "execution_count": null,
   "id": "79c0d725-79d7-42a2-be1a-f0c6d94053b8",
   "metadata": {},
   "outputs": [],
   "source": [
    "for j in range(len(classes)):\n",
    "    x = classes[j]()\n",
    "    standard = x.attr1 \n",
    "    topic = x.attr2 \n",
    "    grade_level = x.attr3 \n",
    "    standards.append(standard)\n",
    "    topics.append(topic)\n",
    "    grade_levels.append(grade_level)\n",
    "\n",
    "topics"
   ]
  },
  {
   "cell_type": "code",
   "execution_count": null,
   "id": "4cfe42ad-79ff-4516-aa8f-d46164fd2fc5",
   "metadata": {},
   "outputs": [],
   "source": [
    "for j in classes:\n",
    "    x = j()\n",
    "    standard = x.attr1 \n",
    "    standards.append(standard)\n",
    "    print(standards)\n",
    "topics"
   ]
  },
  {
   "cell_type": "code",
   "execution_count": null,
   "id": "62851f04-a1a2-409c-a925-c90b1ab5e86a",
   "metadata": {},
   "outputs": [],
   "source": [
    "x= classes[21]()\n",
    "x"
   ]
  },
  {
   "cell_type": "code",
   "execution_count": null,
   "id": "7c3f95c3-bb5b-4130-8f3e-6256fb8efe7e",
   "metadata": {},
   "outputs": [],
   "source": [
    "number2 = random.randint(2, 10)\n",
    "number1 = random.randint(20,40)*number2\n",
    "wrong = round(number1/number2, -1)\n",
    "wrong"
   ]
  },
  {
   "cell_type": "code",
   "execution_count": null,
   "id": "5d3e599a-28fc-4889-9a44-d8aa0164f83e",
   "metadata": {},
   "outputs": [],
   "source": [
    "def pull_question(grade_level, standard, topic, num_questions):\n",
    "    classes = []\n",
    "    for name, obj in inspect.getmembers(templates):\n",
    "        if inspect.isclass(obj):\n",
    "            classes.append(obj)\n",
    "\n",
    "    while num_questions>0:\n",
    "        i = random.choice(classes)\n",
    "        x = i()\n",
    "        if x.attr1 == standard and x.attr2 == topic and x.attr3 == grade_level:\n",
    "            print(x.print_question(), x.print_choices())\n",
    "            num_questions = num_questions -1 \n",
    "        else:\n",
    "            pass"
   ]
  },
  {
   "cell_type": "code",
   "execution_count": null,
   "id": "0e0b4255-5fb0-4949-91d2-15f0cea1452f",
   "metadata": {},
   "outputs": [],
   "source": [
    "pull_question(4, \"Computation and Estimation\", \"Multiplication\", 12)"
   ]
  },
  {
   "cell_type": "code",
   "execution_count": null,
   "id": "e077ea29-253f-4ce2-a832-78e9856d7e5d",
   "metadata": {},
   "outputs": [],
   "source": [
    "x.attr2"
   ]
  },
  {
   "cell_type": "code",
   "execution_count": null,
   "id": "5a16c606-f608-4669-82a5-87d521bb8ea4",
   "metadata": {},
   "outputs": [],
   "source": [
    "classes = []\n",
    "for name, obj in inspect.getmembers(templates):\n",
    "    if inspect.isclass(obj):\n",
    "        classes.append(obj)\n",
    "\n",
    "for i in classes:\n",
    "    x = i()\n",
    "    print(x.print_question())\n",
    "\n",
    "classes"
   ]
  },
  {
   "cell_type": "code",
   "execution_count": null,
   "id": "120f47a7-1d89-4dae-9e6f-731ca9e665f2",
   "metadata": {},
   "outputs": [],
   "source": [
    "x.answer"
   ]
  },
  {
   "cell_type": "code",
   "execution_count": null,
   "id": "f6b60f68-4d68-439e-bcaf-0088422b3ff4",
   "metadata": {},
   "outputs": [],
   "source": [
    "class Dog:\n",
    "\n",
    "    def __init__(self):\n",
    "    \n",
    "        self.tricks = random.randint(1,10) \n",
    "        self.number = random.randint(1,10)\n",
    "        self.answer = self.tricks * self.number# creates a new empty list for each dog\n",
    "\n",
    "    def add_trick(self, trick):\n",
    "        self.tricks.append(trick)\n"
   ]
  },
  {
   "cell_type": "code",
   "execution_count": null,
   "id": "a94e9e17-a820-4472-acb1-fe5b31931c0e",
   "metadata": {},
   "outputs": [],
   "source": [
    "d = Dog()"
   ]
  },
  {
   "cell_type": "code",
   "execution_count": null,
   "id": "866b1587-2189-4545-9075-d1ad27fb9a61",
   "metadata": {},
   "outputs": [],
   "source": [
    "d.number"
   ]
  },
  {
   "cell_type": "code",
   "execution_count": null,
   "id": "6b1b6022-f0e7-45e4-a24c-ee0d9a56e2c3",
   "metadata": {},
   "outputs": [],
   "source": [
    "d.answer"
   ]
  },
  {
   "cell_type": "code",
   "execution_count": null,
   "id": "e9d0466f-6253-407e-925e-c8b5073dc10c",
   "metadata": {},
   "outputs": [],
   "source": [
    "d.print_question()"
   ]
  },
  {
   "cell_type": "code",
   "execution_count": null,
   "id": "fd2a634d-85f8-44e7-8f00-0b85e45d3ddf",
   "metadata": {},
   "outputs": [],
   "source": [
    "d.student_answer(80)"
   ]
  },
  {
   "cell_type": "code",
   "execution_count": null,
   "id": "539e06f0-83d7-40d3-a0e6-d4737f04b82e",
   "metadata": {},
   "outputs": [],
   "source": [
    "d.student_answer(6)"
   ]
  },
  {
   "cell_type": "code",
   "execution_count": null,
   "id": "0a2391d5-6f12-4d39-834e-3c3336e90e07",
   "metadata": {},
   "outputs": [],
   "source": [
    "r.print_question()"
   ]
  },
  {
   "cell_type": "code",
   "execution_count": null,
   "id": "acee5288-b453-4a0b-84a2-128bd3cc6817",
   "metadata": {},
   "outputs": [],
   "source": [
    "x = templates.g4_computation_multplication_specific_method()"
   ]
  },
  {
   "cell_type": "code",
   "execution_count": null,
   "id": "082a08ef-a797-42cb-8f4f-be2a493c2ebb",
   "metadata": {},
   "outputs": [],
   "source": [
    "x.print_question()"
   ]
  },
  {
   "cell_type": "code",
   "execution_count": null,
   "id": "9c89e133-49d4-4c58-9e49-62239c1dea06",
   "metadata": {},
   "outputs": [],
   "source": [
    "x.student_answer(6)"
   ]
  },
  {
   "cell_type": "code",
   "execution_count": null,
   "id": "4623e4ce-dae7-448b-a75e-3ed83123eabd",
   "metadata": {},
   "outputs": [],
   "source": [
    "class g4_computation_multplication_specific_method():\n",
    "    def __init__(self):\n",
    "        \n",
    "        number1 = random.randint(2, 10)\n",
    "        number2 = random.randint(2, 10)\n",
    "        self.answer = number1 * number2\n",
    "        self.question= \"Use {method} to find {number1} X {number2}.\".format(method = 'random.choice(methods)', number1 = number1, number2 = number2)\n",
    "    \n",
    "    def print_question(self):\n",
    "        return self.question\n",
    "    \n",
    "    def student_answer(self, student_answer):\n",
    "        if student_answer == self.answer:\n",
    "            return \"You got the right answer. Nice work!\"\n",
    "        if student_answer!= self.answer:\n",
    "            return \"Your answer is incorrect. Please try again!\""
   ]
  },
  {
   "cell_type": "code",
   "execution_count": null,
   "id": "49f839d9-29b8-4d56-9dcb-6ba80fe7dcea",
   "metadata": {},
   "outputs": [],
   "source": [
    "d = g4_computation_multplication_specific_method()"
   ]
  },
  {
   "cell_type": "code",
   "execution_count": null,
   "id": "16877f65-db63-4c85-a455-0273eb52cfbb",
   "metadata": {},
   "outputs": [],
   "source": [
    "d.print_question()"
   ]
  },
  {
   "cell_type": "code",
   "execution_count": null,
   "id": "df0b2104-d3ab-49ca-9e08-9fa2905581bb",
   "metadata": {},
   "outputs": [],
   "source": [
    "d.student_answer(20)"
   ]
  },
  {
   "cell_type": "code",
   "execution_count": null,
   "id": "399dd57b-5c5a-4f13-bcc6-78c7cdffc07d",
   "metadata": {},
   "outputs": [],
   "source": [
    "number1 = random.randint(1, 10)\n",
    "number2 = random.randint(1, 10)\n",
    "number3 = random.randint(1, 10)\n",
    "number4 = random.randint(1, 10) \n",
    "answer = (number1/number2) + (number3/number4)\n",
    "Fraction(answer)"
   ]
  },
  {
   "cell_type": "code",
   "execution_count": null,
   "id": "479b232d-1966-4fc5-85c2-f2fb226b495b",
   "metadata": {},
   "outputs": [],
   "source": [
    "number1 = random.randint(1, 10)\n",
    "number3 = random.randint(1, 10)\n",
    "Fraction(number1, number3)"
   ]
  },
  {
   "cell_type": "code",
   "execution_count": null,
   "id": "7cca04f5-5309-4dc8-be8a-b0e87bc249da",
   "metadata": {},
   "outputs": [],
   "source": [
    "print(placeValue(24, 4))"
   ]
  },
  {
   "cell_type": "code",
   "execution_count": null,
   "id": "2784e356-3b56-40fd-8ed6-066de879be62",
   "metadata": {},
   "outputs": [],
   "source": [
    "def get_digit(number, n):\n",
    "    return number // 10**n % 10"
   ]
  },
  {
   "cell_type": "code",
   "execution_count": null,
   "id": "8bac6d09-21fa-4668-87b5-780020949b5b",
   "metadata": {},
   "outputs": [],
   "source": [
    "get_digit(122.55, -2)"
   ]
  },
  {
   "cell_type": "code",
   "execution_count": null,
   "id": "438d33d3-0329-4db8-b83d-20a37c967f65",
   "metadata": {},
   "outputs": [],
   "source": [
    "N = random.randint(1000,1999)"
   ]
  },
  {
   "cell_type": "code",
   "execution_count": null,
   "id": "6672220b-5ee7-4fce-8787-e43e817696b1",
   "metadata": {},
   "outputs": [],
   "source": [
    "D= get_digit(N,3)"
   ]
  },
  {
   "cell_type": "code",
   "execution_count": null,
   "id": "f259bd31-8ff3-4b5e-b516-c764d00a52d7",
   "metadata": {},
   "outputs": [],
   "source": [
    "print(placeValue(N,D))"
   ]
  },
  {
   "cell_type": "code",
   "execution_count": null,
   "id": "2b7ddc78-d2d1-4731-8063-bc2d3eebdea0",
   "metadata": {},
   "outputs": [],
   "source": [
    "5.55%1"
   ]
  },
  {
   "cell_type": "code",
   "execution_count": null,
   "id": "d3097716-d911-45d0-bd4a-59471756c9fd",
   "metadata": {},
   "outputs": [],
   "source": [
    "get_digit(.0510000001, -3)"
   ]
  },
  {
   "cell_type": "code",
   "execution_count": null,
   "id": "93184030-3683-4f48-af34-8a394dbef2a2",
   "metadata": {},
   "outputs": [],
   "source": [
    "math.lcm(2,5,7)"
   ]
  },
  {
   "cell_type": "code",
   "execution_count": null,
   "id": "af8e8492-f5ce-4cc5-9e84-3e5531471356",
   "metadata": {},
   "outputs": [],
   "source": [
    "templates.pull_question(\"Computation and Estimation\", \"Multiplication\")"
   ]
  },
  {
   "cell_type": "code",
   "execution_count": null,
   "id": "95201922-1fa0-4aea-83b3-835e64571209",
   "metadata": {},
   "outputs": [],
   "source": [
    "pull_question(4, \"Computation and Estimation\", \"Multiplication\", 11)"
   ]
  },
  {
   "cell_type": "code",
   "execution_count": null,
   "id": "c52f0105-8584-40e3-afc4-1600fbee0486",
   "metadata": {},
   "outputs": [],
   "source": [
    "def pull_question(grade_level, standard, topic, num_questions):\n",
    "    classes = []\n",
    "    for name, obj in inspect.getmembers(templates):\n",
    "        if inspect.isclass(obj):\n",
    "            classes.append(obj)\n",
    "\n",
    "    while num_questions>0:\n",
    "        i = random.choice(classes)\n",
    "        x = i()\n",
    "        if x.attr1 == standard and x.attr2 == topic and x.attr3 == grade_level:\n",
    "            print(x.print_question(), x.print_choices())\n",
    "            num_questions = num_questions -1 \n",
    "        else:\n",
    "            pass"
   ]
  },
  {
   "cell_type": "code",
   "execution_count": null,
   "id": "cc635b68-396b-4ca0-8450-71a2c9dbe9f9",
   "metadata": {},
   "outputs": [],
   "source": [
    "days = ['Sunday', 'Monday', 'Tuesday', 'Wednesday']\n",
    "day1= random.randint(0,70)\n",
    "day2=random.randint(0,70)\n",
    "day3=random.randint(0,70)\n",
    "day4=random.randint(0,70)\n",
    "temperatures = [day1, day2, day3, day4]\n",
    "\n",
    "\n",
    "plt.plot(days, temperatures)\n",
    "plt.title('Morning Temperature')\n",
    "plt.xlabel('Day')\n",
    "plt.ylabel('Temperature (Degrees F)')\n",
    "plt.show()"
   ]
  },
  {
   "cell_type": "code",
   "execution_count": null,
   "id": "b052bb52-4eea-40df-bbf7-130bc54b7127",
   "metadata": {},
   "outputs": [],
   "source": [
    "import numpy as np"
   ]
  },
  {
   "cell_type": "code",
   "execution_count": null,
   "id": "ee463843-4380-4d09-b264-530470b9bcdb",
   "metadata": {},
   "outputs": [],
   "source": [
    "def closest_value(input_list, input_value):\n",
    "    arr = np.asarray(input_list)\n",
    "    i = (np.abs(arr-input_value)).argmin()\n",
    "    return i"
   ]
  },
  {
   "cell_type": "code",
   "execution_count": null,
   "id": "c134c07b-9cd4-44e8-b1e2-4f607854c837",
   "metadata": {},
   "outputs": [],
   "source": [
    "i =closest_value(, 70)\n",
    "Day[i]"
   ]
  },
  {
   "cell_type": "code",
   "execution_count": null,
   "id": "0bca5f2a-e282-420c-943d-41ac655b37a8",
   "metadata": {},
   "outputs": [],
   "source": [
    "class g4_estimation_division_running_problem():\n",
    "    def __init__(self):\n",
    "        \n",
    "        self.attr1 = \"Computation and Estimation\"\n",
    "        self.attr2 = \"Division\"\n",
    "        self.attr3 = 4\n",
    "        number2 = random.randint(2, 10)\n",
    "        number1 = random.randint(20,40)*number2\n",
    "        answer = number1/number2\n",
    "        self.answer= int(round(answer, -1))\n",
    "        self.question = \"{male_actor} ran a total of {number1} minutes in a {number2}-day period. He ran the same number of minutes each day. What is the closest to the number of minutes {male_actor} ran each day?\".format(male_actor = random.choice(male_actors), number2= number2, number1 = number1) \n",
    "        self.wrong_answers = []\n",
    "        while len(self.wrong_answers)<3:\n",
    "            number2 = random.randint(2, 10)\n",
    "            number1 = random.randint(20,40)*number2\n",
    "            wrong = number1/number2\n",
    "            wrong = round(wrong, -1)\n",
    "            wrong = int(wrong)\n",
    "            if wrong != self.answer and wrong not in self.wrong_answers:\n",
    "                self.wrong_answers.append(wrong)\n",
    "        self.choices = [self.answer] + self.wrong_answers\n",
    "        random.shuffle(self.choices)\n",
    "        self.correct_index = self.choices.index(self.answer)\n",
    "        self.correct_letter = ['a', 'b', 'c', 'd'][self.correct_index]\n",
    "        \n",
    "    def print_question(self):\n",
    "        return self.question\n",
    "    \n",
    "    def print_choices(self):\n",
    "        d = pd.DataFrame(self.choices, ['a', 'b', 'c', 'd'])\n",
    "        d.columns = ['']\n",
    "        return d\n",
    "    \n",
    "    def student_answer(self, student_answer):\n",
    "        if student_answer not in ['a', 'b', 'c', 'd']:\n",
    "            return \"Please type a, b, c, or d.\"\n",
    "        if student_answer == self.correct_letter:\n",
    "            return \"You got the right answer. Nice work!\"\n",
    "        if student_answer!= self.correct_letter:\n",
    "            return \"You didn't get the right answer this time. Keep trying and don't give up!\"   \n",
    "        "
   ]
  }
 ],
 "metadata": {
  "kernelspec": {
   "display_name": "Python 3 (ipykernel)",
   "language": "python",
   "name": "python3"
  },
  "language_info": {
   "codemirror_mode": {
    "name": "ipython",
    "version": 3
   },
   "file_extension": ".py",
   "mimetype": "text/x-python",
   "name": "python",
   "nbconvert_exporter": "python",
   "pygments_lexer": "ipython3",
   "version": "3.10.6"
  }
 },
 "nbformat": 4,
 "nbformat_minor": 5
}
