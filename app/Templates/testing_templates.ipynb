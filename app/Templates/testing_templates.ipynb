{
 "cells": [
  {
   "cell_type": "markdown",
   "id": "f0762ac7-93e8-4887-afda-0b228b85f315",
   "metadata": {
    "tags": []
   },
   "source": [
    "# Testing Environment for Python Templates\n",
    "\n",
    "### General notes/areas for improvement\n",
    "- Need to build in repeating question if they get it wrong\n",
    "- g4_number_sense_decimal_round() too easy for certain numbers?\n",
    "- g4_number_sense_decimal_in_words() doesn't read like SOL does\n",
    "- not sure if g4_geometry_shapes_angles() is too hard\n",
    "\n",
    "### Possible additions\n",
    "- picture questions\n",
    "- Three next steps\n",
    "    - Dashboard\n",
    "    - Training set for generation model\n",
    "    - Pictures/shapes\n",
    "    - Create a dataframe with class, standard, topic and gradelevel for each question and then query it \n",
    "        - do this with the inspect command\n",
    "            - if it is a class extract all this from the class \n",
    "            - store dataframe as a CSV file\n",
    "        - dataframe query, select rows with replacement bsample- random.choices()\n",
    "        - Then turn it into a database \n",
    "    - Go through code and see everywhere I use a while loop and see if there is a faster way to do it using pandas and numpy instead \n",
    "    - Come with examples for shape questions to work on next week - both simple and complicated\n",
    "\n",
    "Next: Get rid of while loops, proof function to pull questions, how to turn it into database, dropping missing rows from camelot DF and storing images in a DB, then fractions\n",
    "\n",
    "Next: Turn question pulling process into a database and query it - use sqlite, use where clause in pull questions, read chapter 12 of the book"
   ]
  },
  {
   "cell_type": "code",
   "execution_count": 12,
   "id": "ff334042-9778-4585-9ce8-ce839cbe35e7",
   "metadata": {},
   "outputs": [],
   "source": [
    "import templates\n",
    "import random\n",
    "import inspect\n",
    "import math\n",
    "from fractions import Fraction\n",
    "import matplotlib.pyplot as plt\n",
    "import pandas as pd\n",
    "import numpy as np\n",
    "from IPython.display import display, Markdown\n",
    "import sqlite3"
   ]
  },
  {
   "cell_type": "code",
   "execution_count": 2,
   "id": "b3e96d06-5890-478d-9c14-02e9fd883386",
   "metadata": {},
   "outputs": [],
   "source": [
    "x = templates.g4_number_sense__comparison_running_table()"
   ]
  },
  {
   "cell_type": "code",
   "execution_count": 3,
   "id": "9873bea4-f6f0-4448-a1ca-23a9b5b8733e",
   "metadata": {},
   "outputs": [
    {
     "data": {
      "text/markdown": [
       "| Name  | Time (in seconds) |\n",
       "|-------|-------------------|\n",
       "| Sam | 13.23|\n",
       "| Flora | 13.97|\n",
       "| Robin | 13.19|\n",
       "| Gina  | 13.91|"
      ],
      "text/plain": [
       "<IPython.core.display.Markdown object>"
      ]
     },
     "metadata": {},
     "output_type": "display_data"
    },
    {
     "data": {
      "text/plain": [
       "'The table shows the time it took 4 students to run a 40 meter race. Which time was the slowest time?'"
      ]
     },
     "execution_count": 3,
     "metadata": {},
     "output_type": "execute_result"
    }
   ],
   "source": [
    "x.print_question()"
   ]
  },
  {
   "cell_type": "code",
   "execution_count": 4,
   "id": "db0fdd10-124c-4b99-aa2d-09716b1fb336",
   "metadata": {},
   "outputs": [
    {
     "data": {
      "text/html": [
       "<div>\n",
       "<style scoped>\n",
       "    .dataframe tbody tr th:only-of-type {\n",
       "        vertical-align: middle;\n",
       "    }\n",
       "\n",
       "    .dataframe tbody tr th {\n",
       "        vertical-align: top;\n",
       "    }\n",
       "\n",
       "    .dataframe thead th {\n",
       "        text-align: right;\n",
       "    }\n",
       "</style>\n",
       "<table border=\"1\" class=\"dataframe\">\n",
       "  <thead>\n",
       "    <tr style=\"text-align: right;\">\n",
       "      <th></th>\n",
       "      <th></th>\n",
       "    </tr>\n",
       "  </thead>\n",
       "  <tbody>\n",
       "    <tr>\n",
       "      <th>a</th>\n",
       "      <td>13.19</td>\n",
       "    </tr>\n",
       "    <tr>\n",
       "      <th>b</th>\n",
       "      <td>13.91</td>\n",
       "    </tr>\n",
       "    <tr>\n",
       "      <th>c</th>\n",
       "      <td>13.97</td>\n",
       "    </tr>\n",
       "    <tr>\n",
       "      <th>d</th>\n",
       "      <td>13.23</td>\n",
       "    </tr>\n",
       "  </tbody>\n",
       "</table>\n",
       "</div>"
      ],
      "text/plain": [
       "        \n",
       "a  13.19\n",
       "b  13.91\n",
       "c  13.97\n",
       "d  13.23"
      ]
     },
     "execution_count": 4,
     "metadata": {},
     "output_type": "execute_result"
    }
   ],
   "source": [
    "x.print_choices()"
   ]
  },
  {
   "cell_type": "code",
   "execution_count": 5,
   "id": "46f12e61-3821-40e4-8887-e2c2036c22c9",
   "metadata": {},
   "outputs": [
    {
     "data": {
      "text/plain": [
       "\"You didn't get the right answer this time. Keep trying and don't give up!\""
      ]
     },
     "execution_count": 5,
     "metadata": {},
     "output_type": "execute_result"
    }
   ],
   "source": [
    "x.student_answer('d')"
   ]
  },
  {
   "cell_type": "code",
   "execution_count": 6,
   "id": "0ccea3ab-a0de-416d-a39b-624d0ce413cd",
   "metadata": {},
   "outputs": [
    {
     "data": {
      "text/plain": [
       "[templates.g4_algebra_make_equation_true,\n",
       " templates.g4_computation_big_num_addition,\n",
       " templates.g4_computation_big_num_subtraction,\n",
       " templates.g4_computation_decimal_addition,\n",
       " templates.g4_computation_decimal_subtraction_drinks,\n",
       " templates.g4_computation_division_statement,\n",
       " templates.g4_computation_fraction_addition,\n",
       " templates.g4_computation_fraction_subtraction,\n",
       " templates.g4_computation_largest_common_factor_word_problem,\n",
       " templates.g4_computation_lcm_word_problem,\n",
       " templates.g4_computation_multiplication_double_bags,\n",
       " templates.g4_computation_multiplication_female_bags,\n",
       " templates.g4_computation_multiplication_fortnite,\n",
       " templates.g4_computation_multiplication_male_bags,\n",
       " templates.g4_computation_multiplication_selling_items,\n",
       " templates.g4_computation_multiplication_situps,\n",
       " templates.g4_computation_multiplication_specific_method,\n",
       " templates.g4_computation_multiplication_two_digit_word_problem,\n",
       " templates.g4_computation_multiplication_with_drinks,\n",
       " templates.g4_computation_subtraction_word_problem,\n",
       " templates.g4_estimation_division_running_problem,\n",
       " templates.g4_estimation_multiplication_store,\n",
       " templates.g4_functions_weather_graph,\n",
       " templates.g4_geometry_shapes_angles,\n",
       " templates.g4_measurement_gallons_to_pints,\n",
       " templates.g4_measurement_meters_to_millimeters,\n",
       " templates.g4_measurement_pounds_to_ounces,\n",
       " templates.g4_measurement_time_elapsed_sports_team,\n",
       " templates.g4_number_sense__comparison_running_table,\n",
       " templates.g4_number_sense_big_num_comparison,\n",
       " templates.g4_number_sense_big_number_in_words,\n",
       " templates.g4_number_sense_decimal_in_words,\n",
       " templates.g4_number_sense_decimal_largest_value,\n",
       " templates.g4_number_sense_decimal_place_value,\n",
       " templates.g4_number_sense_decimal_round,\n",
       " templates.g4_number_sense_fraction_ordering,\n",
       " templates.g4_number_sense_identify_fraction_number_line,\n",
       " templates.g4_number_sense_place_value_big_number_digit,\n",
       " templates.g4_number_sense_place_value_big_number_value,\n",
       " templates.g4_number_sense_round_big_number,\n",
       " templates.g4_pattern_increasing_numbers,\n",
       " templates.g4_pattern_number_of_teams_table,\n",
       " templates.g4_probability_coin_flip_number_line,\n",
       " templates.g4_probability_dice_roll_number_line,\n",
       " templates.g4_probability_no_chance]"
      ]
     },
     "execution_count": 6,
     "metadata": {},
     "output_type": "execute_result"
    }
   ],
   "source": [
    "classes = []\n",
    "standards = []\n",
    "topics = []\n",
    "grade_levels = []\n",
    "for name, obj in inspect.getmembers(templates):\n",
    "    if inspect.isclass(obj):\n",
    "        classes.append(obj)\n",
    "        \n",
    "classes"
   ]
  },
  {
   "cell_type": "code",
   "execution_count": 7,
   "id": "5ce5df54-d3a6-4a6d-858b-33d34cebceb1",
   "metadata": {},
   "outputs": [
    {
     "name": "stdout",
     "output_type": "stream",
     "text": [
      "<templates.g4_algebra_make_equation_true object at 0xffff4d8f3610>\n",
      "<templates.g4_computation_big_num_addition object at 0xffff839f0910>\n",
      "<templates.g4_computation_big_num_subtraction object at 0xffff839f0790>\n",
      "<templates.g4_computation_decimal_addition object at 0xffff839f0910>\n",
      "<templates.g4_computation_decimal_subtraction_drinks object at 0xffff839f0790>\n",
      "<templates.g4_computation_division_statement object at 0xffff839f0910>\n",
      "<templates.g4_computation_fraction_addition object at 0xffff839f0790>\n",
      "<templates.g4_computation_fraction_subtraction object at 0xffff839f0910>\n",
      "<templates.g4_computation_largest_common_factor_word_problem object at 0xffff839f0790>\n",
      "<templates.g4_computation_lcm_word_problem object at 0xffff839f0910>\n",
      "<templates.g4_computation_multiplication_double_bags object at 0xffff839f0790>\n",
      "<templates.g4_computation_multiplication_female_bags object at 0xffff839f0910>\n",
      "<templates.g4_computation_multiplication_fortnite object at 0xffff839f0790>\n",
      "<templates.g4_computation_multiplication_male_bags object at 0xffff839f0910>\n",
      "<templates.g4_computation_multiplication_selling_items object at 0xffff839f0790>\n",
      "<templates.g4_computation_multiplication_situps object at 0xffff681ab010>\n",
      "<templates.g4_computation_multiplication_specific_method object at 0xffff839f0790>\n",
      "<templates.g4_computation_multiplication_two_digit_word_problem object at 0xffff681ab010>\n",
      "<templates.g4_computation_multiplication_with_drinks object at 0xffff839f0790>\n",
      "<templates.g4_computation_subtraction_word_problem object at 0xffff681ab010>\n",
      "<templates.g4_estimation_division_running_problem object at 0xffff839f0790>\n",
      "<templates.g4_estimation_multiplication_store object at 0xffff681ab010>\n",
      "<templates.g4_functions_weather_graph object at 0xffff839f0790>\n",
      "<templates.g4_geometry_shapes_angles object at 0xffff681ab010>\n",
      "<templates.g4_measurement_gallons_to_pints object at 0xffff839f0790>\n",
      "<templates.g4_measurement_meters_to_millimeters object at 0xffff681ab010>\n",
      "<templates.g4_measurement_pounds_to_ounces object at 0xffff839f0790>\n",
      "<templates.g4_measurement_time_elapsed_sports_team object at 0xffff681ab010>\n",
      "<templates.g4_number_sense__comparison_running_table object at 0xffff839f0790>\n",
      "<templates.g4_number_sense_big_num_comparison object at 0xffff681ab010>\n",
      "<templates.g4_number_sense_big_number_in_words object at 0xffff839f0790>\n",
      "<templates.g4_number_sense_decimal_in_words object at 0xffff681ab010>\n",
      "<templates.g4_number_sense_decimal_largest_value object at 0xffff839f0790>\n",
      "<templates.g4_number_sense_decimal_place_value object at 0xffff681ab010>\n",
      "<templates.g4_number_sense_decimal_round object at 0xffff839f0790>\n",
      "<templates.g4_number_sense_fraction_ordering object at 0xffff681ab010>\n",
      "<templates.g4_number_sense_identify_fraction_number_line object at 0xffff839f0790>\n",
      "<templates.g4_number_sense_place_value_big_number_digit object at 0xffff681ab010>\n",
      "<templates.g4_number_sense_place_value_big_number_value object at 0xffff839f0790>\n",
      "<templates.g4_number_sense_round_big_number object at 0xffff681ab010>\n",
      "<templates.g4_pattern_increasing_numbers object at 0xffff839f0790>\n",
      "<templates.g4_pattern_number_of_teams_table object at 0xffff681ab010>\n",
      "<templates.g4_probability_coin_flip_number_line object at 0xffff839f0790>\n",
      "<templates.g4_probability_dice_roll_number_line object at 0xffff681ab010>\n",
      "<templates.g4_probability_no_chance object at 0xffff839f0790>\n"
     ]
    },
    {
     "name": "stderr",
     "output_type": "stream",
     "text": [
      "/solmathdashboard/app/Templates/templates.py:736: FutureWarning: elementwise comparison failed; returning scalar instead, but in the future will perform elementwise comparison\n",
      "  wrong = np.unique(wrong[wrong!=answer])\n",
      "/solmathdashboard/app/Templates/templates.py:678: FutureWarning: elementwise comparison failed; returning scalar instead, but in the future will perform elementwise comparison\n",
      "  wrong = np.unique(wrong[wrong!=answer])\n",
      "/solmathdashboard/app/Templates/templates.py:1110: FutureWarning: elementwise comparison failed; returning scalar instead, but in the future will perform elementwise comparison\n",
      "  wrong = np.unique(wrong[wrong!=answer])\n",
      "/solmathdashboard/app/Templates/templates.py:1168: FutureWarning: elementwise comparison failed; returning scalar instead, but in the future will perform elementwise comparison\n",
      "  wrong = np.unique(wrong[wrong!=answer])\n"
     ]
    }
   ],
   "source": [
    "for j in range(len(classes)):\n",
    "    x = classes[j]()\n",
    "    print(x)\n",
    "    standard = x.attr1 \n",
    "    topic = x.attr2 \n",
    "    topics.append(topic)\n",
    "    grade_level = x.attr3 \n",
    "    standards.append(standard)\n",
    "    grade_levels.append(grade_level)"
   ]
  },
  {
   "cell_type": "code",
   "execution_count": 8,
   "id": "75a97b94-da94-4303-8073-f7873b9d2146",
   "metadata": {},
   "outputs": [
    {
     "data": {
      "text/html": [
       "<div>\n",
       "<style scoped>\n",
       "    .dataframe tbody tr th:only-of-type {\n",
       "        vertical-align: middle;\n",
       "    }\n",
       "\n",
       "    .dataframe tbody tr th {\n",
       "        vertical-align: top;\n",
       "    }\n",
       "\n",
       "    .dataframe thead th {\n",
       "        text-align: right;\n",
       "    }\n",
       "</style>\n",
       "<table border=\"1\" class=\"dataframe\">\n",
       "  <thead>\n",
       "    <tr style=\"text-align: right;\">\n",
       "      <th></th>\n",
       "      <th>Class</th>\n",
       "      <th>Grade_level</th>\n",
       "      <th>Standard</th>\n",
       "      <th>Topic</th>\n",
       "    </tr>\n",
       "  </thead>\n",
       "  <tbody>\n",
       "    <tr>\n",
       "      <th>0</th>\n",
       "      <td>&lt;class 'templates.g4_algebra_make_equation_true'&gt;</td>\n",
       "      <td>4</td>\n",
       "      <td>Probability, Statistics, Patterns, Functions, ...</td>\n",
       "      <td>Algebra</td>\n",
       "    </tr>\n",
       "    <tr>\n",
       "      <th>1</th>\n",
       "      <td>&lt;class 'templates.g4_computation_big_num_addit...</td>\n",
       "      <td>4</td>\n",
       "      <td>Computation and Estimation</td>\n",
       "      <td>Addition/Subtraction</td>\n",
       "    </tr>\n",
       "    <tr>\n",
       "      <th>2</th>\n",
       "      <td>&lt;class 'templates.g4_computation_big_num_subtr...</td>\n",
       "      <td>4</td>\n",
       "      <td>Computation and Estimation</td>\n",
       "      <td>Addition/Subtraction</td>\n",
       "    </tr>\n",
       "    <tr>\n",
       "      <th>3</th>\n",
       "      <td>&lt;class 'templates.g4_computation_decimal_addit...</td>\n",
       "      <td>4</td>\n",
       "      <td>Computation and Estimation</td>\n",
       "      <td>Decimal Addition/Subtraction</td>\n",
       "    </tr>\n",
       "    <tr>\n",
       "      <th>4</th>\n",
       "      <td>&lt;class 'templates.g4_computation_decimal_subtr...</td>\n",
       "      <td>4</td>\n",
       "      <td>Computation and Estimation</td>\n",
       "      <td>Decimal Addition/Subtraction</td>\n",
       "    </tr>\n",
       "    <tr>\n",
       "      <th>5</th>\n",
       "      <td>&lt;class 'templates.g4_computation_division_stat...</td>\n",
       "      <td>4</td>\n",
       "      <td>Computation and Estimation</td>\n",
       "      <td>Division</td>\n",
       "    </tr>\n",
       "    <tr>\n",
       "      <th>6</th>\n",
       "      <td>&lt;class 'templates.g4_computation_fraction_addi...</td>\n",
       "      <td>4</td>\n",
       "      <td>Computation and Estimation</td>\n",
       "      <td>Fraction Addition/Subtraction</td>\n",
       "    </tr>\n",
       "    <tr>\n",
       "      <th>7</th>\n",
       "      <td>&lt;class 'templates.g4_computation_fraction_subt...</td>\n",
       "      <td>4</td>\n",
       "      <td>Computation and Estimation</td>\n",
       "      <td>Fraction Addition/Subtraction</td>\n",
       "    </tr>\n",
       "    <tr>\n",
       "      <th>8</th>\n",
       "      <td>&lt;class 'templates.g4_computation_largest_commo...</td>\n",
       "      <td>4</td>\n",
       "      <td>Computation and Estimation</td>\n",
       "      <td>Common Factor</td>\n",
       "    </tr>\n",
       "    <tr>\n",
       "      <th>9</th>\n",
       "      <td>&lt;class 'templates.g4_computation_lcm_word_prob...</td>\n",
       "      <td>4</td>\n",
       "      <td>Computation and Estimation</td>\n",
       "      <td>Least Common Multiple</td>\n",
       "    </tr>\n",
       "    <tr>\n",
       "      <th>10</th>\n",
       "      <td>&lt;class 'templates.g4_computation_multiplicatio...</td>\n",
       "      <td>4</td>\n",
       "      <td>Computation and Estimation</td>\n",
       "      <td>Multiplication</td>\n",
       "    </tr>\n",
       "    <tr>\n",
       "      <th>11</th>\n",
       "      <td>&lt;class 'templates.g4_computation_multiplicatio...</td>\n",
       "      <td>4</td>\n",
       "      <td>Computation and Estimation</td>\n",
       "      <td>Multiplication</td>\n",
       "    </tr>\n",
       "    <tr>\n",
       "      <th>12</th>\n",
       "      <td>&lt;class 'templates.g4_computation_multiplicatio...</td>\n",
       "      <td>4</td>\n",
       "      <td>Computation and Estimation</td>\n",
       "      <td>Multiplication</td>\n",
       "    </tr>\n",
       "    <tr>\n",
       "      <th>13</th>\n",
       "      <td>&lt;class 'templates.g4_computation_multiplicatio...</td>\n",
       "      <td>4</td>\n",
       "      <td>Computation and Estimation</td>\n",
       "      <td>Multiplication</td>\n",
       "    </tr>\n",
       "    <tr>\n",
       "      <th>14</th>\n",
       "      <td>&lt;class 'templates.g4_computation_multiplicatio...</td>\n",
       "      <td>4</td>\n",
       "      <td>Computation and Estimation</td>\n",
       "      <td>Multiplication</td>\n",
       "    </tr>\n",
       "    <tr>\n",
       "      <th>15</th>\n",
       "      <td>&lt;class 'templates.g4_computation_multiplicatio...</td>\n",
       "      <td>4</td>\n",
       "      <td>Computation and Estimation</td>\n",
       "      <td>Multiplication</td>\n",
       "    </tr>\n",
       "    <tr>\n",
       "      <th>16</th>\n",
       "      <td>&lt;class 'templates.g4_computation_multiplicatio...</td>\n",
       "      <td>4</td>\n",
       "      <td>Computation and Estimation</td>\n",
       "      <td>Multiplication</td>\n",
       "    </tr>\n",
       "    <tr>\n",
       "      <th>17</th>\n",
       "      <td>&lt;class 'templates.g4_computation_multiplicatio...</td>\n",
       "      <td>4</td>\n",
       "      <td>Computation and Estimation</td>\n",
       "      <td>Multiplication</td>\n",
       "    </tr>\n",
       "    <tr>\n",
       "      <th>18</th>\n",
       "      <td>&lt;class 'templates.g4_computation_multiplicatio...</td>\n",
       "      <td>4</td>\n",
       "      <td>Computation and Estimation</td>\n",
       "      <td>Multiplication</td>\n",
       "    </tr>\n",
       "    <tr>\n",
       "      <th>19</th>\n",
       "      <td>&lt;class 'templates.g4_computation_subtraction_w...</td>\n",
       "      <td>4</td>\n",
       "      <td>Computation and Estimation</td>\n",
       "      <td>Addition/Subtraction</td>\n",
       "    </tr>\n",
       "    <tr>\n",
       "      <th>20</th>\n",
       "      <td>&lt;class 'templates.g4_estimation_division_runni...</td>\n",
       "      <td>4</td>\n",
       "      <td>Computation and Estimation</td>\n",
       "      <td>Division</td>\n",
       "    </tr>\n",
       "    <tr>\n",
       "      <th>21</th>\n",
       "      <td>&lt;class 'templates.g4_estimation_multiplication...</td>\n",
       "      <td>4</td>\n",
       "      <td>Computation and Estimation</td>\n",
       "      <td>Multiplication</td>\n",
       "    </tr>\n",
       "    <tr>\n",
       "      <th>22</th>\n",
       "      <td>&lt;class 'templates.g4_functions_weather_graph'&gt;</td>\n",
       "      <td>4</td>\n",
       "      <td>Probability, Statistics, Patterns, Functions, ...</td>\n",
       "      <td>Graph</td>\n",
       "    </tr>\n",
       "    <tr>\n",
       "      <th>23</th>\n",
       "      <td>&lt;class 'templates.g4_geometry_shapes_angles'&gt;</td>\n",
       "      <td>4</td>\n",
       "      <td>Measurement and Geometry</td>\n",
       "      <td>Geometry</td>\n",
       "    </tr>\n",
       "    <tr>\n",
       "      <th>24</th>\n",
       "      <td>&lt;class 'templates.g4_measurement_gallons_to_pi...</td>\n",
       "      <td>4</td>\n",
       "      <td>Measurement and Geometry</td>\n",
       "      <td>Measurement</td>\n",
       "    </tr>\n",
       "    <tr>\n",
       "      <th>25</th>\n",
       "      <td>&lt;class 'templates.g4_measurement_meters_to_mil...</td>\n",
       "      <td>4</td>\n",
       "      <td>Measurement and Geometry</td>\n",
       "      <td>Measurement</td>\n",
       "    </tr>\n",
       "    <tr>\n",
       "      <th>26</th>\n",
       "      <td>&lt;class 'templates.g4_measurement_pounds_to_oun...</td>\n",
       "      <td>4</td>\n",
       "      <td>Measurement and Geometry</td>\n",
       "      <td>Measurement</td>\n",
       "    </tr>\n",
       "    <tr>\n",
       "      <th>27</th>\n",
       "      <td>&lt;class 'templates.g4_measurement_time_elapsed_...</td>\n",
       "      <td>4</td>\n",
       "      <td>Measurement and Geometry</td>\n",
       "      <td>Time Elapsed</td>\n",
       "    </tr>\n",
       "    <tr>\n",
       "      <th>28</th>\n",
       "      <td>&lt;class 'templates.g4_number_sense__comparison_...</td>\n",
       "      <td>4</td>\n",
       "      <td>Number and Number Sense</td>\n",
       "      <td>Decimal Comparison</td>\n",
       "    </tr>\n",
       "    <tr>\n",
       "      <th>29</th>\n",
       "      <td>&lt;class 'templates.g4_number_sense_big_num_comp...</td>\n",
       "      <td>4</td>\n",
       "      <td>Number and Number Sense</td>\n",
       "      <td>Number Comparison</td>\n",
       "    </tr>\n",
       "    <tr>\n",
       "      <th>30</th>\n",
       "      <td>&lt;class 'templates.g4_number_sense_big_number_i...</td>\n",
       "      <td>4</td>\n",
       "      <td>Number and Number Sense</td>\n",
       "      <td>Number in Words</td>\n",
       "    </tr>\n",
       "    <tr>\n",
       "      <th>31</th>\n",
       "      <td>&lt;class 'templates.g4_number_sense_decimal_in_w...</td>\n",
       "      <td>4</td>\n",
       "      <td>Number and Number Sense</td>\n",
       "      <td>Decimal in Words</td>\n",
       "    </tr>\n",
       "    <tr>\n",
       "      <th>32</th>\n",
       "      <td>&lt;class 'templates.g4_number_sense_decimal_larg...</td>\n",
       "      <td>4</td>\n",
       "      <td>Number and Number Sense</td>\n",
       "      <td>Decimal Comparison</td>\n",
       "    </tr>\n",
       "    <tr>\n",
       "      <th>33</th>\n",
       "      <td>&lt;class 'templates.g4_number_sense_decimal_plac...</td>\n",
       "      <td>4</td>\n",
       "      <td>Number and Number Sense</td>\n",
       "      <td>Decimal Place Value</td>\n",
       "    </tr>\n",
       "    <tr>\n",
       "      <th>34</th>\n",
       "      <td>&lt;class 'templates.g4_number_sense_decimal_round'&gt;</td>\n",
       "      <td>4</td>\n",
       "      <td>Number and Number Sense</td>\n",
       "      <td>Decimal Rounding</td>\n",
       "    </tr>\n",
       "    <tr>\n",
       "      <th>35</th>\n",
       "      <td>&lt;class 'templates.g4_number_sense_fraction_ord...</td>\n",
       "      <td>4</td>\n",
       "      <td>Number and Number Sense</td>\n",
       "      <td>Fraction Ordering</td>\n",
       "    </tr>\n",
       "    <tr>\n",
       "      <th>36</th>\n",
       "      <td>&lt;class 'templates.g4_number_sense_identify_fra...</td>\n",
       "      <td>4</td>\n",
       "      <td>Number and Number Sense</td>\n",
       "      <td>Fraction Number Line</td>\n",
       "    </tr>\n",
       "    <tr>\n",
       "      <th>37</th>\n",
       "      <td>&lt;class 'templates.g4_number_sense_place_value_...</td>\n",
       "      <td>4</td>\n",
       "      <td>Number and Number Sense</td>\n",
       "      <td>Place Value</td>\n",
       "    </tr>\n",
       "    <tr>\n",
       "      <th>38</th>\n",
       "      <td>&lt;class 'templates.g4_number_sense_place_value_...</td>\n",
       "      <td>4</td>\n",
       "      <td>Number and Number Sense</td>\n",
       "      <td>Place Value</td>\n",
       "    </tr>\n",
       "    <tr>\n",
       "      <th>39</th>\n",
       "      <td>&lt;class 'templates.g4_number_sense_round_big_nu...</td>\n",
       "      <td>4</td>\n",
       "      <td>Number and Number Sense</td>\n",
       "      <td>Rounding</td>\n",
       "    </tr>\n",
       "    <tr>\n",
       "      <th>40</th>\n",
       "      <td>&lt;class 'templates.g4_pattern_increasing_numbers'&gt;</td>\n",
       "      <td>4</td>\n",
       "      <td>Probability, Statistics, Patterns, Functions, ...</td>\n",
       "      <td>Patterns</td>\n",
       "    </tr>\n",
       "    <tr>\n",
       "      <th>41</th>\n",
       "      <td>&lt;class 'templates.g4_pattern_number_of_teams_t...</td>\n",
       "      <td>4</td>\n",
       "      <td>Probability, Statistics, Patterns, Functions, ...</td>\n",
       "      <td>Patterns</td>\n",
       "    </tr>\n",
       "    <tr>\n",
       "      <th>42</th>\n",
       "      <td>&lt;class 'templates.g4_probability_coin_flip_num...</td>\n",
       "      <td>4</td>\n",
       "      <td>Probability, Statistics, Patterns, Functions, ...</td>\n",
       "      <td>Probability</td>\n",
       "    </tr>\n",
       "    <tr>\n",
       "      <th>43</th>\n",
       "      <td>&lt;class 'templates.g4_probability_dice_roll_num...</td>\n",
       "      <td>4</td>\n",
       "      <td>Probability, Statistics, Patterns, Functions, ...</td>\n",
       "      <td>Probability</td>\n",
       "    </tr>\n",
       "    <tr>\n",
       "      <th>44</th>\n",
       "      <td>&lt;class 'templates.g4_probability_no_chance'&gt;</td>\n",
       "      <td>4</td>\n",
       "      <td>Probability, Statistics, Patterns, Functions, ...</td>\n",
       "      <td>Probability</td>\n",
       "    </tr>\n",
       "  </tbody>\n",
       "</table>\n",
       "</div>"
      ],
      "text/plain": [
       "                                                Class  Grade_level  \\\n",
       "0   <class 'templates.g4_algebra_make_equation_true'>            4   \n",
       "1   <class 'templates.g4_computation_big_num_addit...            4   \n",
       "2   <class 'templates.g4_computation_big_num_subtr...            4   \n",
       "3   <class 'templates.g4_computation_decimal_addit...            4   \n",
       "4   <class 'templates.g4_computation_decimal_subtr...            4   \n",
       "5   <class 'templates.g4_computation_division_stat...            4   \n",
       "6   <class 'templates.g4_computation_fraction_addi...            4   \n",
       "7   <class 'templates.g4_computation_fraction_subt...            4   \n",
       "8   <class 'templates.g4_computation_largest_commo...            4   \n",
       "9   <class 'templates.g4_computation_lcm_word_prob...            4   \n",
       "10  <class 'templates.g4_computation_multiplicatio...            4   \n",
       "11  <class 'templates.g4_computation_multiplicatio...            4   \n",
       "12  <class 'templates.g4_computation_multiplicatio...            4   \n",
       "13  <class 'templates.g4_computation_multiplicatio...            4   \n",
       "14  <class 'templates.g4_computation_multiplicatio...            4   \n",
       "15  <class 'templates.g4_computation_multiplicatio...            4   \n",
       "16  <class 'templates.g4_computation_multiplicatio...            4   \n",
       "17  <class 'templates.g4_computation_multiplicatio...            4   \n",
       "18  <class 'templates.g4_computation_multiplicatio...            4   \n",
       "19  <class 'templates.g4_computation_subtraction_w...            4   \n",
       "20  <class 'templates.g4_estimation_division_runni...            4   \n",
       "21  <class 'templates.g4_estimation_multiplication...            4   \n",
       "22     <class 'templates.g4_functions_weather_graph'>            4   \n",
       "23      <class 'templates.g4_geometry_shapes_angles'>            4   \n",
       "24  <class 'templates.g4_measurement_gallons_to_pi...            4   \n",
       "25  <class 'templates.g4_measurement_meters_to_mil...            4   \n",
       "26  <class 'templates.g4_measurement_pounds_to_oun...            4   \n",
       "27  <class 'templates.g4_measurement_time_elapsed_...            4   \n",
       "28  <class 'templates.g4_number_sense__comparison_...            4   \n",
       "29  <class 'templates.g4_number_sense_big_num_comp...            4   \n",
       "30  <class 'templates.g4_number_sense_big_number_i...            4   \n",
       "31  <class 'templates.g4_number_sense_decimal_in_w...            4   \n",
       "32  <class 'templates.g4_number_sense_decimal_larg...            4   \n",
       "33  <class 'templates.g4_number_sense_decimal_plac...            4   \n",
       "34  <class 'templates.g4_number_sense_decimal_round'>            4   \n",
       "35  <class 'templates.g4_number_sense_fraction_ord...            4   \n",
       "36  <class 'templates.g4_number_sense_identify_fra...            4   \n",
       "37  <class 'templates.g4_number_sense_place_value_...            4   \n",
       "38  <class 'templates.g4_number_sense_place_value_...            4   \n",
       "39  <class 'templates.g4_number_sense_round_big_nu...            4   \n",
       "40  <class 'templates.g4_pattern_increasing_numbers'>            4   \n",
       "41  <class 'templates.g4_pattern_number_of_teams_t...            4   \n",
       "42  <class 'templates.g4_probability_coin_flip_num...            4   \n",
       "43  <class 'templates.g4_probability_dice_roll_num...            4   \n",
       "44       <class 'templates.g4_probability_no_chance'>            4   \n",
       "\n",
       "                                             Standard  \\\n",
       "0   Probability, Statistics, Patterns, Functions, ...   \n",
       "1                          Computation and Estimation   \n",
       "2                          Computation and Estimation   \n",
       "3                          Computation and Estimation   \n",
       "4                          Computation and Estimation   \n",
       "5                          Computation and Estimation   \n",
       "6                          Computation and Estimation   \n",
       "7                          Computation and Estimation   \n",
       "8                          Computation and Estimation   \n",
       "9                          Computation and Estimation   \n",
       "10                         Computation and Estimation   \n",
       "11                         Computation and Estimation   \n",
       "12                         Computation and Estimation   \n",
       "13                         Computation and Estimation   \n",
       "14                         Computation and Estimation   \n",
       "15                         Computation and Estimation   \n",
       "16                         Computation and Estimation   \n",
       "17                         Computation and Estimation   \n",
       "18                         Computation and Estimation   \n",
       "19                         Computation and Estimation   \n",
       "20                         Computation and Estimation   \n",
       "21                         Computation and Estimation   \n",
       "22  Probability, Statistics, Patterns, Functions, ...   \n",
       "23                           Measurement and Geometry   \n",
       "24                           Measurement and Geometry   \n",
       "25                           Measurement and Geometry   \n",
       "26                           Measurement and Geometry   \n",
       "27                           Measurement and Geometry   \n",
       "28                            Number and Number Sense   \n",
       "29                            Number and Number Sense   \n",
       "30                            Number and Number Sense   \n",
       "31                            Number and Number Sense   \n",
       "32                            Number and Number Sense   \n",
       "33                            Number and Number Sense   \n",
       "34                            Number and Number Sense   \n",
       "35                            Number and Number Sense   \n",
       "36                            Number and Number Sense   \n",
       "37                            Number and Number Sense   \n",
       "38                            Number and Number Sense   \n",
       "39                            Number and Number Sense   \n",
       "40  Probability, Statistics, Patterns, Functions, ...   \n",
       "41  Probability, Statistics, Patterns, Functions, ...   \n",
       "42  Probability, Statistics, Patterns, Functions, ...   \n",
       "43  Probability, Statistics, Patterns, Functions, ...   \n",
       "44  Probability, Statistics, Patterns, Functions, ...   \n",
       "\n",
       "                            Topic  \n",
       "0                         Algebra  \n",
       "1            Addition/Subtraction  \n",
       "2            Addition/Subtraction  \n",
       "3    Decimal Addition/Subtraction  \n",
       "4    Decimal Addition/Subtraction  \n",
       "5                        Division  \n",
       "6   Fraction Addition/Subtraction  \n",
       "7   Fraction Addition/Subtraction  \n",
       "8                   Common Factor  \n",
       "9           Least Common Multiple  \n",
       "10                 Multiplication  \n",
       "11                 Multiplication  \n",
       "12                 Multiplication  \n",
       "13                 Multiplication  \n",
       "14                 Multiplication  \n",
       "15                 Multiplication  \n",
       "16                 Multiplication  \n",
       "17                 Multiplication  \n",
       "18                 Multiplication  \n",
       "19           Addition/Subtraction  \n",
       "20                       Division  \n",
       "21                 Multiplication  \n",
       "22                          Graph  \n",
       "23                       Geometry  \n",
       "24                    Measurement  \n",
       "25                    Measurement  \n",
       "26                    Measurement  \n",
       "27                   Time Elapsed  \n",
       "28             Decimal Comparison  \n",
       "29              Number Comparison  \n",
       "30                Number in Words  \n",
       "31               Decimal in Words  \n",
       "32             Decimal Comparison  \n",
       "33            Decimal Place Value  \n",
       "34               Decimal Rounding  \n",
       "35              Fraction Ordering  \n",
       "36           Fraction Number Line  \n",
       "37                    Place Value  \n",
       "38                    Place Value  \n",
       "39                       Rounding  \n",
       "40                       Patterns  \n",
       "41                       Patterns  \n",
       "42                    Probability  \n",
       "43                    Probability  \n",
       "44                    Probability  "
      ]
     },
     "execution_count": 8,
     "metadata": {},
     "output_type": "execute_result"
    }
   ],
   "source": [
    "df = pd.DataFrame({\"Class\": classes, \"Grade_level\": grade_levels, \"Standard\": standards, \"Topic\": topics})\n",
    "df.to_csv(\"4th grade dataframe\")\n",
    "df"
   ]
  },
  {
   "cell_type": "code",
   "execution_count": 24,
   "id": "80c8aacf-e3a1-4885-9da2-c74426fb0747",
   "metadata": {},
   "outputs": [
    {
     "ename": "KeyError",
     "evalue": "'Probability'",
     "output_type": "error",
     "traceback": [
      "\u001b[0;31m---------------------------------------------------------------------------\u001b[0m",
      "\u001b[0;31mKeyError\u001b[0m                                  Traceback (most recent call last)",
      "File \u001b[0;32m/usr/local/lib/python3.10/dist-packages/pandas/core/indexes/base.py:3621\u001b[0m, in \u001b[0;36mIndex.get_loc\u001b[0;34m(self, key, method, tolerance)\u001b[0m\n\u001b[1;32m   3620\u001b[0m \u001b[38;5;28;01mtry\u001b[39;00m:\n\u001b[0;32m-> 3621\u001b[0m     \u001b[38;5;28;01mreturn\u001b[39;00m \u001b[38;5;28;43mself\u001b[39;49m\u001b[38;5;241;43m.\u001b[39;49m\u001b[43m_engine\u001b[49m\u001b[38;5;241;43m.\u001b[39;49m\u001b[43mget_loc\u001b[49m\u001b[43m(\u001b[49m\u001b[43mcasted_key\u001b[49m\u001b[43m)\u001b[49m\n\u001b[1;32m   3622\u001b[0m \u001b[38;5;28;01mexcept\u001b[39;00m \u001b[38;5;167;01mKeyError\u001b[39;00m \u001b[38;5;28;01mas\u001b[39;00m err:\n",
      "File \u001b[0;32m/usr/local/lib/python3.10/dist-packages/pandas/_libs/index.pyx:136\u001b[0m, in \u001b[0;36mpandas._libs.index.IndexEngine.get_loc\u001b[0;34m()\u001b[0m\n",
      "File \u001b[0;32m/usr/local/lib/python3.10/dist-packages/pandas/_libs/index.pyx:163\u001b[0m, in \u001b[0;36mpandas._libs.index.IndexEngine.get_loc\u001b[0;34m()\u001b[0m\n",
      "File \u001b[0;32mpandas/_libs/hashtable_class_helper.pxi:5198\u001b[0m, in \u001b[0;36mpandas._libs.hashtable.PyObjectHashTable.get_item\u001b[0;34m()\u001b[0m\n",
      "File \u001b[0;32mpandas/_libs/hashtable_class_helper.pxi:5206\u001b[0m, in \u001b[0;36mpandas._libs.hashtable.PyObjectHashTable.get_item\u001b[0;34m()\u001b[0m\n",
      "\u001b[0;31mKeyError\u001b[0m: 'Probability'",
      "\nThe above exception was the direct cause of the following exception:\n",
      "\u001b[0;31mKeyError\u001b[0m                                  Traceback (most recent call last)",
      "Cell \u001b[0;32mIn [24], line 1\u001b[0m\n\u001b[0;32m----> 1\u001b[0m \u001b[43mdf\u001b[49m\u001b[43m[\u001b[49m\u001b[43mtopic\u001b[49m\u001b[43m]\u001b[49m\u001b[38;5;241m.\u001b[39mvalue_counts()\n",
      "File \u001b[0;32m/usr/local/lib/python3.10/dist-packages/pandas/core/frame.py:3505\u001b[0m, in \u001b[0;36mDataFrame.__getitem__\u001b[0;34m(self, key)\u001b[0m\n\u001b[1;32m   3503\u001b[0m \u001b[38;5;28;01mif\u001b[39;00m \u001b[38;5;28mself\u001b[39m\u001b[38;5;241m.\u001b[39mcolumns\u001b[38;5;241m.\u001b[39mnlevels \u001b[38;5;241m>\u001b[39m \u001b[38;5;241m1\u001b[39m:\n\u001b[1;32m   3504\u001b[0m     \u001b[38;5;28;01mreturn\u001b[39;00m \u001b[38;5;28mself\u001b[39m\u001b[38;5;241m.\u001b[39m_getitem_multilevel(key)\n\u001b[0;32m-> 3505\u001b[0m indexer \u001b[38;5;241m=\u001b[39m \u001b[38;5;28;43mself\u001b[39;49m\u001b[38;5;241;43m.\u001b[39;49m\u001b[43mcolumns\u001b[49m\u001b[38;5;241;43m.\u001b[39;49m\u001b[43mget_loc\u001b[49m\u001b[43m(\u001b[49m\u001b[43mkey\u001b[49m\u001b[43m)\u001b[49m\n\u001b[1;32m   3506\u001b[0m \u001b[38;5;28;01mif\u001b[39;00m is_integer(indexer):\n\u001b[1;32m   3507\u001b[0m     indexer \u001b[38;5;241m=\u001b[39m [indexer]\n",
      "File \u001b[0;32m/usr/local/lib/python3.10/dist-packages/pandas/core/indexes/base.py:3623\u001b[0m, in \u001b[0;36mIndex.get_loc\u001b[0;34m(self, key, method, tolerance)\u001b[0m\n\u001b[1;32m   3621\u001b[0m     \u001b[38;5;28;01mreturn\u001b[39;00m \u001b[38;5;28mself\u001b[39m\u001b[38;5;241m.\u001b[39m_engine\u001b[38;5;241m.\u001b[39mget_loc(casted_key)\n\u001b[1;32m   3622\u001b[0m \u001b[38;5;28;01mexcept\u001b[39;00m \u001b[38;5;167;01mKeyError\u001b[39;00m \u001b[38;5;28;01mas\u001b[39;00m err:\n\u001b[0;32m-> 3623\u001b[0m     \u001b[38;5;28;01mraise\u001b[39;00m \u001b[38;5;167;01mKeyError\u001b[39;00m(key) \u001b[38;5;28;01mfrom\u001b[39;00m \u001b[38;5;21;01merr\u001b[39;00m\n\u001b[1;32m   3624\u001b[0m \u001b[38;5;28;01mexcept\u001b[39;00m \u001b[38;5;167;01mTypeError\u001b[39;00m:\n\u001b[1;32m   3625\u001b[0m     \u001b[38;5;66;03m# If we have a listlike key, _check_indexing_error will raise\u001b[39;00m\n\u001b[1;32m   3626\u001b[0m     \u001b[38;5;66;03m#  InvalidIndexError. Otherwise we fall through and re-raise\u001b[39;00m\n\u001b[1;32m   3627\u001b[0m     \u001b[38;5;66;03m#  the TypeError.\u001b[39;00m\n\u001b[1;32m   3628\u001b[0m     \u001b[38;5;28mself\u001b[39m\u001b[38;5;241m.\u001b[39m_check_indexing_error(key)\n",
      "\u001b[0;31mKeyError\u001b[0m: 'Probability'"
     ]
    }
   ],
   "source": [
    "df[topic].value_counts()"
   ]
  },
  {
   "cell_type": "code",
   "execution_count": 15,
   "id": "e2540c7a-7c15-4728-87bd-176be11273ec",
   "metadata": {},
   "outputs": [
    {
     "ename": "InterfaceError",
     "evalue": "Error binding parameter 0 - probably unsupported type.",
     "output_type": "error",
     "traceback": [
      "\u001b[0;31m---------------------------------------------------------------------------\u001b[0m",
      "\u001b[0;31mInterfaceError\u001b[0m                            Traceback (most recent call last)",
      "Cell \u001b[0;32mIn [15], line 3\u001b[0m\n\u001b[1;32m      1\u001b[0m questions_db \u001b[38;5;241m=\u001b[39m sqlite3\u001b[38;5;241m.\u001b[39mconnect(\u001b[38;5;124m\"\u001b[39m\u001b[38;5;124mquestions.db\u001b[39m\u001b[38;5;124m\"\u001b[39m)\n\u001b[1;32m      2\u001b[0m \u001b[38;5;66;03m#creates empty DB file in your folder\u001b[39;00m\n\u001b[0;32m----> 3\u001b[0m \u001b[43mdf\u001b[49m\u001b[38;5;241;43m.\u001b[39;49m\u001b[43mto_sql\u001b[49m\u001b[43m(\u001b[49m\u001b[38;5;124;43m'\u001b[39;49m\u001b[38;5;124;43mquestions\u001b[39;49m\u001b[38;5;124;43m'\u001b[39;49m\u001b[43m,\u001b[49m\u001b[43m \u001b[49m\u001b[43mquestions_db\u001b[49m\u001b[43m,\u001b[49m\u001b[43m \u001b[49m\u001b[43mindex\u001b[49m\u001b[38;5;241;43m=\u001b[39;49m\u001b[38;5;28;43;01mFalse\u001b[39;49;00m\u001b[43m,\u001b[49m\u001b[43m \u001b[49m\u001b[43mchunksize\u001b[49m\u001b[43m \u001b[49m\u001b[38;5;241;43m=\u001b[39;49m\u001b[43m \u001b[49m\u001b[38;5;241;43m1000\u001b[39;49m\u001b[43m,\u001b[49m\u001b[43m \u001b[49m\u001b[43mif_exists\u001b[49m\u001b[38;5;241;43m=\u001b[39;49m\u001b[38;5;124;43m'\u001b[39;49m\u001b[38;5;124;43mreplace\u001b[39;49m\u001b[38;5;124;43m'\u001b[39;49m\u001b[43m)\u001b[49m\n",
      "File \u001b[0;32m/usr/local/lib/python3.10/dist-packages/pandas/core/generic.py:2951\u001b[0m, in \u001b[0;36mNDFrame.to_sql\u001b[0;34m(self, name, con, schema, if_exists, index, index_label, chunksize, dtype, method)\u001b[0m\n\u001b[1;32m   2794\u001b[0m \u001b[38;5;124;03m\"\"\"\u001b[39;00m\n\u001b[1;32m   2795\u001b[0m \u001b[38;5;124;03mWrite records stored in a DataFrame to a SQL database.\u001b[39;00m\n\u001b[1;32m   2796\u001b[0m \n\u001b[0;32m   (...)\u001b[0m\n\u001b[1;32m   2947\u001b[0m \u001b[38;5;124;03m[(1,), (None,), (2,)]\u001b[39;00m\n\u001b[1;32m   2948\u001b[0m \u001b[38;5;124;03m\"\"\"\u001b[39;00m  \u001b[38;5;66;03m# noqa:E501\u001b[39;00m\n\u001b[1;32m   2949\u001b[0m \u001b[38;5;28;01mfrom\u001b[39;00m \u001b[38;5;21;01mpandas\u001b[39;00m\u001b[38;5;21;01m.\u001b[39;00m\u001b[38;5;21;01mio\u001b[39;00m \u001b[38;5;28;01mimport\u001b[39;00m sql\n\u001b[0;32m-> 2951\u001b[0m \u001b[38;5;28;01mreturn\u001b[39;00m \u001b[43msql\u001b[49m\u001b[38;5;241;43m.\u001b[39;49m\u001b[43mto_sql\u001b[49m\u001b[43m(\u001b[49m\n\u001b[1;32m   2952\u001b[0m \u001b[43m    \u001b[49m\u001b[38;5;28;43mself\u001b[39;49m\u001b[43m,\u001b[49m\n\u001b[1;32m   2953\u001b[0m \u001b[43m    \u001b[49m\u001b[43mname\u001b[49m\u001b[43m,\u001b[49m\n\u001b[1;32m   2954\u001b[0m \u001b[43m    \u001b[49m\u001b[43mcon\u001b[49m\u001b[43m,\u001b[49m\n\u001b[1;32m   2955\u001b[0m \u001b[43m    \u001b[49m\u001b[43mschema\u001b[49m\u001b[38;5;241;43m=\u001b[39;49m\u001b[43mschema\u001b[49m\u001b[43m,\u001b[49m\n\u001b[1;32m   2956\u001b[0m \u001b[43m    \u001b[49m\u001b[43mif_exists\u001b[49m\u001b[38;5;241;43m=\u001b[39;49m\u001b[43mif_exists\u001b[49m\u001b[43m,\u001b[49m\n\u001b[1;32m   2957\u001b[0m \u001b[43m    \u001b[49m\u001b[43mindex\u001b[49m\u001b[38;5;241;43m=\u001b[39;49m\u001b[43mindex\u001b[49m\u001b[43m,\u001b[49m\n\u001b[1;32m   2958\u001b[0m \u001b[43m    \u001b[49m\u001b[43mindex_label\u001b[49m\u001b[38;5;241;43m=\u001b[39;49m\u001b[43mindex_label\u001b[49m\u001b[43m,\u001b[49m\n\u001b[1;32m   2959\u001b[0m \u001b[43m    \u001b[49m\u001b[43mchunksize\u001b[49m\u001b[38;5;241;43m=\u001b[39;49m\u001b[43mchunksize\u001b[49m\u001b[43m,\u001b[49m\n\u001b[1;32m   2960\u001b[0m \u001b[43m    \u001b[49m\u001b[43mdtype\u001b[49m\u001b[38;5;241;43m=\u001b[39;49m\u001b[43mdtype\u001b[49m\u001b[43m,\u001b[49m\n\u001b[1;32m   2961\u001b[0m \u001b[43m    \u001b[49m\u001b[43mmethod\u001b[49m\u001b[38;5;241;43m=\u001b[39;49m\u001b[43mmethod\u001b[49m\u001b[43m,\u001b[49m\n\u001b[1;32m   2962\u001b[0m \u001b[43m\u001b[49m\u001b[43m)\u001b[49m\n",
      "File \u001b[0;32m/usr/local/lib/python3.10/dist-packages/pandas/io/sql.py:697\u001b[0m, in \u001b[0;36mto_sql\u001b[0;34m(frame, name, con, schema, if_exists, index, index_label, chunksize, dtype, method, engine, **engine_kwargs)\u001b[0m\n\u001b[1;32m    692\u001b[0m \u001b[38;5;28;01melif\u001b[39;00m \u001b[38;5;129;01mnot\u001b[39;00m \u001b[38;5;28misinstance\u001b[39m(frame, DataFrame):\n\u001b[1;32m    693\u001b[0m     \u001b[38;5;28;01mraise\u001b[39;00m \u001b[38;5;167;01mNotImplementedError\u001b[39;00m(\n\u001b[1;32m    694\u001b[0m         \u001b[38;5;124m\"\u001b[39m\u001b[38;5;124m'\u001b[39m\u001b[38;5;124mframe\u001b[39m\u001b[38;5;124m'\u001b[39m\u001b[38;5;124m argument should be either a Series or a DataFrame\u001b[39m\u001b[38;5;124m\"\u001b[39m\n\u001b[1;32m    695\u001b[0m     )\n\u001b[0;32m--> 697\u001b[0m \u001b[38;5;28;01mreturn\u001b[39;00m \u001b[43mpandas_sql\u001b[49m\u001b[38;5;241;43m.\u001b[39;49m\u001b[43mto_sql\u001b[49m\u001b[43m(\u001b[49m\n\u001b[1;32m    698\u001b[0m \u001b[43m    \u001b[49m\u001b[43mframe\u001b[49m\u001b[43m,\u001b[49m\n\u001b[1;32m    699\u001b[0m \u001b[43m    \u001b[49m\u001b[43mname\u001b[49m\u001b[43m,\u001b[49m\n\u001b[1;32m    700\u001b[0m \u001b[43m    \u001b[49m\u001b[43mif_exists\u001b[49m\u001b[38;5;241;43m=\u001b[39;49m\u001b[43mif_exists\u001b[49m\u001b[43m,\u001b[49m\n\u001b[1;32m    701\u001b[0m \u001b[43m    \u001b[49m\u001b[43mindex\u001b[49m\u001b[38;5;241;43m=\u001b[39;49m\u001b[43mindex\u001b[49m\u001b[43m,\u001b[49m\n\u001b[1;32m    702\u001b[0m \u001b[43m    \u001b[49m\u001b[43mindex_label\u001b[49m\u001b[38;5;241;43m=\u001b[39;49m\u001b[43mindex_label\u001b[49m\u001b[43m,\u001b[49m\n\u001b[1;32m    703\u001b[0m \u001b[43m    \u001b[49m\u001b[43mschema\u001b[49m\u001b[38;5;241;43m=\u001b[39;49m\u001b[43mschema\u001b[49m\u001b[43m,\u001b[49m\n\u001b[1;32m    704\u001b[0m \u001b[43m    \u001b[49m\u001b[43mchunksize\u001b[49m\u001b[38;5;241;43m=\u001b[39;49m\u001b[43mchunksize\u001b[49m\u001b[43m,\u001b[49m\n\u001b[1;32m    705\u001b[0m \u001b[43m    \u001b[49m\u001b[43mdtype\u001b[49m\u001b[38;5;241;43m=\u001b[39;49m\u001b[43mdtype\u001b[49m\u001b[43m,\u001b[49m\n\u001b[1;32m    706\u001b[0m \u001b[43m    \u001b[49m\u001b[43mmethod\u001b[49m\u001b[38;5;241;43m=\u001b[39;49m\u001b[43mmethod\u001b[49m\u001b[43m,\u001b[49m\n\u001b[1;32m    707\u001b[0m \u001b[43m    \u001b[49m\u001b[43mengine\u001b[49m\u001b[38;5;241;43m=\u001b[39;49m\u001b[43mengine\u001b[49m\u001b[43m,\u001b[49m\n\u001b[1;32m    708\u001b[0m \u001b[43m    \u001b[49m\u001b[38;5;241;43m*\u001b[39;49m\u001b[38;5;241;43m*\u001b[39;49m\u001b[43mengine_kwargs\u001b[49m\u001b[43m,\u001b[49m\n\u001b[1;32m    709\u001b[0m \u001b[43m\u001b[49m\u001b[43m)\u001b[49m\n",
      "File \u001b[0;32m/usr/local/lib/python3.10/dist-packages/pandas/io/sql.py:2190\u001b[0m, in \u001b[0;36mSQLiteDatabase.to_sql\u001b[0;34m(self, frame, name, if_exists, index, index_label, schema, chunksize, dtype, method, **kwargs)\u001b[0m\n\u001b[1;32m   2180\u001b[0m table \u001b[38;5;241m=\u001b[39m SQLiteTable(\n\u001b[1;32m   2181\u001b[0m     name,\n\u001b[1;32m   2182\u001b[0m     \u001b[38;5;28mself\u001b[39m,\n\u001b[0;32m   (...)\u001b[0m\n\u001b[1;32m   2187\u001b[0m     dtype\u001b[38;5;241m=\u001b[39mdtype,\n\u001b[1;32m   2188\u001b[0m )\n\u001b[1;32m   2189\u001b[0m table\u001b[38;5;241m.\u001b[39mcreate()\n\u001b[0;32m-> 2190\u001b[0m \u001b[38;5;28;01mreturn\u001b[39;00m \u001b[43mtable\u001b[49m\u001b[38;5;241;43m.\u001b[39;49m\u001b[43minsert\u001b[49m\u001b[43m(\u001b[49m\u001b[43mchunksize\u001b[49m\u001b[43m,\u001b[49m\u001b[43m \u001b[49m\u001b[43mmethod\u001b[49m\u001b[43m)\u001b[49m\n",
      "File \u001b[0;32m/usr/local/lib/python3.10/dist-packages/pandas/io/sql.py:950\u001b[0m, in \u001b[0;36mSQLTable.insert\u001b[0;34m(self, chunksize, method)\u001b[0m\n\u001b[1;32m    947\u001b[0m     \u001b[38;5;28;01mbreak\u001b[39;00m\n\u001b[1;32m    949\u001b[0m chunk_iter \u001b[38;5;241m=\u001b[39m \u001b[38;5;28mzip\u001b[39m(\u001b[38;5;241m*\u001b[39m(arr[start_i:end_i] \u001b[38;5;28;01mfor\u001b[39;00m arr \u001b[38;5;129;01min\u001b[39;00m data_list))\n\u001b[0;32m--> 950\u001b[0m num_inserted \u001b[38;5;241m=\u001b[39m \u001b[43mexec_insert\u001b[49m\u001b[43m(\u001b[49m\u001b[43mconn\u001b[49m\u001b[43m,\u001b[49m\u001b[43m \u001b[49m\u001b[43mkeys\u001b[49m\u001b[43m,\u001b[49m\u001b[43m \u001b[49m\u001b[43mchunk_iter\u001b[49m\u001b[43m)\u001b[49m\n\u001b[1;32m    951\u001b[0m \u001b[38;5;28;01mif\u001b[39;00m num_inserted \u001b[38;5;129;01mis\u001b[39;00m \u001b[38;5;28;01mNone\u001b[39;00m:\n\u001b[1;32m    952\u001b[0m     total_inserted \u001b[38;5;241m=\u001b[39m \u001b[38;5;28;01mNone\u001b[39;00m\n",
      "File \u001b[0;32m/usr/local/lib/python3.10/dist-packages/pandas/io/sql.py:1896\u001b[0m, in \u001b[0;36mSQLiteTable._execute_insert\u001b[0;34m(self, conn, keys, data_iter)\u001b[0m\n\u001b[1;32m   1894\u001b[0m \u001b[38;5;28;01mdef\u001b[39;00m \u001b[38;5;21m_execute_insert\u001b[39m(\u001b[38;5;28mself\u001b[39m, conn, keys, data_iter) \u001b[38;5;241m-\u001b[39m\u001b[38;5;241m>\u001b[39m \u001b[38;5;28mint\u001b[39m:\n\u001b[1;32m   1895\u001b[0m     data_list \u001b[38;5;241m=\u001b[39m \u001b[38;5;28mlist\u001b[39m(data_iter)\n\u001b[0;32m-> 1896\u001b[0m     \u001b[43mconn\u001b[49m\u001b[38;5;241;43m.\u001b[39;49m\u001b[43mexecutemany\u001b[49m\u001b[43m(\u001b[49m\u001b[38;5;28;43mself\u001b[39;49m\u001b[38;5;241;43m.\u001b[39;49m\u001b[43minsert_statement\u001b[49m\u001b[43m(\u001b[49m\u001b[43mnum_rows\u001b[49m\u001b[38;5;241;43m=\u001b[39;49m\u001b[38;5;241;43m1\u001b[39;49m\u001b[43m)\u001b[49m\u001b[43m,\u001b[49m\u001b[43m \u001b[49m\u001b[43mdata_list\u001b[49m\u001b[43m)\u001b[49m\n\u001b[1;32m   1897\u001b[0m     \u001b[38;5;28;01mreturn\u001b[39;00m conn\u001b[38;5;241m.\u001b[39mrowcount\n",
      "\u001b[0;31mInterfaceError\u001b[0m: Error binding parameter 0 - probably unsupported type."
     ]
    }
   ],
   "source": [
    "questions_db = sqlite3.connect(\"questions.db\")\n",
    "#creates empty DB file in your folder\n",
    "df.to_sql('questions', questions_db, index=False, chunksize = 1000, if_exists='replace')"
   ]
  },
  {
   "cell_type": "code",
   "execution_count": 11,
   "id": "11c41a02-3d00-446b-9444-0fdfc41c40a5",
   "metadata": {},
   "outputs": [],
   "source": [
    "def pull_question_with_topic(grade_level, standard, topic, num_questions):\n",
    "    import warnings\n",
    "    warnings.filterwarnings('ignore')\n",
    "    temp_df= df.query(\"Standard == '{standard}' & Topic == '{topic}' & Grade_level == {grade_level}\".format(standard=standard, grade_level=grade_level, topic=topic))\n",
    "    temp_df = temp_df.sample(n = num_questions, replace= True)\n",
    "    for i in range(num_questions):\n",
    "        target_class = temp_df.iloc[i]['Class']\n",
    "        x= target_class()\n",
    "        print(x.print_question())\n",
    "        try:\n",
    "            print(x.print_choices())\n",
    "            student_answer = input()\n",
    "            print(x.student_answer(student_answer))\n",
    "        except:\n",
    "            student_answer = input()\n",
    "            if \"Fraction Addition/Subtraction\" in x.attr2:\n",
    "                try:\n",
    "                    student_answer= student_answer.split(\"/\")\n",
    "                    num = int(student_answer[0])\n",
    "                    denom = int(student_answer[1])\n",
    "                    student_answer = num/denom\n",
    "                    print(x.student_answer(student_answer))\n",
    "                except:\n",
    "                    print(\"Next time, please enter your answer as a fraction such as 1/8.\")\n",
    "            if \"Fraction Ordering\" in x.attr2:\n",
    "                try:\n",
    "                    fraction = student_answer.split(\", \")\n",
    "                    numbers= []\n",
    "                    for item in fraction:\n",
    "                        item = item.split(\"/\")\n",
    "                        numbers.append(item)\n",
    "                    numbers2= []\n",
    "                    for number in numbers:\n",
    "                        num = int(number[0])\n",
    "                        denom= int(number[1])\n",
    "                        answer = num/denom\n",
    "                        numbers2.append(answer)\n",
    "                    student_answer = numbers2\n",
    "                    print(x.student_answer(student_answer))\n",
    "                except:\n",
    "                    print(\"Next time, please enter your answer as a list of fractions separated by commas and a space.\")\n",
    "            else:\n",
    "                print(x.student_answer(student_answer))\n",
    "            "
   ]
  },
  {
   "cell_type": "code",
   "execution_count": 10,
   "id": "5b8f1dd1-5428-431b-882d-69c78fc33459",
   "metadata": {},
   "outputs": [
    {
     "name": "stdout",
     "output_type": "stream",
     "text": [
      "Order these fractions from least to greatest: 8/9, 9/1, 2/9\n"
     ]
    },
    {
     "name": "stdin",
     "output_type": "stream",
     "text": [
      " d\n"
     ]
    },
    {
     "name": "stdout",
     "output_type": "stream",
     "text": [
      "Please enter your answer as a list of fractions separated by commas and a space.\n",
      "Order these fractions from least to greatest: 4/6, 3/7, 1/7\n"
     ]
    },
    {
     "name": "stdin",
     "output_type": "stream",
     "text": [
      " d\n"
     ]
    },
    {
     "name": "stdout",
     "output_type": "stream",
     "text": [
      "Please enter your answer as a list of fractions separated by commas and a space.\n"
     ]
    }
   ],
   "source": [
    "pull_question_with_topic(4, \"Number and Number Sense\", \"Fraction Ordering\", 2)"
   ]
  },
  {
   "cell_type": "code",
   "execution_count": null,
   "id": "e55831d6-1ae9-423c-a884-dc98578acb4b",
   "metadata": {},
   "outputs": [
    {
     "name": "stdout",
     "output_type": "stream",
     "text": [
      "What is the product of 34 and 25?\n",
      "        \n",
      "a    850\n",
      "b  7,252\n",
      "c  3,976\n",
      "d     59\n"
     ]
    },
    {
     "name": "stdin",
     "output_type": "stream",
     "text": [
      " d\n"
     ]
    },
    {
     "name": "stdout",
     "output_type": "stream",
     "text": [
      "You didn't get the right answer this time. Keep trying and don't give up!\n"
     ]
    },
    {
     "name": "stdin",
     "output_type": "stream",
     "text": [
      " b\n"
     ]
    },
    {
     "name": "stdout",
     "output_type": "stream",
     "text": [
      "You didn't get the right answer this time. Keep trying and don't give up!\n"
     ]
    },
    {
     "name": "stdin",
     "output_type": "stream",
     "text": [
      " c\n"
     ]
    },
    {
     "name": "stdout",
     "output_type": "stream",
     "text": [
      "You didn't get the right answer this time. Keep trying and don't give up!\n"
     ]
    },
    {
     "name": "stdin",
     "output_type": "stream",
     "text": [
      " a\n"
     ]
    },
    {
     "name": "stdout",
     "output_type": "stream",
     "text": [
      "You got the right answer. Nice work!\n"
     ]
    }
   ],
   "source": [
    "pull_question_with_topic(4, \"Computation and Estimation\", \"Multiplication\", 1)"
   ]
  },
  {
   "cell_type": "code",
   "execution_count": 19,
   "id": "5d3e599a-28fc-4889-9a44-d8aa0164f83e",
   "metadata": {},
   "outputs": [],
   "source": [
    "def pull_question_no_topic(grade_level, standard, num_questions):\n",
    "    import warnings\n",
    "    warnings.filterwarnings('ignore')\n",
    "    temp_df= df.query(\"Standard == '{standard}' & Grade_level == {grade_level}\".format(standard=standard, grade_level=grade_level, topic=topic))\n",
    "    temp_df = temp_df.sample(n = num_questions, replace= True)\n",
    "    for i in range(num_questions):\n",
    "        target_class = temp_df.iloc[i]['Class']\n",
    "        x= target_class()\n",
    "        print(x.print_question())\n",
    "        try:\n",
    "            print(x.print_choices())\n",
    "            student_answer = input()\n",
    "            print(x.student_answer(student_answer))\n",
    "        except:\n",
    "            student_answer = input()\n",
    "            if \"Fraction Addition/Subtraction\" in x.attr2:\n",
    "                try:\n",
    "                    student_answer= student_answer.split(\"/\")\n",
    "                    num = int(student_answer[0])\n",
    "                    denom = int(student_answer[1])\n",
    "                    student_answer = num/denom\n",
    "                    print(x.student_answer(student_answer))\n",
    "                except:\n",
    "                    print(\"Next time, please enter your answer as a fraction such as 1/8.\")\n",
    "            if \"Fraction Ordering\" in x.attr2:\n",
    "                try:\n",
    "                    fraction = student_answer.split(\", \")\n",
    "                    numbers= []\n",
    "                    for item in fraction:\n",
    "                        item = item.split(\"/\")\n",
    "                        numbers.append(item)\n",
    "                    numbers2= []\n",
    "                    for number in numbers:\n",
    "                        num = int(number[0])\n",
    "                        denom= int(number[1])\n",
    "                        answer = num/denom\n",
    "                        numbers2.append(answer)\n",
    "                    student_answer = numbers2\n",
    "                    print(x.student_answer(student_answer))\n",
    "                except:\n",
    "                    print(\"Next time, please enter your answer as a list of fractions separated by commas and a space.\")\n",
    "            else:\n",
    "                print(x.student_answer(student_answer))\n",
    "            "
   ]
  },
  {
   "cell_type": "code",
   "execution_count": 20,
   "id": "8063d8d3-d8dc-4c7f-9d64-cdbdd0df9e20",
   "metadata": {},
   "outputs": [
    {
     "name": "stdout",
     "output_type": "stream",
     "text": [
      "Sam has 11 profiles with 16 Fornite skins. How many Fornite skins does he have?\n",
      "      \n",
      "a  140\n",
      "b  176\n",
      "c   27\n",
      "d  112\n"
     ]
    },
    {
     "name": "stdin",
     "output_type": "stream",
     "text": [
      " a\n"
     ]
    },
    {
     "name": "stdout",
     "output_type": "stream",
     "text": [
      "You didn't get the right answer this time. Keep trying and don't give up!\n",
      "Batman has 12 bags of 7 M&Ms. Robin has 13 bags of 19 M&Ms. How many M&Ms do they have altogether?\n",
      "      \n",
      "a  466\n",
      "b   51\n",
      "c   97\n",
      "d  331\n"
     ]
    },
    {
     "name": "stdin",
     "output_type": "stream",
     "text": [
      " d\n"
     ]
    },
    {
     "name": "stdout",
     "output_type": "stream",
     "text": [
      "You got the right answer. Nice work!\n",
      "What is the least common multiple of 8 and 10?\n",
      "     \n",
      "a  20\n",
      "b   6\n",
      "c   9\n",
      "d  40\n"
     ]
    },
    {
     "name": "stdin",
     "output_type": "stream",
     "text": [
      " d\n"
     ]
    },
    {
     "name": "stdout",
     "output_type": "stream",
     "text": [
      "You got the right answer. Nice work!\n",
      "What is the least common multiple of 8 and 8?\n",
      "     \n",
      "a   8\n",
      "b   3\n",
      "c   6\n",
      "d  20\n"
     ]
    },
    {
     "name": "stdin",
     "output_type": "stream",
     "text": [
      " 8\n"
     ]
    },
    {
     "name": "stdout",
     "output_type": "stream",
     "text": [
      "Please type a, b, c, or d.\n"
     ]
    }
   ],
   "source": [
    "pull_question_no_topic(4, \"Computation and Estimation\", 4)"
   ]
  },
  {
   "cell_type": "code",
   "execution_count": 23,
   "id": "96a605d8-b912-41a1-8983-2ff945950d16",
   "metadata": {
    "tags": []
   },
   "outputs": [],
   "source": [
    "def pull_question_only_grade(grade_level, num_questions):\n",
    "    import warnings\n",
    "    warnings.filterwarnings('ignore')\n",
    "    temp_df= df.query(\"Grade_level == {grade_level}\".format(standard=standard, grade_level=grade_level, topic=topic))\n",
    "    temp_df = temp_df.sample(n = num_questions, replace= True)\n",
    "    for i in range(num_questions):\n",
    "        target_class = temp_df.iloc[i]['Class']\n",
    "        x= target_class()\n",
    "        print(x.print_question())\n",
    "        try:\n",
    "            print(x.print_choices())\n",
    "            student_answer = input()\n",
    "            print(x.student_answer(student_answer))\n",
    "        except:\n",
    "            student_answer = input()\n",
    "            if \"Fraction Addition/Subtraction\" in x.attr2:\n",
    "                try:\n",
    "                    student_answer= student_answer.split(\"/\")\n",
    "                    num = int(student_answer[0])\n",
    "                    denom = int(student_answer[1])\n",
    "                    student_answer = num/denom\n",
    "                    print(x.student_answer(student_answer))\n",
    "                except:\n",
    "                    print(\"Next time, please enter your answer as a fraction such as 1/8.\")\n",
    "            if \"Fraction Ordering\" in x.attr2:\n",
    "                try:\n",
    "                    fraction = student_answer.split(\", \")\n",
    "                    numbers= []\n",
    "                    for item in fraction:\n",
    "                        item = item.split(\"/\")\n",
    "                        numbers.append(item)\n",
    "                    numbers2= []\n",
    "                    for number in numbers:\n",
    "                        num = int(number[0])\n",
    "                        denom= int(number[1])\n",
    "                        answer = num/denom\n",
    "                        numbers2.append(answer)\n",
    "                    student_answer = numbers2\n",
    "                    print(x.student_answer(student_answer))\n",
    "                except:\n",
    "                    print(\"Next time, please enter your answer as a list of fractions separated by commas and a space.\")\n",
    "            else:\n",
    "                print(x.student_answer(student_answer))\n",
    "            "
   ]
  },
  {
   "cell_type": "code",
   "execution_count": 25,
   "id": "9d4f20fa-cb31-433e-98fe-eee047b2cb86",
   "metadata": {},
   "outputs": [
    {
     "name": "stdout",
     "output_type": "stream",
     "text": [
      "Sam has 10 bags of 10 Skittles. Antonio has 6 bags of 17 Skittles. How many Skittles do they have altogether?\n",
      "      \n",
      "a   80\n",
      "b   43\n",
      "c  202\n",
      "d  130\n"
     ]
    },
    {
     "name": "stdin",
     "output_type": "stream",
     "text": [
      " c\n"
     ]
    },
    {
     "name": "stdout",
     "output_type": "stream",
     "text": [
      "You got the right answer. Nice work!\n"
     ]
    }
   ],
   "source": [
    "pull_question_only_grade(4, 1)"
   ]
  },
  {
   "cell_type": "code",
   "execution_count": null,
   "id": "0e0b4255-5fb0-4949-91d2-15f0cea1452f",
   "metadata": {},
   "outputs": [
    {
     "name": "stdout",
     "output_type": "stream",
     "text": [
      "Tyrek has 19 bags of 12 Reese's Pieces. How many Reese's Pieces does he have?       \n",
      "a  209\n",
      "b   36\n",
      "c  228\n",
      "d   31\n",
      "Nyzir has 5 bags of 10 Skittles. How many Skittles does he have?      \n",
      "a  50\n",
      "b  90\n",
      "c  15\n",
      "d  30\n",
      "Robin does 10 sit-ups 3 times per day. What is the total number of sit-ups Robin does in 4 days?         \n",
      "a  1,568\n",
      "b    120\n",
      "c    608\n",
      "d     17\n",
      "Levi has 9 profiles with 3 Fornite skins. How many Fornite skins does he have?       \n",
      "a   12\n",
      "b  225\n",
      "c   27\n",
      "d  120\n",
      "Katie poured 8 ounces of Gatorade into each of 13 glasses. Exactly how many ounces of Gatorade did Katie pour into all of these glasses?       \n",
      "a   21\n",
      "b  105\n",
      "c   96\n",
      "d  104\n",
      "Batman does 15 sit-ups 7 times per day. What is the total number of sit-ups Batman does in 10 days?         \n",
      "a     32\n",
      "b  1,050\n",
      "c    350\n",
      "d    480\n",
      "At a store, Fortnite action figures cost $18 each. Which is closest to the total cost of 31 Fortnite action figures?          \n",
      "a  $1,300\n",
      "b    $600\n",
      "c  $1,600\n",
      "d     $49\n",
      "Tyrek has 17 bags of 18 Skittles. Antonio has 7 bags of 3 Skittles. How many Skittles do they have altogether?       \n",
      "a   45\n",
      "b  327\n",
      "c   44\n",
      "d  332\n",
      "Reese has 19 bags of 9 Reese's Pieces. How many Reese's Pieces does she have?       \n",
      "a  182\n",
      "b   28\n",
      "c   72\n",
      "d  171\n"
     ]
    },
    {
     "name": "stderr",
     "output_type": "stream",
     "text": [
      "/solmathdashboard/app/Templates/templates.py:726: FutureWarning: elementwise comparison failed; returning scalar instead, but in the future will perform elementwise comparison\n",
      "  wrong = np.unique(wrong[wrong!=answer])\n",
      "/solmathdashboard/app/Templates/templates.py:1155: FutureWarning: elementwise comparison failed; returning scalar instead, but in the future will perform elementwise comparison\n",
      "  wrong = np.unique(wrong[wrong!=answer])\n",
      "/solmathdashboard/app/Templates/templates.py:668: FutureWarning: elementwise comparison failed; returning scalar instead, but in the future will perform elementwise comparison\n",
      "  wrong = np.unique(wrong[wrong!=answer])\n"
     ]
    }
   ],
   "source": [
    "pull_question(4, \"Computation and Estimation\", \"Multiplication\", 12)"
   ]
  },
  {
   "cell_type": "code",
   "execution_count": null,
   "id": "e077ea29-253f-4ce2-a832-78e9856d7e5d",
   "metadata": {},
   "outputs": [],
   "source": [
    "x.attr2"
   ]
  },
  {
   "cell_type": "code",
   "execution_count": null,
   "id": "5a16c606-f608-4669-82a5-87d521bb8ea4",
   "metadata": {},
   "outputs": [],
   "source": [
    "classes = []\n",
    "for name, obj in inspect.getmembers(templates):\n",
    "    if inspect.isclass(obj):\n",
    "        classes.append(obj)\n",
    "\n",
    "for i in classes:\n",
    "    x = i()\n",
    "    print(x.print_question())\n",
    "\n",
    "classes"
   ]
  },
  {
   "cell_type": "code",
   "execution_count": null,
   "id": "082a08ef-a797-42cb-8f4f-be2a493c2ebb",
   "metadata": {},
   "outputs": [],
   "source": [
    "x.print_question()"
   ]
  },
  {
   "cell_type": "code",
   "execution_count": null,
   "id": "9c89e133-49d4-4c58-9e49-62239c1dea06",
   "metadata": {},
   "outputs": [],
   "source": [
    "x.student_answer(6)"
   ]
  },
  {
   "cell_type": "code",
   "execution_count": null,
   "id": "4623e4ce-dae7-448b-a75e-3ed83123eabd",
   "metadata": {},
   "outputs": [],
   "source": [
    "class g4_computation_multplication_specific_method():\n",
    "    def __init__(self):\n",
    "        \n",
    "        number1 = random.randint(2, 10)\n",
    "        number2 = random.randint(2, 10)\n",
    "        self.answer = number1 * number2\n",
    "        self.question= \"Use {method} to find {number1} X {number2}.\".format(method = 'random.choice(methods)', number1 = number1, number2 = number2)\n",
    "    \n",
    "    def print_question(self):\n",
    "        return self.question\n",
    "    \n",
    "    def student_answer(self, student_answer):\n",
    "        if student_answer == self.answer:\n",
    "            return \"You got the right answer. Nice work!\"\n",
    "        if student_answer!= self.answer:\n",
    "            return \"Your answer is incorrect. Please try again!\""
   ]
  },
  {
   "cell_type": "code",
   "execution_count": null,
   "id": "49f839d9-29b8-4d56-9dcb-6ba80fe7dcea",
   "metadata": {},
   "outputs": [],
   "source": [
    "d = g4_computation_multplication_specific_method()"
   ]
  },
  {
   "cell_type": "code",
   "execution_count": null,
   "id": "16877f65-db63-4c85-a455-0273eb52cfbb",
   "metadata": {},
   "outputs": [],
   "source": [
    "d.print_question()"
   ]
  },
  {
   "cell_type": "code",
   "execution_count": null,
   "id": "df0b2104-d3ab-49ca-9e08-9fa2905581bb",
   "metadata": {},
   "outputs": [],
   "source": [
    "d.student_answer(20)"
   ]
  },
  {
   "cell_type": "code",
   "execution_count": null,
   "id": "399dd57b-5c5a-4f13-bcc6-78c7cdffc07d",
   "metadata": {},
   "outputs": [],
   "source": [
    "number1 = random.randint(1, 10)\n",
    "number2 = random.randint(1, 10)\n",
    "number3 = random.randint(1, 10)\n",
    "number4 = random.randint(1, 10) \n",
    "answer = (number1/number2) + (number3/number4)\n",
    "Fraction(answer)"
   ]
  },
  {
   "cell_type": "code",
   "execution_count": null,
   "id": "479b232d-1966-4fc5-85c2-f2fb226b495b",
   "metadata": {},
   "outputs": [],
   "source": [
    "number1 = random.randint(1, 10)\n",
    "number3 = random.randint(1, 10)\n",
    "Fraction(number1, number3)"
   ]
  },
  {
   "cell_type": "code",
   "execution_count": null,
   "id": "7cca04f5-5309-4dc8-be8a-b0e87bc249da",
   "metadata": {},
   "outputs": [],
   "source": [
    "print(placeValue(24, 4))"
   ]
  },
  {
   "cell_type": "code",
   "execution_count": null,
   "id": "2784e356-3b56-40fd-8ed6-066de879be62",
   "metadata": {},
   "outputs": [],
   "source": [
    "def get_digit(number, n):\n",
    "    return number // 10**n % 10"
   ]
  },
  {
   "cell_type": "code",
   "execution_count": null,
   "id": "8bac6d09-21fa-4668-87b5-780020949b5b",
   "metadata": {},
   "outputs": [],
   "source": [
    "get_digit(122.55, -2)"
   ]
  },
  {
   "cell_type": "code",
   "execution_count": null,
   "id": "438d33d3-0329-4db8-b83d-20a37c967f65",
   "metadata": {},
   "outputs": [],
   "source": [
    "N = random.randint(1000,1999)"
   ]
  },
  {
   "cell_type": "code",
   "execution_count": null,
   "id": "6672220b-5ee7-4fce-8787-e43e817696b1",
   "metadata": {},
   "outputs": [],
   "source": [
    "D= get_digit(N,3)"
   ]
  },
  {
   "cell_type": "code",
   "execution_count": null,
   "id": "f259bd31-8ff3-4b5e-b516-c764d00a52d7",
   "metadata": {},
   "outputs": [],
   "source": [
    "print(placeValue(N,D))"
   ]
  },
  {
   "cell_type": "code",
   "execution_count": null,
   "id": "2b7ddc78-d2d1-4731-8063-bc2d3eebdea0",
   "metadata": {},
   "outputs": [],
   "source": [
    "5.55%1"
   ]
  },
  {
   "cell_type": "code",
   "execution_count": null,
   "id": "d3097716-d911-45d0-bd4a-59471756c9fd",
   "metadata": {},
   "outputs": [],
   "source": [
    "get_digit(.0510000001, -3)"
   ]
  },
  {
   "cell_type": "code",
   "execution_count": null,
   "id": "93184030-3683-4f48-af34-8a394dbef2a2",
   "metadata": {},
   "outputs": [],
   "source": [
    "math.lcm(2,5,7)"
   ]
  },
  {
   "cell_type": "code",
   "execution_count": null,
   "id": "af8e8492-f5ce-4cc5-9e84-3e5531471356",
   "metadata": {},
   "outputs": [],
   "source": [
    "templates.pull_question(\"Computation and Estimation\", \"Multiplication\")"
   ]
  },
  {
   "cell_type": "code",
   "execution_count": null,
   "id": "95201922-1fa0-4aea-83b3-835e64571209",
   "metadata": {},
   "outputs": [],
   "source": [
    "pull_question(4, \"Computation and Estimation\", \"Multiplication\", 11)"
   ]
  },
  {
   "cell_type": "code",
   "execution_count": null,
   "id": "c52f0105-8584-40e3-afc4-1600fbee0486",
   "metadata": {},
   "outputs": [],
   "source": [
    "def pull_question(grade_level, standard, topic, num_questions):\n",
    "    classes = []\n",
    "    for name, obj in inspect.getmembers(templates):\n",
    "        if inspect.isclass(obj):\n",
    "            classes.append(obj)\n",
    "\n",
    "    while num_questions>0:\n",
    "        i = random.choice(classes)\n",
    "        x = i()\n",
    "        if x.attr1 == standard and x.attr2 == topic and x.attr3 == grade_level:\n",
    "            print(x.print_question(), x.print_choices())\n",
    "            num_questions = num_questions -1 \n",
    "        else:\n",
    "            pass"
   ]
  },
  {
   "cell_type": "code",
   "execution_count": null,
   "id": "cc635b68-396b-4ca0-8450-71a2c9dbe9f9",
   "metadata": {},
   "outputs": [],
   "source": [
    "days = ['Sunday', 'Monday', 'Tuesday', 'Wednesday']\n",
    "day1= random.randint(0,70)\n",
    "day2=random.randint(0,70)\n",
    "day3=random.randint(0,70)\n",
    "day4=random.randint(0,70)\n",
    "temperatures = [day1, day2, day3, day4]\n",
    "\n",
    "\n",
    "plt.plot(days, temperatures)\n",
    "plt.title('Morning Temperature')\n",
    "plt.xlabel('Day')\n",
    "plt.ylabel('Temperature (Degrees F)')\n",
    "plt.show()"
   ]
  },
  {
   "cell_type": "code",
   "execution_count": null,
   "id": "b052bb52-4eea-40df-bbf7-130bc54b7127",
   "metadata": {},
   "outputs": [],
   "source": [
    "import numpy as np"
   ]
  },
  {
   "cell_type": "code",
   "execution_count": null,
   "id": "ee463843-4380-4d09-b264-530470b9bcdb",
   "metadata": {},
   "outputs": [],
   "source": [
    "def closest_value(input_list, input_value):\n",
    "    arr = np.asarray(input_list)\n",
    "    i = (np.abs(arr-input_value)).argmin()\n",
    "    return i"
   ]
  },
  {
   "cell_type": "code",
   "execution_count": null,
   "id": "c134c07b-9cd4-44e8-b1e2-4f607854c837",
   "metadata": {},
   "outputs": [],
   "source": [
    "i =closest_value(, 70)\n",
    "Day[i]"
   ]
  },
  {
   "cell_type": "code",
   "execution_count": 3,
   "id": "ffe34c15-aae0-4bab-9bc7-404d2d53e51b",
   "metadata": {},
   "outputs": [
    {
     "name": "stdout",
     "output_type": "stream",
     "text": [
      "40\n",
      "20\n",
      "50\n",
      "30\n"
     ]
    }
   ],
   "source": [
    "x = g4_estimation_division_running_problem()"
   ]
  },
  {
   "cell_type": "code",
   "execution_count": 5,
   "id": "ad19334e-7ba3-4418-8d7d-a75daf4d4175",
   "metadata": {},
   "outputs": [],
   "source": [
    "x = g4_number_sense_decimal_largest_value()"
   ]
  },
  {
   "cell_type": "code",
   "execution_count": 6,
   "id": "7e11e24b-a068-4e5d-9287-f5479649b367",
   "metadata": {},
   "outputs": [
    {
     "data": {
      "text/plain": [
       "'Which of the four following numbers is largest? 13.24, 13.96, 13.83, 13.66'"
      ]
     },
     "execution_count": 6,
     "metadata": {},
     "output_type": "execute_result"
    }
   ],
   "source": [
    "x.print_question()"
   ]
  },
  {
   "cell_type": "code",
   "execution_count": 7,
   "id": "995b0f4c-375d-4fe4-a70a-9f210a45669b",
   "metadata": {},
   "outputs": [
    {
     "data": {
      "text/html": [
       "<div>\n",
       "<style scoped>\n",
       "    .dataframe tbody tr th:only-of-type {\n",
       "        vertical-align: middle;\n",
       "    }\n",
       "\n",
       "    .dataframe tbody tr th {\n",
       "        vertical-align: top;\n",
       "    }\n",
       "\n",
       "    .dataframe thead th {\n",
       "        text-align: right;\n",
       "    }\n",
       "</style>\n",
       "<table border=\"1\" class=\"dataframe\">\n",
       "  <thead>\n",
       "    <tr style=\"text-align: right;\">\n",
       "      <th></th>\n",
       "      <th></th>\n",
       "    </tr>\n",
       "  </thead>\n",
       "  <tbody>\n",
       "    <tr>\n",
       "      <th>a</th>\n",
       "      <td>13.83</td>\n",
       "    </tr>\n",
       "    <tr>\n",
       "      <th>b</th>\n",
       "      <td>13.96</td>\n",
       "    </tr>\n",
       "    <tr>\n",
       "      <th>c</th>\n",
       "      <td>13.24</td>\n",
       "    </tr>\n",
       "    <tr>\n",
       "      <th>d</th>\n",
       "      <td>13.66</td>\n",
       "    </tr>\n",
       "  </tbody>\n",
       "</table>\n",
       "</div>"
      ],
      "text/plain": [
       "        \n",
       "a  13.83\n",
       "b  13.96\n",
       "c  13.24\n",
       "d  13.66"
      ]
     },
     "execution_count": 7,
     "metadata": {},
     "output_type": "execute_result"
    }
   ],
   "source": [
    "x.print_choices()"
   ]
  },
  {
   "cell_type": "code",
   "execution_count": 8,
   "id": "a79dc1cf-88e1-4209-ab28-c688d5978c52",
   "metadata": {},
   "outputs": [
    {
     "data": {
      "text/plain": [
       "\"You didn't get the right answer this time. Keep trying and don't give up!\""
      ]
     },
     "execution_count": 8,
     "metadata": {},
     "output_type": "execute_result"
    }
   ],
   "source": [
    "x.student_answer('d')"
   ]
  },
  {
   "cell_type": "code",
   "execution_count": 27,
   "id": "d1bcf75f-6db9-4b20-a52f-022178690afd",
   "metadata": {},
   "outputs": [],
   "source": [
    "x = g4_computation_multiplication_specific_method()"
   ]
  },
  {
   "cell_type": "code",
   "execution_count": 28,
   "id": "87934cfd-822c-4f25-a7ee-012fc49255e7",
   "metadata": {},
   "outputs": [
    {
     "data": {
      "text/plain": [
       "'Use grouping to find 8 X 4.'"
      ]
     },
     "execution_count": 28,
     "metadata": {},
     "output_type": "execute_result"
    }
   ],
   "source": [
    "x.print_question()"
   ]
  },
  {
   "cell_type": "code",
   "execution_count": 29,
   "id": "af7760a8-7d03-4d41-9f9e-092a1e4dd596",
   "metadata": {},
   "outputs": [
    {
     "data": {
      "text/plain": [
       "[6, 4, 12, 32]"
      ]
     },
     "execution_count": 29,
     "metadata": {},
     "output_type": "execute_result"
    }
   ],
   "source": [
    "x.choices"
   ]
  },
  {
   "cell_type": "code",
   "execution_count": 30,
   "id": "2be58a06-4d6a-41f6-af69-ccf17f43c634",
   "metadata": {},
   "outputs": [
    {
     "data": {
      "text/html": [
       "<div>\n",
       "<style scoped>\n",
       "    .dataframe tbody tr th:only-of-type {\n",
       "        vertical-align: middle;\n",
       "    }\n",
       "\n",
       "    .dataframe tbody tr th {\n",
       "        vertical-align: top;\n",
       "    }\n",
       "\n",
       "    .dataframe thead th {\n",
       "        text-align: right;\n",
       "    }\n",
       "</style>\n",
       "<table border=\"1\" class=\"dataframe\">\n",
       "  <thead>\n",
       "    <tr style=\"text-align: right;\">\n",
       "      <th></th>\n",
       "      <th></th>\n",
       "    </tr>\n",
       "  </thead>\n",
       "  <tbody>\n",
       "    <tr>\n",
       "      <th>a</th>\n",
       "      <td>6</td>\n",
       "    </tr>\n",
       "    <tr>\n",
       "      <th>b</th>\n",
       "      <td>4</td>\n",
       "    </tr>\n",
       "    <tr>\n",
       "      <th>c</th>\n",
       "      <td>12</td>\n",
       "    </tr>\n",
       "    <tr>\n",
       "      <th>d</th>\n",
       "      <td>32</td>\n",
       "    </tr>\n",
       "  </tbody>\n",
       "</table>\n",
       "</div>"
      ],
      "text/plain": [
       "     \n",
       "a   6\n",
       "b   4\n",
       "c  12\n",
       "d  32"
      ]
     },
     "execution_count": 30,
     "metadata": {},
     "output_type": "execute_result"
    }
   ],
   "source": [
    "x.print_choices()"
   ]
  },
  {
   "cell_type": "code",
   "execution_count": 28,
   "id": "6bdc1ddc-787c-4e7f-a452-30d2cd670b44",
   "metadata": {},
   "outputs": [
    {
     "data": {
      "text/plain": [
       "\"You didn't get the right answer this time. Keep trying and don't give up!\""
      ]
     },
     "execution_count": 28,
     "metadata": {},
     "output_type": "execute_result"
    }
   ],
   "source": [
    "x.student_answer('a')"
   ]
  },
  {
   "cell_type": "code",
   "execution_count": 71,
   "id": "ba2a75a1-5eb1-45ae-ad95-cd1a643fcb6a",
   "metadata": {},
   "outputs": [],
   "source": [
    "key_words = [\"sum\", \"least common multiple\", \"product\", \"total cost\", \"difference\", \"common factor\", \"division\", \"place value\"]\n",
    "class g4_computation_largest_common_factor_word_problem():\n",
    "    def __init__(self):\n",
    "        \n",
    "        self.attr1 = \"Computation and Estimation\"\n",
    "        self.attr2 = \"Common Factor\"\n",
    "        self.attr3 = 4\n",
    "        factor = random.randint(2, 10)\n",
    "        number1 = random.randint(2,10)*factor\n",
    "        number2= random.randint(2,10)*factor\n",
    "        number3= random.randint(2,10)*factor\n",
    "        common_factors = common_factor(number1, number2, number3)\n",
    "        self.answer = max(common_factors)\n",
    "        self.question = \"Which number is the largest common factor of {number1}, {number2}, and {number3}?\".format(number1 = number1, \n",
    "                                                                                        number2= number2, \n",
    "                                                                                              number3= number3)\n",
    "        self.wrong_answers = []\n",
    "        wrong = np.random.randint(low = 2,high=10,size=12)\n",
    "        wrong = np.unique(wrong[wrong!=self.answer])\n",
    "        np.random.shuffle(wrong)\n",
    "        wrong = wrong[0:3].tolist()\n",
    "        for i in wrong:\n",
    "            self.wrong_answers.append(i)\n",
    "        self.choices = [self.answer] + self.wrong_answers\n",
    "        random.shuffle(self.choices)\n",
    "        self.correct_index = self.choices.index(self.answer)\n",
    "        self.correct_letter = ['a', 'b', 'c', 'd'][self.correct_index]\n",
    "        \n",
    "    def print_question(self):\n",
    "        return self.question\n",
    "    \n",
    "    def print_choices(self):\n",
    "        d = pd.DataFrame(self.choices, ['a', 'b', 'c', 'd'])\n",
    "        d.columns = ['']\n",
    "        return d\n",
    "    \n",
    "    def student_answer(self, student_answer):\n",
    "        if student_answer not in ['a', 'b', 'c', 'd']:\n",
    "            return \"Please type a, b, c, or d.\"\n",
    "        if student_answer == self.correct_letter:\n",
    "            return \"You got the right answer. Nice work!\"\n",
    "        if student_answer!= self.correct_letter:\n",
    "            return \"You didn't get the right answer this time. Keep trying and don't give up!\" \n"
   ]
  },
  {
   "cell_type": "code",
   "execution_count": 90,
   "id": "874e9682-1a48-47fd-a436-28b255aa8b20",
   "metadata": {},
   "outputs": [],
   "source": [
    "x= g4_computation_largest_common_factor_word_problem()"
   ]
  },
  {
   "cell_type": "code",
   "execution_count": 91,
   "id": "7bba6231-cbdf-4eec-9319-bb5f6090feb9",
   "metadata": {},
   "outputs": [
    {
     "data": {
      "text/plain": [
       "'Which number is the largest common factor of 14, 14, and 35?'"
      ]
     },
     "execution_count": 91,
     "metadata": {},
     "output_type": "execute_result"
    }
   ],
   "source": [
    "x.print_question()"
   ]
  },
  {
   "cell_type": "code",
   "execution_count": 92,
   "id": "368a3e50-8924-4b86-a65c-1f31029ecff7",
   "metadata": {},
   "outputs": [
    {
     "data": {
      "text/html": [
       "<div>\n",
       "<style scoped>\n",
       "    .dataframe tbody tr th:only-of-type {\n",
       "        vertical-align: middle;\n",
       "    }\n",
       "\n",
       "    .dataframe tbody tr th {\n",
       "        vertical-align: top;\n",
       "    }\n",
       "\n",
       "    .dataframe thead th {\n",
       "        text-align: right;\n",
       "    }\n",
       "</style>\n",
       "<table border=\"1\" class=\"dataframe\">\n",
       "  <thead>\n",
       "    <tr style=\"text-align: right;\">\n",
       "      <th></th>\n",
       "      <th></th>\n",
       "    </tr>\n",
       "  </thead>\n",
       "  <tbody>\n",
       "    <tr>\n",
       "      <th>a</th>\n",
       "      <td>4</td>\n",
       "    </tr>\n",
       "    <tr>\n",
       "      <th>b</th>\n",
       "      <td>8</td>\n",
       "    </tr>\n",
       "    <tr>\n",
       "      <th>c</th>\n",
       "      <td>7</td>\n",
       "    </tr>\n",
       "    <tr>\n",
       "      <th>d</th>\n",
       "      <td>9</td>\n",
       "    </tr>\n",
       "  </tbody>\n",
       "</table>\n",
       "</div>"
      ],
      "text/plain": [
       "    \n",
       "a  4\n",
       "b  8\n",
       "c  7\n",
       "d  9"
      ]
     },
     "execution_count": 92,
     "metadata": {},
     "output_type": "execute_result"
    }
   ],
   "source": [
    "x.print_choices()"
   ]
  },
  {
   "cell_type": "code",
   "execution_count": 94,
   "id": "f5ce6fd4-7ff5-4b1b-9f24-86c111c3afdb",
   "metadata": {},
   "outputs": [
    {
     "data": {
      "text/plain": [
       "'You got the right answer. Nice work!'"
      ]
     },
     "execution_count": 94,
     "metadata": {},
     "output_type": "execute_result"
    }
   ],
   "source": [
    "x.student_answer('c')"
   ]
  },
  {
   "cell_type": "code",
   "execution_count": 24,
   "id": "414202ce-86ab-47dc-8b95-c24775400da8",
   "metadata": {},
   "outputs": [
    {
     "data": {
      "text/plain": [
       "[1, 2, 4]"
      ]
     },
     "execution_count": 24,
     "metadata": {},
     "output_type": "execute_result"
    }
   ],
   "source": [
    "factor = random.randint(2, 10)\n",
    "number1 = random.randint(2,10)*factor\n",
    "number2= random.randint(2,10)*factor \n",
    "number3= random.randint(2,10)*factor\n",
    "common_factors = common_factor(number1, number2, number3)\n",
    "common_factors"
   ]
  },
  {
   "cell_type": "code",
   "execution_count": null,
   "id": "54c6958b-1585-4340-bdcb-9a776bf8360a",
   "metadata": {},
   "outputs": [
    {
     "data": {
      "text/plain": [
       "0.875"
      ]
     },
     "execution_count": 16,
     "metadata": {},
     "output_type": "execute_result"
    }
   ],
   "source": [
    "fraction= '7/8'\n",
    "num = int(fraction[0])\n",
    "denom = int(fraction[2])\n",
    "num/denom"
   ]
  },
  {
   "cell_type": "code",
   "execution_count": null,
   "id": "4bb0970b-2f6e-4df6-bfaf-0859e4c0a6cf",
   "metadata": {},
   "outputs": [],
   "source": [
    "for i in range(num_questions):\n",
    "        target_class = temp_df.iloc[i]['Class']\n",
    "        x= target_class()\n",
    "        print(x.print_question())\n",
    "        try:\n",
    "            print(x.print_choices())\n",
    "            student_answer = input()\n",
    "            print(x.student_answer(student_answer))\n",
    "            while x.answer != student_answer:\n",
    "                student_answer = input()\n",
    "                print(x.student_answer(student_answer))\n",
    "        except:\n",
    "            student_answer = input()\n",
    "            if \"Fraction Addition/Subtraction\" in x.attr2:\n",
    "                try:\n",
    "                    student_answer= student_answer.split(\"/\")\n",
    "                    num = int(student_answer[0])\n",
    "                    denom = int(student_answer[1])\n",
    "                    student_answer = num/denom\n",
    "                    print(x.student_answer(student_answer))\n",
    "                    while x.answer != student_answer:\n",
    "                        student_answer = input()\n",
    "                        try:\n",
    "                            student_answer= student_answer.split(\"/\")\n",
    "                            num = int(student_answer[0])\n",
    "                            denom = int(student_answer[1])\n",
    "                            student_answer = num/denom\n",
    "                            print(x.student_answer(student_answer))\n",
    "                        except:\n",
    "                            print(\"Please enter your answer as a fraction such as 1/8.\")\n",
    "                except:\n",
    "                    print(\"Please enter your answer as a fraction such as 1/8.\")\n",
    "                    while x.answer != student_answer:\n",
    "                        student_answer = input()\n",
    "                        try:\n",
    "                            student_answer= student_answer.split(\"/\")\n",
    "                            num = int(student_answer[0])\n",
    "                            denom = int(student_answer[1])\n",
    "                            student_answer = num/denom\n",
    "                            print(x.student_answer(student_answer))\n",
    "                        except:\n",
    "                            print(\"Please enter your answer as a fraction such as 1/8.\")\n",
    "            if \"Fraction Ordering\" in x.attr2:\n",
    "                try:\n",
    "                    fraction = student_answer.split(\", \")\n",
    "                    numbers= []\n",
    "                    for item in fraction:\n",
    "                        item = item.split(\"/\")\n",
    "                        numbers.append(item)\n",
    "                    numbers2= []\n",
    "                    for number in numbers:\n",
    "                        num = int(number[0])\n",
    "                        denom= int(number[1])\n",
    "                        answer = num/denom\n",
    "                        numbers2.append(answer)\n",
    "                    student_answer = numbers2\n",
    "                    print(x.student_answer(student_answer))\n",
    "                    while x.answer!=student_answer:\n",
    "                        student_answer = input()\n",
    "                        try:\n",
    "                            fraction = student_answer.split(\", \")\n",
    "                            numbers= []\n",
    "                            for item in fraction:\n",
    "                                item = item.split(\"/\")\n",
    "                                numbers.append(item)\n",
    "                            numbers2= []\n",
    "                            for number in numbers:\n",
    "                                num = int(number[0])\n",
    "                                denom= int(number[1])\n",
    "                                answer = num/denom\n",
    "                                numbers2.append(answer)\n",
    "                            student_answer = numbers2\n",
    "                            print(x.student_answer(student_answer))\n",
    "                        except:\n",
    "                            print(\"Please enter your answer as a list of fractions separated by commas and a space.\")\n",
    "                except:\n",
    "                    print(\"Please enter your answer as a list of fractions separated by commas and a space.\")\n",
    "                    while x.answer!=student_answer:\n",
    "                        student_answer = input()\n",
    "                        try:\n",
    "                            fraction = student_answer.split(\", \")\n",
    "                            numbers= []\n",
    "                            for item in fraction:\n",
    "                                item = item.split(\"/\")\n",
    "                                numbers.append(item)\n",
    "                            numbers2= []\n",
    "                            for number in numbers:\n",
    "                                num = int(number[0])\n",
    "                                denom= int(number[1])\n",
    "                                answer = num/denom\n",
    "                                numbers2.append(answer)\n",
    "                            student_answer = numbers2\n",
    "                            print(x.student_answer(student_answer))\n",
    "                        except:\n",
    "                            print(\"Please enter your answer as a list of fractions separated by commas and a space.\")\n",
    "            else:\n",
    "                print(x.student_answer(student_answer))\n",
    "                while x.answer != student_answer:\n",
    "                    student_answer = input()\n",
    "                    print(x.student_answer(student_answer))"
   ]
  },
  {
   "cell_type": "code",
   "execution_count": null,
   "id": "9bce793b-eed2-4fd5-975d-14814ab1a66c",
   "metadata": {},
   "outputs": [],
   "source": []
  }
 ],
 "metadata": {
  "kernelspec": {
   "display_name": "Python 3 (ipykernel)",
   "language": "python",
   "name": "python3"
  },
  "language_info": {
   "codemirror_mode": {
    "name": "ipython",
    "version": 3
   },
   "file_extension": ".py",
   "mimetype": "text/x-python",
   "name": "python",
   "nbconvert_exporter": "python",
   "pygments_lexer": "ipython3",
   "version": "3.10.6"
  }
 },
 "nbformat": 4,
 "nbformat_minor": 5
}
