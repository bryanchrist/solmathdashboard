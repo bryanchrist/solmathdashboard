{
 "cells": [
  {
   "cell_type": "markdown",
   "id": "f0762ac7-93e8-4887-afda-0b228b85f315",
   "metadata": {
    "tags": []
   },
   "source": [
    "# Testing Environment for Python Templates\n",
    "\n",
    "### General notes/areas for improvement\n",
    "- Need to build in repeating question if they get it wrong\n",
    "- Turning fraction questions into multiple choice\n",
    "- Okay some questions are student inputs? \n",
    "- How to tell python to format a,b,c,d as strings versus answer for g4_number_sense_fraction_ordering() as a list and fraction questions as inputs\n",
    "- Decimal place value infinite loop\n",
    "- g4_number_sense_decimal_round() too easy for certain numbers?\n",
    "- sometimes g4_number_sense_decimal_place_value() runs and others it is an infinite loop\n",
    "- g4_number_sense_decimal_in_words() doesn't read like SOL does\n",
    "- how to get answer key to display correctly on g4_number_sense_big_number_in_words()\n",
    "- not sure if g4_geometry_shapes_angles() is too hard\n",
    "- Next steps\n",
    "    - Right now function creates an infinite loop for searching by question sometimes and other times works- seems to work only on small numbers- maybe that's because it hits the graphical questions? \n",
    "\n",
    "### Possible additions\n",
    "- picture questions\n",
    "\n",
    "Next: Function to pull questions, how to return two things without a tuple (running decimal chart), decimal place value, then fractions, then answer key on big number in words, then formatting of responses and repeating prompts until they answer a question right\n"
   ]
  },
  {
   "cell_type": "code",
   "execution_count": 1,
   "id": "ff334042-9778-4585-9ce8-ce839cbe35e7",
   "metadata": {},
   "outputs": [],
   "source": [
    "import templates\n",
    "import random\n",
    "import inspect\n",
    "import math\n",
    "from fractions import Fraction\n",
    "import matplotlib.pyplot as plt"
   ]
  },
  {
   "cell_type": "code",
   "execution_count": 30,
   "id": "b3e96d06-5890-478d-9c14-02e9fd883386",
   "metadata": {},
   "outputs": [],
   "source": [
    "x = templates.g4_number_sense_decimal_place_value()"
   ]
  },
  {
   "cell_type": "code",
   "execution_count": 31,
   "id": "9873bea4-f6f0-4448-a1ca-23a9b5b8733e",
   "metadata": {},
   "outputs": [
    {
     "data": {
      "text/plain": [
       "'What digit is in the thousandths place in 16.296?'"
      ]
     },
     "execution_count": 31,
     "metadata": {},
     "output_type": "execute_result"
    }
   ],
   "source": [
    "x.print_question()"
   ]
  },
  {
   "cell_type": "code",
   "execution_count": 32,
   "id": "db0fdd10-124c-4b99-aa2d-09716b1fb336",
   "metadata": {},
   "outputs": [
    {
     "data": {
      "text/html": [
       "<div>\n",
       "<style scoped>\n",
       "    .dataframe tbody tr th:only-of-type {\n",
       "        vertical-align: middle;\n",
       "    }\n",
       "\n",
       "    .dataframe tbody tr th {\n",
       "        vertical-align: top;\n",
       "    }\n",
       "\n",
       "    .dataframe thead th {\n",
       "        text-align: right;\n",
       "    }\n",
       "</style>\n",
       "<table border=\"1\" class=\"dataframe\">\n",
       "  <thead>\n",
       "    <tr style=\"text-align: right;\">\n",
       "      <th></th>\n",
       "      <th></th>\n",
       "    </tr>\n",
       "  </thead>\n",
       "  <tbody>\n",
       "    <tr>\n",
       "      <th>a</th>\n",
       "      <td>2</td>\n",
       "    </tr>\n",
       "    <tr>\n",
       "      <th>b</th>\n",
       "      <td>6</td>\n",
       "    </tr>\n",
       "    <tr>\n",
       "      <th>c</th>\n",
       "      <td>3</td>\n",
       "    </tr>\n",
       "    <tr>\n",
       "      <th>d</th>\n",
       "      <td>9</td>\n",
       "    </tr>\n",
       "  </tbody>\n",
       "</table>\n",
       "</div>"
      ],
      "text/plain": [
       "    \n",
       "a  2\n",
       "b  6\n",
       "c  3\n",
       "d  9"
      ]
     },
     "execution_count": 32,
     "metadata": {},
     "output_type": "execute_result"
    }
   ],
   "source": [
    "x.print_choices()"
   ]
  },
  {
   "cell_type": "code",
   "execution_count": 6,
   "id": "46f12e61-3821-40e4-8887-e2c2036c22c9",
   "metadata": {},
   "outputs": [
    {
     "data": {
      "text/plain": [
       "\"You didn't get the right answer this time. Keep trying and don't give up!\""
      ]
     },
     "execution_count": 6,
     "metadata": {},
     "output_type": "execute_result"
    }
   ],
   "source": [
    "x.student_answer('d')"
   ]
  },
  {
   "cell_type": "markdown",
   "id": "3eb7424b-e2b0-4039-a720-0376890c3d5d",
   "metadata": {},
   "source": [
    "| Letter | Answer |\n",
    "|--------|--------|\n",
    "|   a    |   20   |\n",
    "|   b    |   40   |\n",
    "|   c    |   90   |\n",
    "|   d    |   10   |\n"
   ]
  },
  {
   "cell_type": "code",
   "execution_count": 5,
   "id": "e077ea29-253f-4ce2-a832-78e9856d7e5d",
   "metadata": {},
   "outputs": [
    {
     "data": {
      "text/plain": [
       "'Decimal Comparison'"
      ]
     },
     "execution_count": 5,
     "metadata": {},
     "output_type": "execute_result"
    }
   ],
   "source": [
    "x.attr2"
   ]
  },
  {
   "cell_type": "code",
   "execution_count": null,
   "id": "5a16c606-f608-4669-82a5-87d521bb8ea4",
   "metadata": {},
   "outputs": [
    {
     "name": "stdout",
     "output_type": "stream",
     "text": [
      "Which number makes this equation true? 5 X ___ = 50\n",
      "4,609 + 6,225 = ___\n",
      "7,850 - 1,133 = ___\n",
      "Which number is a common factor of 45, 63, and 90?\n",
      "19.8 + 10.4 = ___\n",
      "Robin drinks 1.91 liters of Gatorade. Flora drinks 0.089 liter of Gatorade. How much more Gatorade does Robin drink than Flora?\n",
      "Which division statement represents 3/10?\n",
      "What is the sum of 3/6 and 10/12?\n",
      "What is the difference between 10/10 and 7/10?\n",
      "What is the least common multiple of 2 and 6?\n",
      "Batman has 13 bags of 10 Reese's Pieces. Batman has 19 bags of 20 Reese's Pieces. How many Reese's Pieces do they have altogether?\n",
      "Denari has 19 bags of 20 Pretzels. How many Pretzels does she have?\n",
      "Nyzir has 15 profiles with 8 Fornite skins. How many Fornite skins does he have?\n",
      "Levi has 14 bags of 11 Reese's Pieces. How many Reese's Pieces does he have?\n",
      "Gina sold 912 Fortnite action figures. Each box cost $7. What was the total cost of all the Fortnite action figures sold?\n",
      "Levi does 40 sit-ups 3 times per day. What is the total number of sit-ups Levi does in 9 days?\n",
      "Use any method you want to find 3 X 3.\n",
      "What is the product of 23 and 53?\n",
      "Flora poured 10 ounces of Gatorade into each of 11 glasses. Exactly how many ounces of Gatorade did Flora pour into all of these glasses?\n",
      "What is the difference between 3,617 and 390?\n"
     ]
    }
   ],
   "source": [
    "classes = []\n",
    "for name, obj in inspect.getmembers(templates):\n",
    "    if inspect.isclass(obj):\n",
    "        classes.append(obj)\n",
    "\n",
    "for i in classes:\n",
    "    x = i()\n",
    "    print(x.print_question())\n",
    "\n",
    "classes"
   ]
  },
  {
   "cell_type": "code",
   "execution_count": 5,
   "id": "120f47a7-1d89-4dae-9e6f-731ca9e665f2",
   "metadata": {},
   "outputs": [
    {
     "data": {
      "text/plain": [
       "1.089"
      ]
     },
     "execution_count": 5,
     "metadata": {},
     "output_type": "execute_result"
    }
   ],
   "source": [
    "x.answer"
   ]
  },
  {
   "cell_type": "code",
   "execution_count": 61,
   "id": "f6b60f68-4d68-439e-bcaf-0088422b3ff4",
   "metadata": {},
   "outputs": [],
   "source": [
    "class Dog:\n",
    "\n",
    "    def __init__(self):\n",
    "    \n",
    "        self.tricks = random.randint(1,10) \n",
    "        self.number = random.randint(1,10)\n",
    "        self.answer = self.tricks * self.number# creates a new empty list for each dog\n",
    "\n",
    "    def add_trick(self, trick):\n",
    "        self.tricks.append(trick)\n"
   ]
  },
  {
   "cell_type": "code",
   "execution_count": 62,
   "id": "a94e9e17-a820-4472-acb1-fe5b31931c0e",
   "metadata": {},
   "outputs": [],
   "source": [
    "d = Dog()"
   ]
  },
  {
   "cell_type": "code",
   "execution_count": 63,
   "id": "866b1587-2189-4545-9075-d1ad27fb9a61",
   "metadata": {},
   "outputs": [
    {
     "data": {
      "text/plain": [
       "7"
      ]
     },
     "execution_count": 63,
     "metadata": {},
     "output_type": "execute_result"
    }
   ],
   "source": [
    "d.number"
   ]
  },
  {
   "cell_type": "code",
   "execution_count": 64,
   "id": "6b1b6022-f0e7-45e4-a24c-ee0d9a56e2c3",
   "metadata": {},
   "outputs": [
    {
     "data": {
      "text/plain": [
       "42"
      ]
     },
     "execution_count": 64,
     "metadata": {},
     "output_type": "execute_result"
    }
   ],
   "source": [
    "d.answer"
   ]
  },
  {
   "cell_type": "code",
   "execution_count": 3,
   "id": "e9d0466f-6253-407e-925e-c8b5073dc10c",
   "metadata": {},
   "outputs": [
    {
     "ename": "NameError",
     "evalue": "name 'd' is not defined",
     "output_type": "error",
     "traceback": [
      "\u001b[0;31m---------------------------------------------------------------------------\u001b[0m",
      "\u001b[0;31mNameError\u001b[0m                                 Traceback (most recent call last)",
      "Cell \u001b[0;32mIn [3], line 1\u001b[0m\n\u001b[0;32m----> 1\u001b[0m \u001b[43md\u001b[49m\u001b[38;5;241m.\u001b[39mprint_question()\n",
      "\u001b[0;31mNameError\u001b[0m: name 'd' is not defined"
     ]
    }
   ],
   "source": [
    "d.print_question()"
   ]
  },
  {
   "cell_type": "code",
   "execution_count": 4,
   "id": "fd2a634d-85f8-44e7-8f00-0b85e45d3ddf",
   "metadata": {},
   "outputs": [
    {
     "ename": "NameError",
     "evalue": "name 'd' is not defined",
     "output_type": "error",
     "traceback": [
      "\u001b[0;31m---------------------------------------------------------------------------\u001b[0m",
      "\u001b[0;31mNameError\u001b[0m                                 Traceback (most recent call last)",
      "Cell \u001b[0;32mIn [4], line 1\u001b[0m\n\u001b[0;32m----> 1\u001b[0m \u001b[43md\u001b[49m\u001b[38;5;241m.\u001b[39mstudent_answer(\u001b[38;5;241m80\u001b[39m)\n",
      "\u001b[0;31mNameError\u001b[0m: name 'd' is not defined"
     ]
    }
   ],
   "source": [
    "d.student_answer(80)"
   ]
  },
  {
   "cell_type": "code",
   "execution_count": 18,
   "id": "539e06f0-83d7-40d3-a0e6-d4737f04b82e",
   "metadata": {},
   "outputs": [
    {
     "ename": "AttributeError",
     "evalue": "'g4_computation_multplication_specific_method' object has no attribute 'answer'",
     "output_type": "error",
     "traceback": [
      "\u001b[0;31m---------------------------------------------------------------------------\u001b[0m",
      "\u001b[0;31mAttributeError\u001b[0m                            Traceback (most recent call last)",
      "Cell \u001b[0;32mIn [18], line 1\u001b[0m\n\u001b[0;32m----> 1\u001b[0m \u001b[43md\u001b[49m\u001b[38;5;241;43m.\u001b[39;49m\u001b[43mstudent_answer\u001b[49m\u001b[43m(\u001b[49m\u001b[38;5;241;43m6\u001b[39;49m\u001b[43m)\u001b[49m\n",
      "Cell \u001b[0;32mIn [8], line 9\u001b[0m, in \u001b[0;36mg4_computation_multplication_specific_method.student_answer\u001b[0;34m(self, student_answer)\u001b[0m\n\u001b[1;32m      8\u001b[0m \u001b[38;5;28;01mdef\u001b[39;00m \u001b[38;5;21mstudent_answer\u001b[39m(\u001b[38;5;28mself\u001b[39m, student_answer):\n\u001b[0;32m----> 9\u001b[0m     \u001b[38;5;28;01mif\u001b[39;00m student_answer \u001b[38;5;241m==\u001b[39m \u001b[38;5;28;43mself\u001b[39;49m\u001b[38;5;241;43m.\u001b[39;49m\u001b[43manswer\u001b[49m:\n\u001b[1;32m     10\u001b[0m         \u001b[38;5;28;01mreturn\u001b[39;00m \u001b[38;5;124m\"\u001b[39m\u001b[38;5;124mYou got the right answer. Nice work!\u001b[39m\u001b[38;5;124m\"\u001b[39m\n\u001b[1;32m     11\u001b[0m     \u001b[38;5;28;01mif\u001b[39;00m student_answer\u001b[38;5;241m!=\u001b[39m \u001b[38;5;28mself\u001b[39m\u001b[38;5;241m.\u001b[39manswer:\n",
      "\u001b[0;31mAttributeError\u001b[0m: 'g4_computation_multplication_specific_method' object has no attribute 'answer'"
     ]
    }
   ],
   "source": [
    "d.student_answer(6)"
   ]
  },
  {
   "cell_type": "code",
   "execution_count": 7,
   "id": "0a2391d5-6f12-4d39-834e-3c3336e90e07",
   "metadata": {},
   "outputs": [
    {
     "data": {
      "text/plain": [
       "'Use pizza to find 5 X 7.'"
      ]
     },
     "execution_count": 7,
     "metadata": {},
     "output_type": "execute_result"
    }
   ],
   "source": [
    "r.print_question()"
   ]
  },
  {
   "cell_type": "code",
   "execution_count": 9,
   "id": "acee5288-b453-4a0b-84a2-128bd3cc6817",
   "metadata": {},
   "outputs": [],
   "source": [
    "x = templates.g4_computation_multplication_specific_method()"
   ]
  },
  {
   "cell_type": "code",
   "execution_count": 10,
   "id": "082a08ef-a797-42cb-8f4f-be2a493c2ebb",
   "metadata": {},
   "outputs": [
    {
     "data": {
      "text/plain": [
       "'Use the standard algorithm to find 3 X 2.'"
      ]
     },
     "execution_count": 10,
     "metadata": {},
     "output_type": "execute_result"
    }
   ],
   "source": [
    "x.print_question()"
   ]
  },
  {
   "cell_type": "code",
   "execution_count": 11,
   "id": "9c89e133-49d4-4c58-9e49-62239c1dea06",
   "metadata": {},
   "outputs": [
    {
     "data": {
      "text/plain": [
       "'You got the right answer. Nice work!'"
      ]
     },
     "execution_count": 11,
     "metadata": {},
     "output_type": "execute_result"
    }
   ],
   "source": [
    "x.student_answer(6)"
   ]
  },
  {
   "cell_type": "code",
   "execution_count": 2,
   "id": "4623e4ce-dae7-448b-a75e-3ed83123eabd",
   "metadata": {},
   "outputs": [],
   "source": [
    "class g4_computation_multplication_specific_method():\n",
    "    def __init__(self):\n",
    "        \n",
    "        number1 = random.randint(2, 10)\n",
    "        number2 = random.randint(2, 10)\n",
    "        self.answer = number1 * number2\n",
    "        self.question= \"Use {method} to find {number1} X {number2}.\".format(method = 'random.choice(methods)', number1 = number1, number2 = number2)\n",
    "    \n",
    "    def print_question(self):\n",
    "        return self.question\n",
    "    \n",
    "    def student_answer(self, student_answer):\n",
    "        if student_answer == self.answer:\n",
    "            return \"You got the right answer. Nice work!\"\n",
    "        if student_answer!= self.answer:\n",
    "            return \"Your answer is incorrect. Please try again!\""
   ]
  },
  {
   "cell_type": "code",
   "execution_count": 6,
   "id": "49f839d9-29b8-4d56-9dcb-6ba80fe7dcea",
   "metadata": {},
   "outputs": [],
   "source": [
    "d = g4_computation_multplication_specific_method()"
   ]
  },
  {
   "cell_type": "code",
   "execution_count": 7,
   "id": "16877f65-db63-4c85-a455-0273eb52cfbb",
   "metadata": {},
   "outputs": [
    {
     "data": {
      "text/plain": [
       "'Use random.choice(methods) to find 2 X 3.'"
      ]
     },
     "execution_count": 7,
     "metadata": {},
     "output_type": "execute_result"
    }
   ],
   "source": [
    "d.print_question()"
   ]
  },
  {
   "cell_type": "code",
   "execution_count": 107,
   "id": "df0b2104-d3ab-49ca-9e08-9fa2905581bb",
   "metadata": {},
   "outputs": [
    {
     "data": {
      "text/plain": [
       "'You got the right answer. Nice work!'"
      ]
     },
     "execution_count": 107,
     "metadata": {},
     "output_type": "execute_result"
    }
   ],
   "source": [
    "d.student_answer(20)"
   ]
  },
  {
   "cell_type": "code",
   "execution_count": 39,
   "id": "399dd57b-5c5a-4f13-bcc6-78c7cdffc07d",
   "metadata": {},
   "outputs": [
    {
     "data": {
      "text/plain": [
       "Fraction(6, 1)"
      ]
     },
     "execution_count": 39,
     "metadata": {},
     "output_type": "execute_result"
    }
   ],
   "source": [
    "number1 = random.randint(1, 10)\n",
    "number2 = random.randint(1, 10)\n",
    "number3 = random.randint(1, 10)\n",
    "number4 = random.randint(1, 10) \n",
    "answer = (number1/number2) + (number3/number4)\n",
    "Fraction(answer)"
   ]
  },
  {
   "cell_type": "code",
   "execution_count": 30,
   "id": "479b232d-1966-4fc5-85c2-f2fb226b495b",
   "metadata": {},
   "outputs": [
    {
     "data": {
      "text/plain": [
       "Fraction(6, 5)"
      ]
     },
     "execution_count": 30,
     "metadata": {},
     "output_type": "execute_result"
    }
   ],
   "source": [
    "number1 = random.randint(1, 10)\n",
    "number3 = random.randint(1, 10)\n",
    "Fraction(number1, number3)"
   ]
  },
  {
   "cell_type": "code",
   "execution_count": 3,
   "id": "7cca04f5-5309-4dc8-be8a-b0e87bc249da",
   "metadata": {},
   "outputs": [
    {
     "name": "stdout",
     "output_type": "stream",
     "text": [
      "4\n"
     ]
    }
   ],
   "source": [
    "print(placeValue(24, 4))"
   ]
  },
  {
   "cell_type": "code",
   "execution_count": 14,
   "id": "2784e356-3b56-40fd-8ed6-066de879be62",
   "metadata": {},
   "outputs": [],
   "source": [
    "def get_digit(number, n):\n",
    "    return number // 10**n % 10"
   ]
  },
  {
   "cell_type": "code",
   "execution_count": 17,
   "id": "8bac6d09-21fa-4668-87b5-780020949b5b",
   "metadata": {},
   "outputs": [
    {
     "data": {
      "text/plain": [
       "4.0"
      ]
     },
     "execution_count": 17,
     "metadata": {},
     "output_type": "execute_result"
    }
   ],
   "source": [
    "get_digit(122.55, -2)"
   ]
  },
  {
   "cell_type": "code",
   "execution_count": 30,
   "id": "438d33d3-0329-4db8-b83d-20a37c967f65",
   "metadata": {},
   "outputs": [],
   "source": [
    "N = random.randint(1000,1999)"
   ]
  },
  {
   "cell_type": "code",
   "execution_count": 31,
   "id": "6672220b-5ee7-4fce-8787-e43e817696b1",
   "metadata": {},
   "outputs": [],
   "source": [
    "D= get_digit(N,3)"
   ]
  },
  {
   "cell_type": "code",
   "execution_count": 32,
   "id": "f259bd31-8ff3-4b5e-b516-c764d00a52d7",
   "metadata": {},
   "outputs": [
    {
     "name": "stdout",
     "output_type": "stream",
     "text": [
      "1000\n"
     ]
    }
   ],
   "source": [
    "print(placeValue(N,D))"
   ]
  },
  {
   "cell_type": "code",
   "execution_count": 18,
   "id": "2b7ddc78-d2d1-4731-8063-bc2d3eebdea0",
   "metadata": {},
   "outputs": [
    {
     "data": {
      "text/plain": [
       "0.5499999999999998"
      ]
     },
     "execution_count": 18,
     "metadata": {},
     "output_type": "execute_result"
    }
   ],
   "source": [
    "5.55%1"
   ]
  },
  {
   "cell_type": "code",
   "execution_count": 38,
   "id": "d3097716-d911-45d0-bd4a-59471756c9fd",
   "metadata": {},
   "outputs": [
    {
     "data": {
      "text/plain": [
       "1.0"
      ]
     },
     "execution_count": 38,
     "metadata": {},
     "output_type": "execute_result"
    }
   ],
   "source": [
    "get_digit(.0510000001, -3)"
   ]
  },
  {
   "cell_type": "code",
   "execution_count": 8,
   "id": "93184030-3683-4f48-af34-8a394dbef2a2",
   "metadata": {},
   "outputs": [
    {
     "data": {
      "text/plain": [
       "70"
      ]
     },
     "execution_count": 8,
     "metadata": {},
     "output_type": "execute_result"
    }
   ],
   "source": [
    "math.lcm(2,5,7)"
   ]
  },
  {
   "cell_type": "code",
   "execution_count": 26,
   "id": "af8e8492-f5ce-4cc5-9e84-3e5531471356",
   "metadata": {},
   "outputs": [
    {
     "ename": "AttributeError",
     "evalue": "module 'templates' has no attribute 'pull_question'",
     "output_type": "error",
     "traceback": [
      "\u001b[0;31m---------------------------------------------------------------------------\u001b[0m",
      "\u001b[0;31mAttributeError\u001b[0m                            Traceback (most recent call last)",
      "Cell \u001b[0;32mIn [26], line 1\u001b[0m\n\u001b[0;32m----> 1\u001b[0m \u001b[43mtemplates\u001b[49m\u001b[38;5;241;43m.\u001b[39;49m\u001b[43mpull_question\u001b[49m(\u001b[38;5;124m\"\u001b[39m\u001b[38;5;124mComputation and Estimation\u001b[39m\u001b[38;5;124m\"\u001b[39m, \u001b[38;5;124m\"\u001b[39m\u001b[38;5;124mMultiplication\u001b[39m\u001b[38;5;124m\"\u001b[39m)\n",
      "\u001b[0;31mAttributeError\u001b[0m: module 'templates' has no attribute 'pull_question'"
     ]
    }
   ],
   "source": [
    "templates.pull_question(\"Computation and Estimation\", \"Multiplication\")"
   ]
  },
  {
   "cell_type": "code",
   "execution_count": null,
   "id": "95201922-1fa0-4aea-83b3-835e64571209",
   "metadata": {},
   "outputs": [
    {
     "name": "stdout",
     "output_type": "stream",
     "text": [
      "Levi has 13 bags of 18 Pretzels. Levi has 18 bags of 17 Pretzels. How many Pretzels do they have altogether?       \n",
      "a  264\n",
      "b  540\n",
      "c   52\n",
      "d   66\n",
      "Robin has 14 profiles with 19 Fornite skins. How many Fornite skins does he have?       \n",
      "a  105\n",
      "b  266\n",
      "c   33\n",
      "d  260\n",
      "Antonio has 3 bags of 16 Pretzels. Batman has 20 bags of 20 Pretzels. How many Pretzels do they have altogether?       \n",
      "a   59\n",
      "b  193\n",
      "c  260\n",
      "d  448\n",
      "Flora poured 6 ounces of Gatorade into each of 15 glasses. Exactly how many ounces of Gatorade did Flora pour into all of these glasses?      \n",
      "a  56\n",
      "b  90\n",
      "c  21\n",
      "d  36\n",
      "Nyzir has 15 bags of 20 M&Ms. Sam has 4 bags of 9 M&Ms. How many M&Ms do they have altogether?       \n",
      "a  336\n",
      "b  346\n",
      "c  359\n",
      "d   48\n",
      "Robin has 6 profiles with 5 Fornite skins. How many Fornite skins does he have?       \n",
      "a  323\n",
      "b   30\n",
      "c   11\n",
      "d  200\n"
     ]
    }
   ],
   "source": [
    "pull_question(4, \"Computation and Estimation\", \"Multiplication\", 11)"
   ]
  },
  {
   "cell_type": "code",
   "execution_count": 6,
   "id": "c52f0105-8584-40e3-afc4-1600fbee0486",
   "metadata": {},
   "outputs": [],
   "source": [
    "def pull_question(grade_level, standard, topic, num_questions):\n",
    "    classes = []\n",
    "    for name, obj in inspect.getmembers(templates):\n",
    "        if inspect.isclass(obj):\n",
    "            classes.append(obj)\n",
    "\n",
    "    while num_questions>0:\n",
    "        i = random.choice(classes)\n",
    "        x = i()\n",
    "        if x.attr1 == standard and x.attr2 == topic and x.attr3 == grade_level:\n",
    "            print(x.print_question(), x.print_choices())\n",
    "            num_questions = num_questions -1 \n",
    "        else:\n",
    "            pass"
   ]
  },
  {
   "cell_type": "code",
   "execution_count": 18,
   "id": "cc635b68-396b-4ca0-8450-71a2c9dbe9f9",
   "metadata": {},
   "outputs": [
    {
     "data": {
      "image/png": "[encoded data removed]",
      "text/plain": [
       "<Figure size 640x480 with 1 Axes>"
      ]
     },
     "metadata": {},
     "output_type": "display_data"
    }
   ],
   "source": [
    "days = ['Sunday', 'Monday', 'Tuesday', 'Wednesday']\n",
    "day1= random.randint(0,70)\n",
    "day2=random.randint(0,70)\n",
    "day3=random.randint(0,70)\n",
    "day4=random.randint(0,70)\n",
    "temperatures = [day1, day2, day3, day4]\n",
    "\n",
    "\n",
    "plt.plot(days, temperatures)\n",
    "plt.title('Morning Temperature')\n",
    "plt.xlabel('Day')\n",
    "plt.ylabel('Temperature (Degrees F)')\n",
    "plt.show()"
   ]
  },
  {
   "cell_type": "code",
   "execution_count": 13,
   "id": "b052bb52-4eea-40df-bbf7-130bc54b7127",
   "metadata": {},
   "outputs": [],
   "source": [
    "import numpy as np"
   ]
  },
  {
   "cell_type": "code",
   "execution_count": 27,
   "id": "ee463843-4380-4d09-b264-530470b9bcdb",
   "metadata": {},
   "outputs": [],
   "source": [
    "def closest_value(input_list, input_value):\n",
    "    arr = np.asarray(input_list)\n",
    "    i = (np.abs(arr-input_value)).argmin()\n",
    "    return i"
   ]
  },
  {
   "cell_type": "code",
   "execution_count": 30,
   "id": "c134c07b-9cd4-44e8-b1e2-4f607854c837",
   "metadata": {},
   "outputs": [
    {
     "data": {
      "text/plain": [
       "'Sunday'"
      ]
     },
     "execution_count": 30,
     "metadata": {},
     "output_type": "execute_result"
    }
   ],
   "source": [
    "i =closest_value(, 70)\n",
    "Day[i]"
   ]
  },
  {
   "cell_type": "code",
   "execution_count": null,
   "id": "0bca5f2a-e282-420c-943d-41ac655b37a8",
   "metadata": {},
   "outputs": [],
   "source": []
  }
 ],
 "metadata": {
  "kernelspec": {
   "display_name": "Python 3 (ipykernel)",
   "language": "python",
   "name": "python3"
  },
  "language_info": {
   "codemirror_mode": {
    "name": "ipython",
    "version": 3
   },
   "file_extension": ".py",
   "mimetype": "text/x-python",
   "name": "python",
   "nbconvert_exporter": "python",
   "pygments_lexer": "ipython3",
   "version": "3.10.6"
  }
 },
 "nbformat": 4,
 "nbformat_minor": 5
}
