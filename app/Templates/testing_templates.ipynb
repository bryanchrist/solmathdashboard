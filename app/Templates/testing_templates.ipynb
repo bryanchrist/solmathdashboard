{
 "cells": [
  {
   "cell_type": "markdown",
   "id": "f0762ac7-93e8-4887-afda-0b228b85f315",
   "metadata": {},
   "source": [
    "# Testing Environment for Python Templates\n",
    "\n",
    "### General notes\n",
    "- Need to build in multiple choice\n",
    "- Need to build in repeating question if they get it wrong\n",
    "- Fraction questions are still a bit too hard\n",
    "- How to tell python to format certain answers as a string versus number inputs"
   ]
  },
  {
   "cell_type": "code",
   "execution_count": 1,
   "id": "ff334042-9778-4585-9ce8-ce839cbe35e7",
   "metadata": {},
   "outputs": [],
   "source": [
    "import templates\n",
    "import random\n",
    "import inspect\n",
    "import math"
   ]
  },
  {
   "cell_type": "code",
   "execution_count": 2,
   "id": "b3e96d06-5890-478d-9c14-02e9fd883386",
   "metadata": {},
   "outputs": [],
   "source": [
    "x = templates.g4_algebra_make_equation_true()"
   ]
  },
  {
   "cell_type": "code",
   "execution_count": 3,
   "id": "9873bea4-f6f0-4448-a1ca-23a9b5b8733e",
   "metadata": {},
   "outputs": [
    {
     "data": {
      "text/plain": [
       "'Which number makes this equation true? 4 X ___ = 44'"
      ]
     },
     "execution_count": 3,
     "metadata": {},
     "output_type": "execute_result"
    }
   ],
   "source": [
    "x.print_question()"
   ]
  },
  {
   "cell_type": "code",
   "execution_count": 4,
   "id": "db0fdd10-124c-4b99-aa2d-09716b1fb336",
   "metadata": {},
   "outputs": [
    {
     "data": {
      "text/plain": [
       "'You got the right answer. Nice work!'"
      ]
     },
     "execution_count": 4,
     "metadata": {},
     "output_type": "execute_result"
    }
   ],
   "source": [
    "x.student_answer(11)"
   ]
  },
  {
   "cell_type": "code",
   "execution_count": 6,
   "id": "5a16c606-f608-4669-82a5-87d521bb8ea4",
   "metadata": {},
   "outputs": [
    {
     "name": "stdout",
     "output_type": "stream",
     "text": [
      "Which number makes this equation true? 3 X ___ = 30\n",
      "Which number is a common factor of 72, 63, and 54?\n",
      "13.4 + 10.3 = ___\n",
      "Nyzir drinks 1.84 liters of Gatorade. Katie drinks 0.999 liter of Gatorade. How much more Gatorade does Nyzir drink than Katie?\n",
      "Tyrek ran a total of 74 minutes in a 2-day period. He ran the same number of minutes each day. What is the closest to the number of minutes Tyrek ran each day?\n",
      "Which division statement represents 6/8?\n",
      "What is the sum of 3/3 and 9/3?\n",
      "What is the difference between 7/48 and 3/24?\n",
      "What is the least common multiple of 20 and 36?\n",
      "Robin has 15 bags of 19 Skittles. Sam has 2 bags of 15 Skittles. How many Skittles do they have altogether?\n",
      "Gina has 19 bags of 15 Pretzels. How many Pretzels does she have?\n",
      "Tyrek has 9 profiles with 16 Fornite skins. How many Fornite skins does he have?\n",
      "Nyzir has 11 bags of 5 Pretzels. How many Pretzels does he have?\n",
      "Katie sold 595 Girlscout cookie boxes. Each box cost $9. What was the total cost of all the Girlscout cookie boxes sold?\n",
      "Nyzir does 27 sit-ups 3 times per day. What is the total number of sit-ups Nyzir does in 8 days?\n",
      "What is the product of 58 and 92?\n",
      "Denari poured 8 ounces of Gatorade into each of 16 glasses. Exactly how many ounces of Gatorade did Denari pour into all of these glasses?\n",
      "Use grouping to find 7 X 8.\n",
      "What is the difference between 3077 and 305?\n",
      "At a store, Girlscout cookie boxes cost $19 each. Which is closest to the total cost of 58 Girlscout cookie boxes?\n",
      "Which figure has less than four angles?\n",
      "Denari has 8 gallons of Gatorade. What is the total number of pints of Gatorade she has?\n",
      "4 meters = ___ centimeters\n",
      "Denari's turtle weighed 3 pounds. What is the total number of ounces Denari's turtle weighed?\n",
      "A basketball team left the school at 3:11 P.M. and returned at 9:33 P.M. What was the total amount of time that passed between the time this team left and returned to the school?\n",
      "('The table shows the time it took 4 students to run a 40 meter race. Which time was the slowest time?',      Name  Time (in seconds)\n",
      "0   Nyzir              13.37\n",
      "1  Denari              13.29\n",
      "2   Tyrek              13.14\n",
      "3   Flora              13.49)\n",
      "How is 3.57 written in words?\n",
      "Which of the four following numbers is smallest? 13.69, 13.83, 13.59, 13.24\n",
      "What digit is in the hundredths place in 17.5?\n",
      "Which number, when rounded to the nearest hundredth, is equal to 9.42?\n",
      "Order these fractions from least to greatest: 7/5, 4/5, 3/5\n",
      "Identify the place value for each digit in the number 188,510.\n",
      "What is 5,713,117 rounded to the nearest million?\n"
     ]
    },
    {
     "data": {
      "text/plain": [
       "[templates.g4_algebra_make_equation_true,\n",
       " templates.g4_computation_common_factor_word_problem,\n",
       " templates.g4_computation_decimal_addition,\n",
       " templates.g4_computation_decimal_subtraction_drinks,\n",
       " templates.g4_computation_division_running_problem,\n",
       " templates.g4_computation_division_statement,\n",
       " templates.g4_computation_fraction_addition,\n",
       " templates.g4_computation_fraction_subtraction,\n",
       " templates.g4_computation_lcm_word_problem,\n",
       " templates.g4_computation_multiplication_double_bags,\n",
       " templates.g4_computation_multiplication_female_bags,\n",
       " templates.g4_computation_multiplication_fortnite,\n",
       " templates.g4_computation_multiplication_male_bags,\n",
       " templates.g4_computation_multiplication_selling_items,\n",
       " templates.g4_computation_multiplication_situps,\n",
       " templates.g4_computation_multiplication_two_digit_word_problem,\n",
       " templates.g4_computation_multiplication_with_drinks,\n",
       " templates.g4_computation_multplication_specific_method,\n",
       " templates.g4_computation_subtraction_word_problem,\n",
       " templates.g4_estimation_multiplication_store,\n",
       " templates.g4_geometry_shapes_four_angles,\n",
       " templates.g4_measurement_gallons_to_pints,\n",
       " templates.g4_measurement_meters_to_millimeters,\n",
       " templates.g4_measurement_pounds_to_ounces,\n",
       " templates.g4_measurement_time_elapsed_sports_team,\n",
       " templates.g4_number_sense__comparison_running_table,\n",
       " templates.g4_number_sense_decimal_in_words,\n",
       " templates.g4_number_sense_decimal_largest_value,\n",
       " templates.g4_number_sense_decimal_place_value,\n",
       " templates.g4_number_sense_decimal_round_hundredth,\n",
       " templates.g4_number_sense_fraction_ordering,\n",
       " templates.g4_number_sense_place_value_big_number,\n",
       " templates.g4_number_sense_round_big_number]"
      ]
     },
     "execution_count": 6,
     "metadata": {},
     "output_type": "execute_result"
    }
   ],
   "source": [
    "classes = []\n",
    "for name, obj in inspect.getmembers(templates):\n",
    "    if inspect.isclass(obj):\n",
    "        classes.append(obj)\n",
    "\n",
    "for i in classes:\n",
    "    x = i()\n",
    "    print(x.print_question())\n",
    "\n",
    "classes"
   ]
  },
  {
   "cell_type": "code",
   "execution_count": 5,
   "id": "120f47a7-1d89-4dae-9e6f-731ca9e665f2",
   "metadata": {},
   "outputs": [
    {
     "data": {
      "text/plain": [
       "1.089"
      ]
     },
     "execution_count": 5,
     "metadata": {},
     "output_type": "execute_result"
    }
   ],
   "source": [
    "x.answer"
   ]
  },
  {
   "cell_type": "code",
   "execution_count": 61,
   "id": "f6b60f68-4d68-439e-bcaf-0088422b3ff4",
   "metadata": {},
   "outputs": [],
   "source": [
    "class Dog:\n",
    "\n",
    "    def __init__(self):\n",
    "    \n",
    "        self.tricks = random.randint(1,10) \n",
    "        self.number = random.randint(1,10)\n",
    "        self.answer = self.tricks * self.number# creates a new empty list for each dog\n",
    "\n",
    "    def add_trick(self, trick):\n",
    "        self.tricks.append(trick)\n"
   ]
  },
  {
   "cell_type": "code",
   "execution_count": 62,
   "id": "a94e9e17-a820-4472-acb1-fe5b31931c0e",
   "metadata": {},
   "outputs": [],
   "source": [
    "d = Dog()"
   ]
  },
  {
   "cell_type": "code",
   "execution_count": 63,
   "id": "866b1587-2189-4545-9075-d1ad27fb9a61",
   "metadata": {},
   "outputs": [
    {
     "data": {
      "text/plain": [
       "7"
      ]
     },
     "execution_count": 63,
     "metadata": {},
     "output_type": "execute_result"
    }
   ],
   "source": [
    "d.number"
   ]
  },
  {
   "cell_type": "code",
   "execution_count": 64,
   "id": "6b1b6022-f0e7-45e4-a24c-ee0d9a56e2c3",
   "metadata": {},
   "outputs": [
    {
     "data": {
      "text/plain": [
       "42"
      ]
     },
     "execution_count": 64,
     "metadata": {},
     "output_type": "execute_result"
    }
   ],
   "source": [
    "d.answer"
   ]
  },
  {
   "cell_type": "code",
   "execution_count": 3,
   "id": "e9d0466f-6253-407e-925e-c8b5073dc10c",
   "metadata": {},
   "outputs": [
    {
     "ename": "NameError",
     "evalue": "name 'd' is not defined",
     "output_type": "error",
     "traceback": [
      "\u001b[0;31m---------------------------------------------------------------------------\u001b[0m",
      "\u001b[0;31mNameError\u001b[0m                                 Traceback (most recent call last)",
      "Cell \u001b[0;32mIn [3], line 1\u001b[0m\n\u001b[0;32m----> 1\u001b[0m \u001b[43md\u001b[49m\u001b[38;5;241m.\u001b[39mprint_question()\n",
      "\u001b[0;31mNameError\u001b[0m: name 'd' is not defined"
     ]
    }
   ],
   "source": [
    "d.print_question()"
   ]
  },
  {
   "cell_type": "code",
   "execution_count": 4,
   "id": "fd2a634d-85f8-44e7-8f00-0b85e45d3ddf",
   "metadata": {},
   "outputs": [
    {
     "ename": "NameError",
     "evalue": "name 'd' is not defined",
     "output_type": "error",
     "traceback": [
      "\u001b[0;31m---------------------------------------------------------------------------\u001b[0m",
      "\u001b[0;31mNameError\u001b[0m                                 Traceback (most recent call last)",
      "Cell \u001b[0;32mIn [4], line 1\u001b[0m\n\u001b[0;32m----> 1\u001b[0m \u001b[43md\u001b[49m\u001b[38;5;241m.\u001b[39mstudent_answer(\u001b[38;5;241m80\u001b[39m)\n",
      "\u001b[0;31mNameError\u001b[0m: name 'd' is not defined"
     ]
    }
   ],
   "source": [
    "d.student_answer(80)"
   ]
  },
  {
   "cell_type": "code",
   "execution_count": 18,
   "id": "539e06f0-83d7-40d3-a0e6-d4737f04b82e",
   "metadata": {},
   "outputs": [
    {
     "ename": "AttributeError",
     "evalue": "'g4_computation_multplication_specific_method' object has no attribute 'answer'",
     "output_type": "error",
     "traceback": [
      "\u001b[0;31m---------------------------------------------------------------------------\u001b[0m",
      "\u001b[0;31mAttributeError\u001b[0m                            Traceback (most recent call last)",
      "Cell \u001b[0;32mIn [18], line 1\u001b[0m\n\u001b[0;32m----> 1\u001b[0m \u001b[43md\u001b[49m\u001b[38;5;241;43m.\u001b[39;49m\u001b[43mstudent_answer\u001b[49m\u001b[43m(\u001b[49m\u001b[38;5;241;43m6\u001b[39;49m\u001b[43m)\u001b[49m\n",
      "Cell \u001b[0;32mIn [8], line 9\u001b[0m, in \u001b[0;36mg4_computation_multplication_specific_method.student_answer\u001b[0;34m(self, student_answer)\u001b[0m\n\u001b[1;32m      8\u001b[0m \u001b[38;5;28;01mdef\u001b[39;00m \u001b[38;5;21mstudent_answer\u001b[39m(\u001b[38;5;28mself\u001b[39m, student_answer):\n\u001b[0;32m----> 9\u001b[0m     \u001b[38;5;28;01mif\u001b[39;00m student_answer \u001b[38;5;241m==\u001b[39m \u001b[38;5;28;43mself\u001b[39;49m\u001b[38;5;241;43m.\u001b[39;49m\u001b[43manswer\u001b[49m:\n\u001b[1;32m     10\u001b[0m         \u001b[38;5;28;01mreturn\u001b[39;00m \u001b[38;5;124m\"\u001b[39m\u001b[38;5;124mYou got the right answer. Nice work!\u001b[39m\u001b[38;5;124m\"\u001b[39m\n\u001b[1;32m     11\u001b[0m     \u001b[38;5;28;01mif\u001b[39;00m student_answer\u001b[38;5;241m!=\u001b[39m \u001b[38;5;28mself\u001b[39m\u001b[38;5;241m.\u001b[39manswer:\n",
      "\u001b[0;31mAttributeError\u001b[0m: 'g4_computation_multplication_specific_method' object has no attribute 'answer'"
     ]
    }
   ],
   "source": [
    "d.student_answer(6)"
   ]
  },
  {
   "cell_type": "code",
   "execution_count": 7,
   "id": "0a2391d5-6f12-4d39-834e-3c3336e90e07",
   "metadata": {},
   "outputs": [
    {
     "data": {
      "text/plain": [
       "'Use pizza to find 5 X 7.'"
      ]
     },
     "execution_count": 7,
     "metadata": {},
     "output_type": "execute_result"
    }
   ],
   "source": [
    "r.print_question()"
   ]
  },
  {
   "cell_type": "code",
   "execution_count": 9,
   "id": "acee5288-b453-4a0b-84a2-128bd3cc6817",
   "metadata": {},
   "outputs": [],
   "source": [
    "x = templates.g4_computation_multplication_specific_method()"
   ]
  },
  {
   "cell_type": "code",
   "execution_count": 10,
   "id": "082a08ef-a797-42cb-8f4f-be2a493c2ebb",
   "metadata": {},
   "outputs": [
    {
     "data": {
      "text/plain": [
       "'Use the standard algorithm to find 3 X 2.'"
      ]
     },
     "execution_count": 10,
     "metadata": {},
     "output_type": "execute_result"
    }
   ],
   "source": [
    "x.print_question()"
   ]
  },
  {
   "cell_type": "code",
   "execution_count": 11,
   "id": "9c89e133-49d4-4c58-9e49-62239c1dea06",
   "metadata": {},
   "outputs": [
    {
     "data": {
      "text/plain": [
       "'You got the right answer. Nice work!'"
      ]
     },
     "execution_count": 11,
     "metadata": {},
     "output_type": "execute_result"
    }
   ],
   "source": [
    "x.student_answer(6)"
   ]
  },
  {
   "cell_type": "code",
   "execution_count": 5,
   "id": "4623e4ce-dae7-448b-a75e-3ed83123eabd",
   "metadata": {},
   "outputs": [],
   "source": [
    "class g4_computation_multplication_specific_method():\n",
    "    def __init__(self):\n",
    "        \n",
    "        number1 = random.randint(2, 10)\n",
    "        number2 = random.randint(2, 10)\n",
    "        self.answer = number1 * number2\n",
    "        self.question= \"Use {method} to find {number1} X {number2}.\".format(method = 'random.choice(methods)', number1 = number1, number2 = number2)\n",
    "    \n",
    "    def print_question(self):\n",
    "        return self.question\n",
    "    \n",
    "    def student_answer(self, student_answer):\n",
    "        if student_answer == self.answer:\n",
    "            return \"You got the right answer. Nice work!\"\n",
    "        if student_answer!= self.answer:\n",
    "            return \"Your answer is incorrect. Please try again!\""
   ]
  },
  {
   "cell_type": "code",
   "execution_count": 6,
   "id": "49f839d9-29b8-4d56-9dcb-6ba80fe7dcea",
   "metadata": {},
   "outputs": [],
   "source": [
    "d = g4_computation_multplication_specific_method()"
   ]
  },
  {
   "cell_type": "code",
   "execution_count": 7,
   "id": "16877f65-db63-4c85-a455-0273eb52cfbb",
   "metadata": {},
   "outputs": [
    {
     "data": {
      "text/plain": [
       "'Use random.choice(methods) to find 2 X 3.'"
      ]
     },
     "execution_count": 7,
     "metadata": {},
     "output_type": "execute_result"
    }
   ],
   "source": [
    "d.print_question()"
   ]
  },
  {
   "cell_type": "code",
   "execution_count": 107,
   "id": "df0b2104-d3ab-49ca-9e08-9fa2905581bb",
   "metadata": {},
   "outputs": [
    {
     "data": {
      "text/plain": [
       "'You got the right answer. Nice work!'"
      ]
     },
     "execution_count": 107,
     "metadata": {},
     "output_type": "execute_result"
    }
   ],
   "source": [
    "d.student_answer(20)"
   ]
  },
  {
   "cell_type": "code",
   "execution_count": null,
   "id": "399dd57b-5c5a-4f13-bcc6-78c7cdffc07d",
   "metadata": {},
   "outputs": [],
   "source": []
  }
 ],
 "metadata": {
  "kernelspec": {
   "display_name": "Python 3 (ipykernel)",
   "language": "python",
   "name": "python3"
  },
  "language_info": {
   "codemirror_mode": {
    "name": "ipython",
    "version": 3
   },
   "file_extension": ".py",
   "mimetype": "text/x-python",
   "name": "python",
   "nbconvert_exporter": "python",
   "pygments_lexer": "ipython3",
   "version": "3.10.6"
  }
 },
 "nbformat": 4,
 "nbformat_minor": 5
}
